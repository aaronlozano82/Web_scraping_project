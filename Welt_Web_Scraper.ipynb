{
  "nbformat": 4,
  "nbformat_minor": 0,
  "metadata": {
    "colab": {
      "name": "Welt_Web_Scraper.ipynb",
      "provenance": [],
      "collapsed_sections": [
        "HcOlndfh9XwA"
      ],
      "toc_visible": true,
      "machine_shape": "hm",
      "include_colab_link": true
    },
    "kernelspec": {
      "name": "python3",
      "display_name": "Python 3"
    }
  },
  "cells": [
    {
      "cell_type": "markdown",
      "metadata": {
        "id": "view-in-github",
        "colab_type": "text"
      },
      "source": [
        "<a href=\"https://colab.research.google.com/github/este7734/Web_scraping_project/blob/master/Welt_Web_Scraper.ipynb\" target=\"_parent\"><img src=\"https://colab.research.google.com/assets/colab-badge.svg\" alt=\"Open In Colab\"/></a>"
      ]
    },
    {
      "cell_type": "markdown",
      "metadata": {
        "id": "Bps20joHXZod",
        "colab_type": "text"
      },
      "source": [
        "# <font color='orange'> Welt Web Scraper </font>\n",
        "\n",
        "---\n",
        "\n"
      ]
    },
    {
      "cell_type": "markdown",
      "metadata": {
        "id": "DWXpudN7R3Qc",
        "colab_type": "text"
      },
      "source": [
        "## Import Dependencies"
      ]
    },
    {
      "cell_type": "code",
      "metadata": {
        "colab_type": "code",
        "id": "_F9Q7Td-sRVi",
        "colab": {
          "base_uri": "https://localhost:8080/",
          "height": 68
        },
        "outputId": "a0a0133b-3722-4980-b0df-03599c351fe6"
      },
      "source": [
        "# Import libraries for processing web text\n",
        "from bs4 import BeautifulSoup\n",
        "import requests\n",
        "\n",
        "from textblob import TextBlob\n",
        "import numpy as np\n",
        "import matplotlib.pyplot as plt\n",
        "import pandas as pd\n",
        "from lxml import html\n",
        "\n",
        "# Import these dependencies if using Google Colab \n",
        "import nltk\n",
        "nltk.download('punkt')"
      ],
      "execution_count": 2,
      "outputs": [
        {
          "output_type": "stream",
          "text": [
            "[nltk_data] Downloading package punkt to /root/nltk_data...\n",
            "[nltk_data]   Unzipping tokenizers/punkt.zip.\n"
          ],
          "name": "stdout"
        },
        {
          "output_type": "execute_result",
          "data": {
            "text/plain": [
              "True"
            ]
          },
          "metadata": {
            "tags": []
          },
          "execution_count": 2
        }
      ]
    },
    {
      "cell_type": "markdown",
      "metadata": {
        "id": "nLQoyopg1oiY",
        "colab_type": "text"
      },
      "source": [
        "## Define All Functions"
      ]
    },
    {
      "cell_type": "code",
      "metadata": {
        "colab_type": "code",
        "cellView": "form",
        "id": "mh-Z_yZsENF2",
        "colab": {}
      },
      "source": [
        "#@title Functions Hidden\n",
        "# Get content of the webpage in an html string format by passing a url \n",
        "def get_html(url):\n",
        "    page = requests.get(url)\n",
        "    html_out = html.fromstring(page.content)\n",
        "    text = page.text\n",
        "    return html_out, text\n",
        "\n",
        "# Convert html into soup to enable soup menthods\n",
        "def get_soup(html_string):\n",
        "    soup = BeautifulSoup(html_string, 'html.parser')\n",
        "    return soup\n",
        "\n",
        "# Extract hyperlinks from soup\n",
        "def get_soup_links(soup):\n",
        "    links = []\n",
        "    for link in soup.find_all('a'):\n",
        "        out_link = link.get('href')\n",
        "        links.append(out_link)\n",
        "    return links\n",
        "\n",
        "# This function is for use with only the Topic pages on reuters.com\n",
        "# Search through ALL links and filter for only those that are for actual articles\n",
        "# links are formatted differently \n",
        "def get_articles_reuters_topics(links, old_url_set):\n",
        "    articles = []\n",
        "    for link in links:\n",
        "        try:\n",
        "            if 'https://www.welt.de' not in link:\n",
        "                if 'article' in link:\n",
        "                  link = 'https://www.welt.de' + link\n",
        "                  if url_check(old_url_set, link) == False:\n",
        "                    articles.append(link)\n",
        "        except:\n",
        "            continue\n",
        "    articles = list(set(articles))\n",
        "    old_url_set = set(articles + list(old_url_set))       \n",
        "    return articles, old_url_set\n",
        "\n",
        "# Check if new urls exists in the old_url_set. if yes, return True; if no, return False\n",
        "# This function is used in the get_articles_reuters_topics function\n",
        "def url_check(old_url_set, url):\n",
        "    url_set = set([url])\n",
        "    test_set = old_url_set & url_set\n",
        "    if len(test_set) == 0:\n",
        "        check = False\n",
        "    else:\n",
        "        check = True\n",
        "    return check\n",
        "\n",
        "# Get html strings from list of article weblinks\n",
        "def get_html_reuters(articles):\n",
        "    soup_list = []\n",
        "    for article in articles:\n",
        "        _, text = get_html(article)\n",
        "        soup = get_soup(text)\n",
        "        soup_list.append(soup)\n",
        "    return soup_list\n",
        "\n",
        "# Break out article_body, article_headline, and article_date from each article in provided hyperlinks and put into a dictionary called: out_list\n",
        "def get_reuters_elements(soup_list, articles):\n",
        "    out_list = []\n",
        "    i = 0\n",
        "    for article in soup_list:\n",
        "        link = articles[i] # I don't think this is used at all here, which means there is no reason to require the second argument: articles\n",
        "        i += 1\n",
        "        try:\n",
        "            article_body = article.find_all(body_class, {'class': body_tag})\n",
        "            article_p = []\n",
        "            for item in article_body:\n",
        "                p_list = item.find_all('p')\n",
        "                for p in p_list:\n",
        "                    article_p.append(p.text)\n",
        "            out_text = ' '.join(article_p)\n",
        "            if out_text == '':\n",
        "              continue\n",
        "            if out_text.startswith('Besondere Reportagen'):\n",
        "              continue\n",
        "            out_dict = dict([('Text',out_text),('url',link)])\n",
        "            out_list.append(out_dict)\n",
        "        except:\n",
        "            print('Unable to decode...skipping article...')\n",
        "            continue\n",
        "\n",
        "    return out_list"
      ],
      "execution_count": 3,
      "outputs": []
    },
    {
      "cell_type": "markdown",
      "metadata": {
        "id": "z_qCIHy31uSJ",
        "colab_type": "text"
      },
      "source": [
        "## Define URL Variables and Run Functions"
      ]
    },
    {
      "cell_type": "markdown",
      "metadata": {
        "id": "pU0yQpNqLwl4",
        "colab_type": "text"
      },
      "source": [
        "<font color='orange'>Step 1.</font> Instantiate `tags and values`. Then instntiate `old_url_set` to be used in the `get_articles_reuters_topics` function. This is a running log of article links that will be compiled by iterating from steps 2 - 3."
      ]
    },
    {
      "cell_type": "code",
      "metadata": {
        "id": "mBqKx4fM92CS",
        "colab_type": "code",
        "cellView": "both",
        "colab": {}
      },
      "source": [
        "# Welt classes and tags\n",
        "body_class = 'div'\n",
        "headline_class = 'h2'\n",
        "date_class = 'div'\n",
        "\n",
        "body_tag = 'c-sticky-container'\n",
        "headline_tag = 'c-headline o-dreifaltigkeit__headline rf-o-headline'\n",
        "date_tag = 'c-container c-container--is-stacked'\n",
        "\n",
        "# Instantiate empty set to use a running list of hyperlinks while \n",
        "# running the scrape iterations\n",
        "old_url_set = set([])"
      ],
      "execution_count": 4,
      "outputs": []
    },
    {
      "cell_type": "markdown",
      "metadata": {
        "id": "KBkhWZ5iMWq9",
        "colab_type": "text"
      },
      "source": [
        "## Scrape Reuters Topics pages for all the most recent news articles. <font color='orange'>*Run Steps 2 - 3 for each instance of `url` variable, before moving on to the next steps*</font>"
      ]
    },
    {
      "cell_type": "markdown",
      "metadata": {
        "id": "URLqBDPwUbRZ",
        "colab_type": "text"
      },
      "source": [
        "<font color='orange'>Step 2.</font> Define variables for each of Reuters main topics pages. Run this cell for each iteration by uncommenting a different url each time."
      ]
    },
    {
      "cell_type": "code",
      "metadata": {
        "id": "P8a1cAaw3PfL",
        "colab_type": "code",
        "colab": {}
      },
      "source": [
        "# Define url variables\n",
        "# NOTE: You must run these individually through the end of this section\n",
        "# I didn't have time to figure out how to loop through all of them properly\n",
        "# There is a section at the very bottom where you can see that I attempted but ran\n",
        "# into a problem on one of the last functions. \n",
        "\n",
        "# Welt Links\n",
        "#url = r'https://www.welt.de/'\n",
        "#url = r'https://www.welt.de/politik/'\n",
        "#url = r'https://www.welt.de/wirtschaft/'\n",
        "#url = r'https://www.welt.de/vermischtes/'\n",
        "#url = r'https://www.welt.de/debatte/'\n",
        "#url = r'https://www.welt.de/wissenschaft/'\n",
        "#url = r'https://www.welt.de/geschichte/'\n",
        "#url = r'https://www.welt.de/sonderthemen/'"
      ],
      "execution_count": 19,
      "outputs": []
    },
    {
      "cell_type": "markdown",
      "metadata": {
        "id": "7qGyTkHR3Tos",
        "colab_type": "text"
      },
      "source": [
        "## Scraper"
      ]
    },
    {
      "cell_type": "markdown",
      "metadata": {
        "id": "Ctx4uUaNM-qy",
        "colab_type": "text"
      },
      "source": [
        "<font color='orange'>Step 3.</font> Get HTML srting from web `url`"
      ]
    },
    {
      "cell_type": "code",
      "metadata": {
        "id": "dJshIC2L4iPA",
        "colab_type": "code",
        "colab": {
          "base_uri": "https://localhost:8080/",
          "height": 51
        },
        "outputId": "0ae32c2b-dcb9-4fa4-9b98-ef12bf91c2e3"
      },
      "source": [
        "# Pass the each instance of `url` variable to return the web page in HTML format and convert it to a string\n",
        "html_string = str(get_html(url))\n",
        "# Pass the HTML string (of the web page) to get its soup\n",
        "soup = get_soup(html_string)\n",
        "# Find ALL links on within the soup\n",
        "links = get_soup_links(soup)\n",
        "# Use this for Topics Pages only\n",
        "# Filter out only those links that are for actual articles. We only want the \"good\" links\n",
        "# This filters out things like links to images and advertisements or non-news worthy pages\n",
        "articles, old_url_set = get_articles_reuters_topics(links, old_url_set)\n",
        "print(len(articles))\n",
        "# Print out the running list of hyperlinks to see how many you have\n",
        "print(len(old_url_set))"
      ],
      "execution_count": 20,
      "outputs": [
        {
          "output_type": "stream",
          "text": [
            "30\n",
            "299\n"
          ],
          "name": "stdout"
        }
      ]
    },
    {
      "cell_type": "code",
      "metadata": {
        "id": "QVSPlGhEnDpo",
        "colab_type": "code",
        "colab": {},
        "cellView": "form"
      },
      "source": [
        "#@title Double-click for entire old_url_set\n",
        "old_url_set = {'https://www.welt.de/Advertorials/deutsche-post-dhl/article206336287/Deutsche-Post-DHL-So-funktioniert-die-Post-von-morgen.html',\n",
        " 'https://www.welt.de/Advertorials/ferienregion-ortlergebiet/article210058295/Der-groesste-Suedtiroler.html',\n",
        " 'https://www.welt.de/Advertorials/geero/article207823039/Radfahren-mit-Geero-Mit-Leichtigkeit-in-den-Sommer-starten.html',\n",
        " 'https://www.welt.de/apps/article118565353/WELT-Edition.html',\n",
        " 'https://www.welt.de/apps/article174576784/Nutzen-Sie-die-WELT-News-App-auf-Ihrem-Smartphone.html',\n",
        " 'https://www.welt.de/debatte/article210247285/Medienschelte-Nicht-viel-von-diesem-Drosten-Vorwurf-hat-Bestand.html',\n",
        " 'https://www.welt.de/debatte/kolumnen/zippert_zappt/article210192303/Zippert-zappt-Schweinefleisch-hat-viele-Gesichter.html',\n",
        " 'https://www.welt.de/debatte/kolumnen/zippert_zappt/article210310795/Zippert-zappt-Versmold-der-Fettfleck-Deutschlands.html',\n",
        " 'https://www.welt.de/debatte/kolumnen/zippert_zappt/article210485081/Zippert-zappt-Tunnel-sollten-immer-zwei-Oeffnungen-haben.html',\n",
        " 'https://www.welt.de/debatte/kommentare/article209801329/Friedensprozess-Weil-Europa-streitet-regiert-in-Libyen-weiter-die-Gewalt.html',\n",
        " 'https://www.welt.de/debatte/kommentare/article210036225/Mobilitaet-Eine-autofreie-Welt-waere-ein-Albtraum.html',\n",
        " 'https://www.welt.de/debatte/kommentare/article210088793/Corona-und-die-Fleischindustrie-Toennies-muss-haften.html',\n",
        " 'https://www.welt.de/debatte/kommentare/article210099459/Brexit-Das-hohle-System-von-Boris-Johnson.html',\n",
        " 'https://www.welt.de/debatte/kommentare/article210123239/Zippert-zappt-Der-Radfahrer-ist-der-irrationalste-Verkehrsteilnehmer-Vor-dem-Pferd.html',\n",
        " 'https://www.welt.de/debatte/kommentare/article210153475/Corona-in-Guetersloh-Chef-Lockerer-Laschet-hat-an-Statur-verloren.html',\n",
        " 'https://www.welt.de/debatte/kommentare/article210240447/Atomwaffen-Wie-Deutschland-sich-zur-Zielscheibe-eines-Angriffs-macht.html',\n",
        " 'https://www.welt.de/debatte/kommentare/article210313779/Corona-Mit-der-Nachlaessigkeit-kommt-die-zweite-Welle.html',\n",
        " 'https://www.welt.de/debatte/kommentare/article210314821/Kritik-an-Armin-Laschet-Wer-Kanzler-werden-will-muss-da-durch.html',\n",
        " 'https://www.welt.de/debatte/kommentare/article210337757/USA-Donald-Trump-ist-vier-Monate-vor-der-Wahl-am-Tiefpunkt.html',\n",
        " 'https://www.welt.de/debatte/kommentare/article210344793/Die-CDU-ist-75-und-braucht-eine-weltliche-Daseinsbegruendung.html',\n",
        " 'https://www.welt.de/debatte/kommentare/article210375109/Guetersloh-Laender-muessen-gemeinsame-Regeln-aufstellen.html',\n",
        " 'https://www.welt.de/debatte/kommentare/article210399541/Deutschland-ein-Albtraum-Nein.html',\n",
        " 'https://www.welt.de/debatte/kommentare/article210430469/Erdogan-und-Menschenrechte-Die-Verfolgung-kritischer-Stimmen-ist-in-der-Tuerkei-Routine.html',\n",
        " 'https://www.welt.de/debatte/kommentare/article210442205/Verfassungsdiskussion-Der-Begriff-Rasse-muss-aus-dem-Grundgesetz-gestrichen-werden.html',\n",
        " 'https://www.welt.de/debatte/kommentare/article210477705/Fussball-und-Corona-Es-lebe-die-Bundesliga.html',\n",
        " 'https://www.welt.de/debatte/kommentare/article210488111/Tierwohl-und-Verbraucher-Das-Fukushima-der-Fleischindustrie.html',\n",
        " 'https://www.welt.de/food/essen/article198125595/Vegetarisch-Grillen-Rezepte-mit-Kaese-und-Gemuese-ohne-Fleisch-Tofu.html',\n",
        " 'https://www.welt.de/food/essen/article210071501/Rezept-Nicht-nur-zum-Grillen-passt-dieses-Gericht.html',\n",
        " 'https://www.welt.de/food/trinken/article206456499/Nur-bei-WELT-Exklusives-Rotwein-Paket-fuer-29-90-statt-55-70-lieferkostenfrei.html',\n",
        " 'https://www.welt.de/geschichte/article192520725/Duell-der-Mignons-1578-Frankreichs-beruehmtestes-Duell-endete-im-Blutbad.html',\n",
        " 'https://www.welt.de/geschichte/article194914723/Versailler-Vertrag-1919-Die-Sieger-kannten-die-Folgen-der-Reparationen.html',\n",
        " 'https://www.welt.de/geschichte/article196419389/Spiele-im-Kolosseum-Die-Roemer-metzelten-Hunderte-wilde-Tiere-nieder.html',\n",
        " 'https://www.welt.de/geschichte/article199067983/Cholera-Epidemie-1866-Der-Tod-begleitete-die-preussische-Armee-vor-Wien.html',\n",
        " 'https://www.welt.de/geschichte/article200553240/Schlacht-von-Poitiers-1356-Englische-Langbogen-gegen-Frankreichs-Ritter.html',\n",
        " 'https://www.welt.de/geschichte/article209302497/Draft-Riots-New-York-Schwarze-wurden-gelyncht-verbrannt-verstuemmelt.html',\n",
        " 'https://www.welt.de/geschichte/article209303929/Schiffskatastrophe-Als-SOS-zum-ersten-Mal-Hunderte-Menschen-rettete.html',\n",
        " 'https://www.welt.de/geschichte/article209351495/Luftbildarchaeologie-So-besetzten-die-Legionen-Britannien.html',\n",
        " 'https://www.welt.de/geschichte/article209376983/Glienicker-Bruecke-Der-groesste-Agentenaustausch-des-Kalten-Krieges.html',\n",
        " 'https://www.welt.de/geschichte/article209383237/Die-grosse-Hure-Weinten-die-Juden-wirklich-an-den-Wassern-von-Babylon.html',\n",
        " 'https://www.welt.de/geschichte/article209404193/Sex-in-Pompeji-Sie-hat-s-hier-mit-2000-netten-Maennern-getrieben.html',\n",
        " 'https://www.welt.de/geschichte/article209434101/Rassenunruhen-Weisser-Lynchmob-bombardierte-Tulsa-mit-Terpentinbaellen.html',\n",
        " 'https://www.welt.de/geschichte/article209439603/Gegen-Jack-Sharkey-1930-Schlag-in-Unterleib-macht-Max-Schmeling-zum-Champion.html',\n",
        " 'https://www.welt.de/geschichte/article209455599/Ludwig-II-von-Bayern-Der-Blick-des-Volkes-besudelt-meine-Schloesser.html',\n",
        " 'https://www.welt.de/geschichte/article209456885/Marengo-1800-Mit-Tricks-und-Faelschungen-gelang-Napoleons-wichtigster-Sieg.html',\n",
        " 'https://www.welt.de/geschichte/article209590525/Seuchen-im-Mittelalter-Lepra-Opfern-blieb-nur-noch-Betteln-und-lautes-Klappern.html',\n",
        " 'https://www.welt.de/geschichte/article209618669/Die-Prohibition-machte-den-Ku-Klux-Klan-zur-Massenbewegung.html',\n",
        " 'https://www.welt.de/geschichte/article209656005/Todesstrafe-am-Bodensee-Sie-wurden-an-einem-Haken-aufgehaengt.html',\n",
        " 'https://www.welt.de/geschichte/article209719369/Legenden-An-der-Freien-Republik-Schwarzenberg-stimmt-fast-nichts.html',\n",
        " 'https://www.welt.de/geschichte/article209753261/Historikerkommission-Wie-braun-war-das-Landwirtschaftsministerium.html',\n",
        " 'https://www.welt.de/geschichte/article209858329/1870-71-Preussens-Truempfe-im-Krieg-gegen-Frankreich.html',\n",
        " 'https://www.welt.de/geschichte/article209924401/Nord-Ostsee-Kanal-Seine-Tiefe-bestimmte-die-Groesse-der-deutschen-Schlachtschiffe.html',\n",
        " 'https://www.welt.de/geschichte/article209925035/Rom-Perser-nutzte-den-Kaiser-als-Fusstritt-und-haeutete-ihn.html',\n",
        " 'https://www.welt.de/geschichte/article210042989/Abriss-1990-Millionengrab-Berliner-Mauer.html',\n",
        " 'https://www.welt.de/geschichte/article210210891/Hinrichtungen-Erst-Sex-mit-dem-Chef-dann-Folter-und-Enthauptung.html',\n",
        " 'https://www.welt.de/geschichte/article210297379/Nordkorea-gegen-Suedkorea-Die-erste-heisse-Schlacht-im-Kalten-Krieg.html',\n",
        " 'https://www.welt.de/geschichte/article210297763/Steinmeier-Villa-Foto-von-Vorbesitzer-Heymann-aufgetaucht.html',\n",
        " 'https://www.welt.de/geschichte/article210374219/Goldene-Zwanziger-Die-Weimarer-Republik-voll-auf-Koks.html',\n",
        " 'https://www.welt.de/geschichte/article210484015/Verschwoerungen-Wurde-Flug-Itavia-870-abgeschossen.html',\n",
        " 'https://www.welt.de/geschichte/raf/article209923765/Linksterrorismus-Extra-Drill-fuer-verwoehnte-Buergerkinder.html',\n",
        " 'https://www.welt.de/geschichte/zweiter-weltkrieg/article193675009/Invasion-1944-Nazi-Deutschland-liess-sich-von-den-Fake-Armeen-taeuschen.html',\n",
        " 'https://www.welt.de/geschichte/zweiter-weltkrieg/article194001949/Hitlers-Plan-1939-Bei-erster-Gelegenheit-Polen-angreifen.html',\n",
        " 'https://www.welt.de/geschichte/zweiter-weltkrieg/article197416213/Operation-Cobra-Normandie-1944-4700-Tonnen-Bomben-ebneten-den-Weg.html',\n",
        " 'https://www.welt.de/geschichte/zweiter-weltkrieg/article208908219/Kriegsende-1945-Wohin-die-Rote-Armee-in-Deutschland-verschwand.html',\n",
        " 'https://www.welt.de/geschichte/zweiter-weltkrieg/article208985201/Auktion-Wehrmachts-Chiffriermaschine-Enigma-erzielt-Sensationspreis.html',\n",
        " 'https://www.welt.de/geschichte/zweiter-weltkrieg/article209239869/Paris-1940-Die-schlimmste-Niederlage-der-franzoesischen-Geschichte.html',\n",
        " 'https://www.welt.de/geschichte/zweiter-weltkrieg/article209456313/Hakenkreuze-ueber-Paris-An-der-Uebermacht-der-Sieger-sollte-kein-Zweifel-bestehen.html',\n",
        " 'https://www.welt.de/geschichte/zweiter-weltkrieg/article209793395/Churchill-Sieg-um-jeden-Preis-Ohne-den-Sieg-gibt-es-kein-Ueberleben.html',\n",
        " 'https://www.welt.de/geschichte/zweiter-weltkrieg/article210108057/Raetsel-Wann-genau-war-Hitler-denn-nun-in-Paris.html',\n",
        " 'https://www.welt.de/gesundheit/article196855895/Muecken-und-Insektenstiche-Bite-Away-Kuehlpads-Co-Das-hilft.html',\n",
        " 'https://www.welt.de/gesundheit/article210205029/Covid-19-Warum-Maenner-haeufiger-sterben.html',\n",
        " 'https://www.welt.de/gesundheit/psychologie/article148606106/Wenn-Jugendliche-ihren-Koerper-zum-Panzer-staehlen.html',\n",
        " 'https://www.welt.de/icon/article209118383/Horoskop-So-wird-das-Wochenende-am-27-und-28-Juni-2020.html',\n",
        " 'https://www.welt.de/icon/partnerschaft/article210157775/Bertelsmann-Studie-Warum-kostet-es-ein-Vermoegen-Mutter-zu-sein.html',\n",
        " 'https://www.welt.de/kaufberatung/haushalt/article209810629/Raeume-kuehlen-Klimaanlage-Co-Tipps-gegen-Hitze-in-der-Wohnung.html',\n",
        " 'https://www.welt.de/kmpkt/article207802377/Deutsch-Quiz-10-Fragen-zur-deutschen-Grammatik.html',\n",
        " 'https://www.welt.de/kmpkt/article208147565/Traeume-werden-von-Umgebungsgeraeuschen-beeinflusst.html',\n",
        " 'https://www.welt.de/kmpkt/article209177169/Hunde-zeigen-ihren-Besitzern-gegenueber-einen-Beschuetzerinstinkt.html',\n",
        " 'https://www.welt.de/kultur/article210437427/Urteil-gegen-Kirill-Serebrennikow-Der-russische-Staat-nimmt-Rache-an-einem-Kuenstler.html',\n",
        " 'https://www.welt.de/kultur/article210487535/Von-extern-Online-Voting-fuer-Wunsch-Tatort-manipuliert-so-reagiert-die-ARD.html',\n",
        " 'https://www.welt.de/marktplatz/article132865764/Einfach-Kunst-kaufen.html',\n",
        " 'https://www.welt.de/mediathek/article163230255/So-empfangen-Sie-WELT-und-N24-Doku-in-Full-HD-Qualitaet.html',\n",
        " 'https://www.welt.de/newsticker/dpa_nt/afxline/topthemen/article210494635/Trump-sagt-Golf-Wochenende-wegen-Anarchisten-ab.html',\n",
        " 'https://www.welt.de/newsticker/dpa_nt/infoline_nt/boulevard_nt/article210245911/Otti-Fischer-hat-seine-Lebensgefaehrtin-geheiratet.html',\n",
        " 'https://www.welt.de/newsticker/dpa_nt/infoline_nt/boulevard_nt/article210259943/TV-Dreharbeiten-in-Corona-Zeiten.html',\n",
        " 'https://www.welt.de/newsticker/dpa_nt/infoline_nt/boulevard_nt/article210291497/Axel-Prahl-hat-geplante-Pause-einfach-vorgezogen.html',\n",
        " 'https://www.welt.de/newsticker/dpa_nt/infoline_nt/boulevard_nt/article210324965/Dennis-Quaid-heiratet-zum-vierten-Mal.html',\n",
        " 'https://www.welt.de/newsticker/dpa_nt/infoline_nt/boulevard_nt/article210325301/Max-Giesinger-Ich-war-schuechtern-und-still.html',\n",
        " 'https://www.welt.de/newsticker/dpa_nt/infoline_nt/boulevard_nt/article210326399/NDW-Star-Markus-heiratet-live-im-Fernsehen.html',\n",
        " 'https://www.welt.de/newsticker/dpa_nt/infoline_nt/boulevard_nt/article210341497/Jennifer-Aniston-hat-unter-Rachel-Green-gelitten.html',\n",
        " 'https://www.welt.de/newsticker/dpa_nt/infoline_nt/boulevard_nt/article210398645/Koenig-Felipe-eilt-zur-Rettung-Mallorcas.html',\n",
        " 'https://www.welt.de/newsticker/dpa_nt/infoline_nt/boulevard_nt/article210409147/Louvre-oeffnet-wieder-Im-Zickzack-zur-Mona-Lisa.html',\n",
        " 'https://www.welt.de/newsticker/dpa_nt/infoline_nt/boulevard_nt/article210415449/Drosten-Podcast-gewinnt-doppelt-beim-Grimme-Online-Award.html',\n",
        " 'https://www.welt.de/newsticker/dpa_nt/infoline_nt/boulevard_nt/article210422435/Dixie-Chicks-aendern-ihren-Namen.html',\n",
        " 'https://www.welt.de/newsticker/dpa_nt/infoline_nt/boulevard_nt/article210426977/Heiko-und-Roman-Lochmann-ueber-ihre-Plaene-als-Musiker.html',\n",
        " 'https://www.welt.de/newsticker/dpa_nt/infoline_nt/boulevard_nt/article210436081/Regisseur-Kirill-Serebrennikow-bleibt-in-Freiheit.html',\n",
        " 'https://www.welt.de/newsticker/dpa_nt/infoline_nt/boulevard_nt/article210439787/Neil-Youngs-Archiv-Trueffel-sind-Homegrown.html',\n",
        " 'https://www.welt.de/newsticker/dpa_nt/infoline_nt/boulevard_nt/article210456655/Vor-25-Jahren-verhuellte-Christo-den-Reichstag.html',\n",
        " 'https://www.welt.de/newsticker/dpa_nt/infoline_nt/boulevard_nt/article210457255/Nolans-Action-Thriller-Tenet-erneut-verschoben.html',\n",
        " 'https://www.welt.de/newsticker/dpa_nt/infoline_nt/boulevard_nt/article210462329/Wenn-im-Zoo-eine-Affenhitze-herrscht.html',\n",
        " 'https://www.welt.de/newsticker/dpa_nt/infoline_nt/boulevard_nt/article210474335/Bob-Dylan-erobert-die-Album-Charts.html',\n",
        " 'https://www.welt.de/newsticker/dpa_nt/infoline_nt/boulevard_nt/article210475219/Rassismus-Debatte-fuehrt-zum-Umdenken.html',\n",
        " 'https://www.welt.de/newsticker/dpa_nt/infoline_nt/boulevard_nt/article210492473/Justin-Bieber-reicht-Verleumdungsklage-ein.html',\n",
        " 'https://www.welt.de/newsticker/dpa_nt/infoline_nt/brennpunkte_nt/article209799791/Studie-Blutgruppe-beeinflusst-Schwere-von-Covid-19-Verlauf.html',\n",
        " 'https://www.welt.de/newsticker/dpa_nt/infoline_nt/brennpunkte_nt/article210366417/Coronavirus-EU-Behoerde-empfiehlt-Einsatz-von-Remdesivir.html',\n",
        " 'https://www.welt.de/newsticker/dpa_nt/infoline_nt/brennpunkte_nt/article210494327/EU-Einreisebeschraenkungen-bleiben-fuer-viele-Laender-bestehen.html',\n",
        " 'https://www.welt.de/newsticker/dpa_nt/infoline_nt/brennpunkte_nt/article210494617/Motivsuche-nach-Messerattacke-in-Glasgow.html',\n",
        " 'https://www.welt.de/newsticker/dpa_nt/infoline_nt/wirtschaft_nt/article210361281/Getreideernte-nur-unter-Durchschnitt.html',\n",
        " 'https://www.welt.de/newsticker/dpa_nt/infoline_nt/wirtschaft_nt/article210368583/Auskunftsrecht-bei-Streit-ums-Geld-erweitert.html',\n",
        " 'https://www.welt.de/newsticker/dpa_nt/infoline_nt/wirtschaft_nt/article210425323/Corona-Krise-bringt-Nike-tief-in-die-roten-Zahlen.html',\n",
        " 'https://www.welt.de/newsticker/dpa_nt/infoline_nt/wirtschaft_nt/article210425631/Deutsche-Bank-meistert-US-Stresstest.html',\n",
        " 'https://www.welt.de/newsticker/dpa_nt/infoline_nt/wirtschaft_nt/article210426257/Ministerin-Kloeckner-will-Fleischmarkt-umkrempeln.html',\n",
        " 'https://www.welt.de/newsticker/dpa_nt/infoline_nt/wirtschaft_nt/article210426639/Mehrwertsteuersenkung-heizt-Preiskampf-bei-Lebensmitteln-an.html',\n",
        " 'https://www.welt.de/newsticker/dpa_nt/infoline_nt/wirtschaft_nt/article210426993/Vonovia-steigt-in-niederlaendischen-Immobilienmarkt-ein.html',\n",
        " 'https://www.welt.de/newsticker/dpa_nt/infoline_nt/wirtschaft_nt/article210427525/Deutlich-mehr-Mineralwasser-produziert.html',\n",
        " 'https://www.welt.de/newsticker/dpa_nt/infoline_nt/wirtschaft_nt/article210428051/KLM-bekommt-staatlichen-Milliardenkredit.html',\n",
        " 'https://www.welt.de/newsticker/dpa_nt/infoline_nt/wirtschaft_nt/article210429425/Wirecard-Philippinen-vermuten-Ex-Vorstand-in-China.html',\n",
        " 'https://www.welt.de/newsticker/dpa_nt/infoline_nt/wirtschaft_nt/article210431779/Dax-schliesst-im-Minus-Anlegerflucht-wegen-Corona-Sorgen.html',\n",
        " 'https://www.welt.de/newsticker/dpa_nt/infoline_nt/wirtschaft_nt/article210434359/Corona-Krise-treibt-Modekette-H-M-in-die-roten-Zahlen.html',\n",
        " 'https://www.welt.de/newsticker/dpa_nt/infoline_nt/wirtschaft_nt/article210453989/Berlin-im-Wirecard-Skandal-unter-Druck-aus-Bruessel.html',\n",
        " 'https://www.welt.de/newsticker/dpa_nt/infoline_nt/wirtschaft_nt/article210457405/RWE-will-keinen-Strom-aus-Datteln-4.html',\n",
        " 'https://www.welt.de/newsticker/dpa_nt/infoline_nt/wirtschaft_nt/article210480611/Wehmut-bei-VW-Werkern-Der-letzte-Verbrenner-aus-Zwickau.html',\n",
        " 'https://www.welt.de/newsticker/dpa_nt/infoline_nt/wirtschaft_nt/boersefrankfurttabelle_nt/article210422559/DAX-Schlusskurse-im-Spaethandel-am-25-06-2020-um-20-30-Uhr.html',\n",
        " 'https://www.welt.de/newsticker/dpa_nt/infoline_nt/wirtschaft_nt/boersefrankfurttabelle_nt/article210448997/DAX-Kurse-im-XETRA-Handel-am-26-06-2020-um-13-05-Uhr.html',\n",
        " 'https://www.welt.de/newsticker/dpa_nt/infoline_nt/wirtschaft_nt/boersefrankfurttabelle_nt/article210485277/DAX-Schlusskurse-im-XETRA-Handel-am-26-06-2020-um-17-55-Uhr.html',\n",
        " 'https://www.welt.de/newsticker/dpa_nt/infoline_nt/wirtschaft_nt/boersefrankfurttabelle_nt/article210492577/DAX-Schlusskurse-im-Spaethandel-am-26-06-2020-um-20-30-Uhr.html',\n",
        " 'https://www.welt.de/newsticker/dpa_nt/infoline_nt/wissenschaft_nt/article209726417/Neuer-Nasa-Rover-startet-im-Juli-zum-Mars.html',\n",
        " 'https://www.welt.de/newsticker/dpa_nt/infoline_nt/wissenschaft_nt/article209796455/Mehr-Infektionen-mit-Vibrionen-erwartet.html',\n",
        " 'https://www.welt.de/newsticker/dpa_nt/infoline_nt/wissenschaft_nt/article209905575/Vermutung-West-Nil-Virus-etabliert-sich-in-Deutschland.html',\n",
        " 'https://www.welt.de/newsticker/dpa_nt/infoline_nt/wissenschaft_nt/article209931491/Aeltere-Kinder-haben-haeufiger-Antikoerper-gegen-Sars-CoV-2.html',\n",
        " 'https://www.welt.de/newsticker/dpa_nt/infoline_nt/wissenschaft_nt/article209991907/Irland-vor-5000-Jahren-Monumentalgraeber-und-Inzest-Dynastie.html',\n",
        " 'https://www.welt.de/newsticker/dpa_nt/infoline_nt/wissenschaft_nt/article210057409/Klimaschutz-Wissenschaftler-fordern-allgemeinen-CO2-Preis.html',\n",
        " 'https://www.welt.de/newsticker/dpa_nt/infoline_nt/wissenschaft_nt/article210088209/Weitere-Kreisstruktur-nahe-Stonehenge-entdeckt.html',\n",
        " 'https://www.welt.de/newsticker/dpa_nt/infoline_nt/wissenschaft_nt/article210127571/Forscher-wollen-Lockdown-Auswirkungen-auf-Tiere-untersuchen.html',\n",
        " 'https://www.welt.de/newsticker/dpa_nt/infoline_nt/wissenschaft_nt/article210214233/Raetselhaftes-Heringssterben-an-der-Nordseekueste.html',\n",
        " 'https://www.welt.de/newsticker/dpa_nt/infoline_nt/wissenschaft_nt/article210214239/Ueberwachungssysteme-scannen-Weltraum-nach-Asteroiden.html',\n",
        " 'https://www.welt.de/newsticker/dpa_nt/infoline_nt/wissenschaft_nt/article210324839/Das-Bett-teilende-Paare-schlafen-besser.html',\n",
        " 'https://www.welt.de/newsticker/dpa_nt/infoline_nt/wissenschaft_nt/article210354419/EU-Entschlossene-Massnahmen-zur-Rettung-der-Meere-noetig.html',\n",
        " 'https://www.welt.de/newsticker/dpa_nt/infoline_nt/wissenschaft_nt/article210355069/Antikoerper-Studie-Viele-Buerger-Ischgls-waren-infiziert.html',\n",
        " 'https://www.welt.de/newsticker/dpa_nt/infoline_nt/wissenschaft_nt/article210355389/Studie-zeigt-dramatischen-Gletscherschwund-in-den-Alpen.html',\n",
        " 'https://www.welt.de/newsticker/dpa_nt/infoline_nt/wissenschaft_nt/article210426207/Studie-Baeume-pflegen-statt-pflanzen.html',\n",
        " 'https://www.welt.de/newsticker/dpa_nt/infoline_nt/wissenschaft_nt/article210426225/Cannabis-kann-Familien-zerstoeren.html',\n",
        " 'https://www.welt.de/newsticker/dpa_nt/infoline_nt/wissenschaft_nt/article210433723/Schwedens-Staatsepidemiologe-wirft-WHO-Fehldeutung-vor.html',\n",
        " 'https://www.welt.de/newsticker/dpa_nt/infoline_nt/wissenschaft_nt/article210457259/Oxford-Forscherin-Gefahr-trotz-Corona-App-nicht-vorbei.html',\n",
        " 'https://www.welt.de/podcasts/deffner-und-zschaepitz/article210179497/Podcast-Kann-Porsche-Deutschlands-Elektro-Ehre-retten.html',\n",
        " 'https://www.welt.de/podcasts/die-macher/article210144485/Podcast-Wie-setzen-Sie-sich-als-Frau-in-Maennerbranche-durch-Frau-Wohlfahrt.html',\n",
        " 'https://www.welt.de/podcasts/gegen-den-corona-koller/article209841469/Podcast-Die-Suche-nach-dem-Corona-Impfstoff-ist-ein-ethischer-Spagat.html',\n",
        " 'https://www.welt.de/podcasts/gegen-den-corona-koller/article210218939/Podcast-Homeoffice-und-Digitalisierung-nach-drei-Monaten-Corona.html',\n",
        " 'https://www.welt.de/podcasts/unsere-kleine-welt/article209885589/Podcast-Nach-der-Corona-Krise-mal-nichts-tun-urlaubsreif.html',\n",
        " 'https://www.welt.de/politik/article210457287/Coronavirus-Merkel-dankt-Bevoelkerung-von-Guetersloh.html',\n",
        " 'https://www.welt.de/politik/ausland/article210361545/Migration-EU-Kommission-will-Vorschlaege-fuer-Dublin-Reform-verschieben.html',\n",
        " 'https://www.welt.de/politik/ausland/article210425909/US-Praesident-Donald-Trump-droht-Statuen-Stuerzern-mit-Vergeltung.html',\n",
        " 'https://www.welt.de/politik/ausland/article210436207/Veruntreuung-Schuldspruch-fuer-russischen-Starregisseur-Serebrennikow.html',\n",
        " 'https://www.welt.de/politik/ausland/article210446011/Coronavirus-USA-Wie-Trump-den-Rekord-bei-Neuinfektionen-kleinredet.html',\n",
        " 'https://www.welt.de/politik/ausland/article210459251/Demo-von-Extinction-Rebellion-auf-dem-Rollfeld-des-Flughafens-Orly.html',\n",
        " 'https://www.welt.de/politik/ausland/article210465819/EU-fehlt-weiter-der-Ueberblick-ueber-gewaltbereiten-Rechtsextremismus.html',\n",
        " 'https://www.welt.de/politik/ausland/article210481871/Merkel-Muessen-ueber-Verhaeltnis-zu-USA-grundsaetzlich-nachdenken.html',\n",
        " 'https://www.welt.de/politik/ausland/article210488001/USA-verhaengen-Visa-Restriktionen-gegen-chinesische-Funktionaere.html',\n",
        " 'https://www.welt.de/politik/ausland/article210492885/USA-Repraesentantenhaus-will-Hauptstadt-Washington-zu-Bundesstaat-machen.html',\n",
        " 'https://www.welt.de/politik/deutschland/article210345941/Corona-in-Guetersloh-Buergermeister-wuenscht-sich-Unterstuetzung-von-Merkel.html',\n",
        " 'https://www.welt.de/politik/deutschland/article210346545/Erstmals-wieder-Anstieg-von-Asylantraegen-in-Europa-Deutschland-als-Ausnahme.html',\n",
        " 'https://www.welt.de/politik/deutschland/article210359589/13-Millionen-Nutzer-Deutschlands-Corona-Warn-App-verschickt-erste-Warnungen.html',\n",
        " 'https://www.welt.de/politik/deutschland/article210364431/Corona-Ausbruch-in-Warendorf-Das-groesste-Risiko-ist-dass-die-Quarantaene-durchbrochen-wird.html',\n",
        " 'https://www.welt.de/politik/deutschland/article210371955/CDU-umgarnt-jetzt-Schwule-und-Lesben.html',\n",
        " 'https://www.welt.de/politik/deutschland/article210384593/Genitalverstuemmelungen-Kein-Wort-das-den-Schmerz-beschreiben-kann.html',\n",
        " 'https://www.welt.de/politik/deutschland/article210397131/AfD-Ist-Andreas-Kalbitz-Mitglied-oder-nicht-Oder-beides.html',\n",
        " 'https://www.welt.de/politik/deutschland/article210417291/Unternehmen-in-NRW-Die-Angst-in-den-Toennies-Sog-zu-geraten.html',\n",
        " 'https://www.welt.de/politik/deutschland/article210426387/Corona-Ausbruch-in-NRW-Laschet-prueft-Haftbarkeit-von-Toennies.html',\n",
        " 'https://www.welt.de/politik/deutschland/article210432777/Stuttgart-Polizei-ermittelt-in-den-eigenen-Reihen-nach-Krawallnacht.html',\n",
        " 'https://www.welt.de/politik/deutschland/article210436159/Ende-Gelaende-Kohlegegner-besetzen-Bagger-in-Garzweiler-und-Jaenschwalde.html',\n",
        " 'https://www.welt.de/politik/deutschland/article210440381/ZDF-Politbarometer-Union-steigt-auf-40-Prozent-Merkel-legt-bei-Beliebtheit-weiter-zu.html',\n",
        " 'https://www.welt.de/politik/deutschland/article210442547/Guetersloh-Arbeiter-wirft-Toennies-Versaeumnisse-bei-der-Corona-Bekaempfung-vor.html',\n",
        " 'https://www.welt.de/politik/deutschland/article210449497/Baden-Wuerttemberg-Schottergaerten-sollen-per-Gesetz-endgueltig-verschwinden.html',\n",
        " 'https://www.welt.de/politik/deutschland/article210459531/Gruene-Habeck-und-Baerbock-erklaeren-ihren-Fuehrungsanspruch.html',\n",
        " 'https://www.welt.de/politik/deutschland/article210474071/Waffen-Sprengstoff-und-Nazi-Literatur-bei-KSK-Soldat-in-Sachsen-gefunden.html',\n",
        " 'https://www.welt.de/regionales/baden-wuerttemberg/article210494533/Hoffenheim-kaempft-in-Dortmund-um-Europa-League-Direktticket.html',\n",
        " 'https://www.welt.de/regionales/bayern/article210494513/Bayern-bekommt-Meisterschale-Augsburg-will-das-Maximale.html',\n",
        " 'https://www.welt.de/regionales/berlin/article210494517/Bussgeld-droht-bei-Verstoessen-gegen-Maskenpflicht.html',\n",
        " 'https://www.welt.de/regionales/hessen/article210494585/Eintracht-Frankfurt-will-siegreichen-Saisonabschluss.html',\n",
        " 'https://www.welt.de/regionales/mecklenburg-vorpommern/article210494591/Hansa-Rostock-vor-Endspiel-in-Wuerzburg-zuversichtlich.html',\n",
        " 'https://www.welt.de/regionales/niedersachsen/article210494553/Werder-Bremen-droht-erster-Bundesliga-Abstieg-seit-40-Jahren.html',\n",
        " 'https://www.welt.de/regionales/nrw/article210494581/Schalke-Fans-demonstrieren-gegen-Toennies.html',\n",
        " 'https://www.welt.de/regionales/sachsen/article210494529/Neue-Synode-der-evangelischen-Landeskirche-konstituiert-sich.html',\n",
        " 'https://www.welt.de/regionales/thueringen/article210494563/Thueringen-will-beim-Erhalt-von-Streuobstwiesen-helfen.html',\n",
        " 'https://www.welt.de/reise/nah/article210399943/Almschule-Erlebnis-Angebote-fuer-Kinder-im-Salzburger-Land.html',\n",
        " 'https://www.welt.de/reise/staedtereisen/article209832711/Parfuem-aus-Koeln-Wie-Koelnisch-Wasser-die-Tuerkei-eroberte.html',\n",
        " 'https://www.welt.de/satire/article210458055/Statt-Fleisch-Toennies-Co-stellen-auf-Billig-Klamotten-um.html',\n",
        " 'https://www.welt.de/services/article122129231/Nutzungsbedingungen-WELT-Digital.html',\n",
        " 'https://www.welt.de/services/article157550705/Datenschutzerklaerung-WELT-DIGITAL.html',\n",
        " 'https://www.welt.de/services/article157911156/Jugendschutz.html',\n",
        " 'https://www.welt.de/services/article7893735/Impressum.html',\n",
        " 'https://www.welt.de/services/article7894222/Kontakt.html',\n",
        " 'https://www.welt.de/sonderthemen/article207886915/Alltag-im-Homeschooling.html',\n",
        " 'https://www.welt.de/sonderthemen/article207903327/Rechte-und-Pflichten-im-Homeoffice.html',\n",
        " 'https://www.welt.de/sonderthemen/article207918393/Gesellschaft-Von-Zuhause-arbeiten-heisst-flexibler-arbeiten.html',\n",
        " 'https://www.welt.de/sonderthemen/article207945927/Kultur-online-waehrend-des-Shutdown.html',\n",
        " 'https://www.welt.de/sonderthemen/article207951797/Neue-Moebel-fuer-ein-mobiles-Leben.html',\n",
        " 'https://www.welt.de/sonderthemen/article208073087/Gewinner-und-Verlierer-der-Krise.html',\n",
        " 'https://www.welt.de/sonderthemen/article208073149/Gastronomie-kaempft-ums-Ueberleben.html',\n",
        " 'https://www.welt.de/sonderthemen/article208073193/Neue-Unternehmen-in-der-Lausitz.html',\n",
        " 'https://www.welt.de/sonderthemen/article208073257/Wiederbeginn-nach-der-Corona-Krise.html',\n",
        " 'https://www.welt.de/sonderthemen/article208079731/Strategien-des-Mittelstandes.html',\n",
        " 'https://www.welt.de/sonderthemen/beethoven/article205072046/Kuenstliche-Intelligenz-soll-Beethovens-legendaere-zehnte-Sinfonie-vollenden.html',\n",
        " 'https://www.welt.de/sonderthemen/beethoven/article205075098/Annaeherung-an-das-Genie-Beethoven.html',\n",
        " 'https://www.welt.de/sonderthemen/beethoven/article205075244/Beethovens-Geburtsstadt-feiert-den-Komponisten-mit-einem-riesigen-Programm.html',\n",
        " 'https://www.welt.de/sonderthemen/beethoven/article205075442/Beethovens-Kampf-gegen-die-Taubheit.html',\n",
        " 'https://www.welt.de/sonderthemen/beethoven/article205078792/Beethovens-Leben-und-Werk.html',\n",
        " 'https://www.welt.de/sonderthemen/beethoven/article205108788/Viele-Plaetze-die-heute-Pilgerstaette-sind-kannte-Beethoven-gar-nicht.html',\n",
        " 'https://www.welt.de/sonderthemen/beethoven/article205175503/Beethoven-und-die-Damen.html',\n",
        " 'https://www.welt.de/sonderthemen/beethoven/article205213005/Beethoven-und-politische-Ideale.html',\n",
        " 'https://www.welt.de/sonderthemen/energiewende/article209522679/Bund-will-EEG-Umlage-bremsen.html',\n",
        " 'https://www.welt.de/sonderthemen/messewirtschaft/article205564425/Coronavirus-sorgt-fuer-leichten-Rueckgang-von-Ausstellern-und-Besuchern-auf-Messen-in-Deutschland.html',\n",
        " 'https://www.welt.de/sonderthemen/messewirtschaft/article206281669/Wegen-COVID-19-finden-weltweit-viele-Messen-nicht-statt-oder-werden-verschoben.html',\n",
        " 'https://www.welt.de/sonderthemen/messewirtschaft/article207072685/Die-Corona-Krise-trifft-Messebauer-schwer-Manche-werden-erfinderisch.html',\n",
        " 'https://www.welt.de/sonderthemen/messewirtschaft/article207731021/Corona-Krise-laehmt-Messewirtschaft-weiter-Die-Branche-fordert-Entscheidungen-von-der-Politik.html',\n",
        " 'https://www.welt.de/sonderthemen/messewirtschaft/article208721429/Analog-trifft-Digital.html',\n",
        " 'https://www.welt.de/sonderthemen/weinland-oesterreich/article208692253/Oesterreichs-beste-Rotweine.html',\n",
        " 'https://www.welt.de/sonderthemen/weinland-oesterreich/article208692619/Kulinarik-und-Sehenswuerdigkeiten-im-Weinviertel.html',\n",
        " 'https://www.welt.de/sonderthemen/weinland-oesterreich/article208692895/Entdeckung-der-Wiener-Weinkultur.html',\n",
        " 'https://www.welt.de/sonderthemen/weinland-oesterreich/article208695059/Oesterreichs-Anbaugebiete-fuer-Riesling.html',\n",
        " 'https://www.welt.de/sonderthemen/weinland-oesterreich/article208713819/Austrias-Erfolge-mit-Weissburgunder-und-Chardonnay.html',\n",
        " 'https://www.welt.de/sonderthemen/weinland-oesterreich/article208718247/Oesterreichs-kulinarische-Vielfalt.html',\n",
        " 'https://www.welt.de/spiele/online-spiele/article1336655/Sudoku.html',\n",
        " 'https://www.welt.de/spiele/online-spiele/article8000221/Kreuzwortraetsel-Taeglich-neue-Fragen.html',\n",
        " 'https://www.welt.de/sport/article210439557/Fussball-Thueringen-hat-erstmals-seit-der-Wende-keinen-Profiklub.html',\n",
        " 'https://www.welt.de/sport/article210457401/Bernie-Ecclestone-In-vielen-Faellen-sind-Schwarze-rassistischer-als-Weisse.html',\n",
        " 'https://www.welt.de/sport/fussball/article210343945/Werder-Bremen-Claudio-Pizarro-Traurigleiser-Abgang-einer-Legende.html',\n",
        " 'https://www.welt.de/sport/fussball/article210430449/FC-Liverpool-Sorry-Gentlemen-Klopp-bricht-Interview-ab-und-geht.html',\n",
        " 'https://www.welt.de/sport/fussball/article210433721/Presse-ueber-Juergen-Klopp-Eine-Maschine-das-war-eine-Vernichtung.html',\n",
        " 'https://www.welt.de/sport/fussball/article210485021/BVB-Hakimi-vor-Wechsel-nach-Italien.html',\n",
        " 'https://www.welt.de/vermischtes/article206504969/Corona-Schwedens-Staatsepidemiologe-Anders-Tegnell-aeussert-erstmals-Selbstkritik.html',\n",
        " 'https://www.welt.de/vermischtes/article206504969/Coronavirus-Alle-Karten-Zahlen-und-Daten-zur-Ausbreitung.html',\n",
        " 'https://www.welt.de/vermischtes/article210043349/Michel-Ruge-7-Tipps-um-den-richtigen-Trainer-fuer-Selbstverteidigung-zu-finden.html',\n",
        " 'https://www.welt.de/vermischtes/article210136605/Spanien-lacht-ueber-Restauration-Diese-Aufwertung-ging-gewaltig-schief.html',\n",
        " 'https://www.welt.de/vermischtes/article210184659/Niedersachsen-Nun-auch-Corona-Infektionen-in-Wiesenhof-Schlachthof-bei-Oldenburg.html',\n",
        " 'https://www.welt.de/vermischtes/article210210675/Trump-will-aus-Deutschland-abgezogene-Truppen-in-Polen-stationieren.html',\n",
        " 'https://www.welt.de/vermischtes/article210213091/Virologe-Christian-Drosten-warnt-vor-zweiter-Corona-Welle.html',\n",
        " 'https://www.welt.de/vermischtes/article210214247/Trotz-Corona-Hundefleisch-Festival-in-China-eroeffnet-Tierschuetzer-warnen.html',\n",
        " 'https://www.welt.de/vermischtes/article210214423/Unwetter-in-der-Tuerkei-Hier-tobt-eine-Wasserhose-vor-Istanbul.html',\n",
        " 'https://www.welt.de/vermischtes/article210214457/Ron-Jeremy-Porno-Star-wegen-mehrfacher-Vergewaltigung-angeklagt.html',\n",
        " 'https://www.welt.de/vermischtes/article210232793/Stiftung-Warentest-Der-teuerste-Sonnenschutz-fuer-Kinder-faellt-durch.html',\n",
        " 'https://www.welt.de/vermischtes/article210237757/Sea-Watch-3-Mehrere-Migranten-in-Italien-positiv-auf-Corona-getestet.html',\n",
        " 'https://www.welt.de/vermischtes/article210264379/Koeln-Hessen-Paris-Acht-Festnahmen-bei-Razzia-gegen-Grossfamilie.html',\n",
        " 'https://www.welt.de/vermischtes/article210283443/Nach-Kritik-Sachsen-hebt-Mathe-Abiturnote-um-einen-Punkt-an.html',\n",
        " 'https://www.welt.de/vermischtes/article210323385/USA-Corona-34-700-neue-Faelle-Virus-verbreitet-sich-dramatisch-schnell.html',\n",
        " 'https://www.welt.de/vermischtes/article210401707/Corona-in-Grossbritannien-Briten-ueberrennen-Straende-Gesundheitsminister-droht-mit-Konsequenzen.html',\n",
        " 'https://www.welt.de/vermischtes/article210422461/Podcast-mit-Christian-Drosten-und-Rezo-gewinnen-Grimme-Online-Award.html',\n",
        " 'https://www.welt.de/vermischtes/article210426085/Maybrit-Illner-Erklaerungsversuche-fuer-den-Stuttgarter-Gewaltexzess.html',\n",
        " 'https://www.welt.de/vermischtes/article210432977/Thueringen-Mann-ueberfaehrt-Polizist-mit-Auto-Beamter-schwer-verletzt.html',\n",
        " 'https://www.welt.de/vermischtes/article210438193/Robbie-Williams-schockt-mit-Verschwoerungstheorien-Pizzagate-Co.html',\n",
        " 'https://www.welt.de/vermischtes/article210439025/Schleswig-Holstein-Polizei-verliert-bei-Einsatz-schussbereite-Pistole.html',\n",
        " 'https://www.welt.de/vermischtes/article210462965/Glasgow-Polizei-stoppt-Messerattacke-Verdaechtiger-tot.html',\n",
        " 'https://www.welt.de/vermischtes/article210473165/Von-Argentinien-bis-Bolivien-Heuschrecken-Plage-in-Suedamerika.html',\n",
        " 'https://www.welt.de/vermischtes/article210474961/Mitgliederschwund-Kirchen-beklagen-Rekordzahl-an-Austritten.html',\n",
        " 'https://www.welt.de/wirtschaft/article210335917/Milliardenschwerer-Skandal-Wirecard-stellt-Insolvenzantrag-Aktie-zeitweise-unter-drei-Euro.html',\n",
        " 'https://www.welt.de/wirtschaft/article210340859/Wirecard-Erstmals-ein-insolventes-Unternehmen-im-Dax.html',\n",
        " 'https://www.welt.de/wirtschaft/article210344365/J-D-Power-Tesla-landet-in-US-Qualitaetsstudie-ganz-hinten.html',\n",
        " 'https://www.welt.de/wirtschaft/article210345687/Rentenerhoehung-2021-koennte-im-Westen-ausfallen.html',\n",
        " 'https://www.welt.de/wirtschaft/article210358529/Bayers-Monsanto-Deal-wird-immer-teurer-dumm-aber-ist-er-keineswegs.html',\n",
        " 'https://www.welt.de/wirtschaft/article210374153/Media-and-Games-Invest-Videospiele-boomen-in-der-Krise.html',\n",
        " 'https://www.welt.de/wirtschaft/article210382671/Lachs-Umweltschuetzer-kritisieren-Zuchtmethoden.html',\n",
        " 'https://www.welt.de/wirtschaft/article210399433/Untergang-im-Zeitraffer.html',\n",
        " 'https://www.welt.de/wirtschaft/article210399561/Babyboomer-Paare-wuenschen-sich-oft-gemeinsamen-Renten-Einstieg.html',\n",
        " 'https://www.welt.de/wirtschaft/article210408579/Hauptversammlung-Lufthansa-Aktionaere-stimmen-Staatshilfe-zu.html',\n",
        " 'https://www.welt.de/wirtschaft/article210419827/Lufthansa-Rettung-ist-perfekt-Tickets-werden-binnen-sechs-Wochen-erstattet.html',\n",
        " 'https://www.welt.de/wirtschaft/article210425867/Corona-Stresstest-Fed-verbietet-Banken-vorerst-Aktienrueckkaeufe.html',\n",
        " 'https://www.welt.de/wirtschaft/article210427839/Corona-in-Schlachthoefen-Kritiker-werfen-Kloeckner-Show-Veranstaltung-vor.html',\n",
        " 'https://www.welt.de/wirtschaft/article210448163/Wirecard-Als-erster-Vertragspartner-aeussert-sich-Aldi-zum-Desaster.html',\n",
        " 'https://www.welt.de/wirtschaft/article210473345/Grossbritannien-in-der-Krise-Briten-fuerchten-Ausschreitungen-durch-Lockdown-Muedigkeit.html',\n",
        " 'https://www.welt.de/wirtschaft/article210494589/Facebook-will-fragwuerdige-Trump-Postings-kuenftig-doch-markieren.html',\n",
        " 'https://www.welt.de/wirtschaft/gruenderszene/article209586855/Corona-hat-gezeigt-dass-Homeoffice-den-Bullshit-eliminiert.html',\n",
        " 'https://www.welt.de/wirtschaft/gruenderszene/article209884577/Gorillas-Dieser-Lieferdienst-bringt-Lebensmittel-in-unter-10-Minuten.html',\n",
        " 'https://www.welt.de/wirtschaft/gruenderszene/article209995303/Arbeitsplaetze-Wie-die-Corona-Krise-das-Leben-im-Buero-veraendert.html',\n",
        " 'https://www.welt.de/wirtschaft/karriere/article201427870/Arbeit-als-Rentner-2-Karriere-im-Ruhestand-So-gelingt-sie.html',\n",
        " 'https://www.welt.de/wirtschaft/karriere/article207947649/Handwerksberufe-Wo-Frauen-die-freie-Auswahl-haben.html',\n",
        " 'https://www.welt.de/wirtschaft/karriere/article210332535/Karriereplanung-Warum-Frauen-mutiger-werden-muessen.html',\n",
        " 'https://www.welt.de/wirtschaft/karriere/article210449507/Arbeitsbelastung-So-viel-Urlaubsanspruch-haben-Sie-in-Teilzeit.html',\n",
        " 'https://www.welt.de/wirtschaft/webwelt/article194852057/Laptop-fuer-Studenten-Diese-Notebooks-eignen-sich-fuers-Studium.html',\n",
        " 'https://www.welt.de/wirtschaft/webwelt/article195841795/AirPods-Alternative-Welche-In-Ear-Kopfhoerer-aehneln-dem-Original.html',\n",
        " 'https://www.welt.de/wirtschaft/webwelt/article196987959/Unterwasserkamera-Kameras-die-sich-zum-Tauchen-Schnorcheln-eignen.html',\n",
        " 'https://www.welt.de/wirtschaft/webwelt/article203640208/Airpods-laden-Damit-lassen-sich-die-Apple-AirPods-schnell-versogen.html',\n",
        " 'https://www.welt.de/wirtschaft/webwelt/article205739071/AirPods-Was-liefern-die-AirPods-Pro-im-Vergleich-zu-aelteren-Modellen.html',\n",
        " 'https://www.welt.de/wirtschaft/webwelt/article210437525/Sebastian-Thrun-im-Interview-Flugtaxis-fruehestens-in-fuenf-Jahren.html',\n",
        " 'https://www.welt.de/wirtschaft/webwelt/technik-ratgeber/article193634159/Spiegelreflexkamera-fuer-Einsteiger-Welche-ist-fuer-Anfaenger-ideal.html',\n",
        " 'https://www.welt.de/wissenschaft/article181602834/Stammzellen-Forscher-zuechten-Vorlaeufer-menschlicher-Eizellen-im-Labor.html',\n",
        " 'https://www.welt.de/wissenschaft/article184979528/Gentest-an-Embryonen-Huerden-durch-Ethikkommision-zu-hoch.html',\n",
        " 'https://www.welt.de/wissenschaft/article192988061/Riesenloewe-Simbakubwa-Gross-wie-ein-Nashorn-mit-der-Gestalt-eines-Wolfs.html',\n",
        " 'https://www.welt.de/wissenschaft/article198033885/Von-Teer-und-Maeusen-Das-sind-die-laengsten-Experimente-der-Welt.html',\n",
        " 'https://www.welt.de/wissenschaft/article198805769/Teleportation-Was-sich-mit-dem-Quanteninternet-alles-aendern-wird.html',\n",
        " 'https://www.welt.de/wissenschaft/article198949045/Gehoergangsexostose-Das-Problem-Surfer-Ohr-ist-so-alt-wie-die-Menschheit.html',\n",
        " 'https://www.welt.de/wissenschaft/article209150033/Corona-Studie-Blutgruppe-koennte-Schwere-des-Covid-19-Verlaufs-beeinflussen.html',\n",
        " 'https://www.welt.de/wissenschaft/article209674487/Coronavirus-Kinder-sind-seltener-mit-Covid-19-infiziert-als-ihre-Eltern.html',\n",
        " 'https://www.welt.de/wissenschaft/article209684171/Terahertzwellen-Forscher-entdecken-biologische-Wirkung.html',\n",
        " 'https://www.welt.de/wissenschaft/article209712709/Corona-WHO-feiert-Ergebnisse-zu-Medikament-als-Durchbruch.html',\n",
        " 'https://www.welt.de/wissenschaft/article209790417/Corona-Studie-Oeffentliche-Toiletten-koennten-zur-Verbreitung-beitragen.html',\n",
        " 'https://www.welt.de/wissenschaft/article209808259/Universitaetsklinik-Kiel-Neue-Studie-bestaetigt-Blutgruppe-beeinflusst-Covid-19-Verlauf.html',\n",
        " 'https://www.welt.de/wissenschaft/article209941957/Corona-Forschung-Warum-Wissenschaft-und-Oeffentlichkeit-in-der-Krise-aneinandergeraten.html',\n",
        " 'https://www.welt.de/wissenschaft/article210148427/Jupitermond-Europa-Suche-nach-Biomolekuelen-im-Eis.html',\n",
        " 'https://www.welt.de/wissenschaft/article210167603/Polizeigewalt-in-USA-Neue-Strategien-zur-Deeskalation.html',\n",
        " 'https://www.welt.de/wissenschaft/article210427167/Das-Raetsel-um-die-niedrige-Corona-Sterblichkeit-in-den-Anden.html'}"
      ],
      "execution_count": 22,
      "outputs": []
    },
    {
      "cell_type": "markdown",
      "metadata": {
        "id": "DWBBUihX8R0w",
        "colab_type": "text"
      },
      "source": [
        "## <font color='skyblue'>Parse soup from entire list of hyperlinks that you just accumulated</font>"
      ]
    },
    {
      "cell_type": "markdown",
      "metadata": {
        "id": "M5M5Po9_OWk2",
        "colab_type": "text"
      },
      "source": [
        "<font color='orange'>Step 4.</font> Get soup for every link\n",
        "\n",
        "<font color='orange'>Step 5.</font> Parse the soup for each link into `article_body`, `article_title`, and `article_date`. Create list of dictionaries for each web page\n",
        "\n",
        "<font color='orange'>Step 6.</font> Run `TextBlob` on list of dictionaries to separate all sentences in a single list"
      ]
    },
    {
      "cell_type": "code",
      "metadata": {
        "id": "fZoenVkMIukU",
        "colab_type": "code",
        "cellView": "both",
        "colab": {
          "base_uri": "https://localhost:8080/",
          "height": 136
        },
        "outputId": "60013445-0513-4892-8fc4-cc8d7547d1eb"
      },
      "source": [
        "# Get soup for each one of the \"good\" links\n",
        "url_links = list(old_url_set) # Convert the running set of links to a list for use in the following functions\n",
        "print(f'Length of url_links: {len(url_links)}')\n",
        "len(url_links)\n",
        "\n",
        "soup_list = get_html_reuters(url_links)\n",
        "print(f'Length of Soup List: {len(soup_list)}')\n",
        "#print(soup_list[0])\n",
        "\n",
        "# Parse the soup for each \"good\" link to get article text, title, and date\n",
        "out_list = get_reuters_elements(soup_list, url_links)\n",
        "print(f'Length of out_list: {len(out_list)}')\n",
        "#out_list[0:2]\n",
        "\n",
        "# Translate all articles to English\n",
        "blob_full=[]\n",
        "for i in range(len(out_list)):\n",
        "  try:\n",
        "    blob = out_list[i]['Text']\n",
        "    trans = TextBlob(blob) # Enter string object\n",
        "    trans = trans.translate(to='en')\n",
        "    blob_full.append(trans)\n",
        "    #print('\\n', i+1, '\\n',trans)\n",
        "  except:\n",
        "    print('got an error ...., skipping article....')\n",
        "print(f'\\nYou have {len(blob_full)} total blobs from {i+1} different articles')\n",
        "\n",
        "# Break articles into sentences to conduct keyword search\n",
        "# in next step\n",
        "blob_sentences = []\n",
        "\n",
        "for i in range(len(blob_full)):\n",
        "  for item in blob_full[i].sentences:\n",
        "    blob_sentences.append(item)\n",
        "print(f'\\nYou have {len(blob_sentences)} sentences from {i} different articles')"
      ],
      "execution_count": 23,
      "outputs": [
        {
          "output_type": "stream",
          "text": [
            "Length of url_links: 299\n",
            "Length of Soup List: 299\n",
            "Length of out_list: 298\n",
            "\n",
            "You have 298 total blobs from 298 different articles\n",
            "\n",
            "You have 11799 sentences from 297 different articles\n"
          ],
          "name": "stdout"
        }
      ]
    },
    {
      "cell_type": "markdown",
      "metadata": {
        "id": "-XjoXSZDPHLr",
        "colab_type": "text"
      },
      "source": [
        "This is just a troubleshooting section to ensure you're `TextBlob` came out right. You should see a list of stentences, each starting with the word `Sentence`. Check this before moving to the next step."
      ]
    },
    {
      "cell_type": "code",
      "metadata": {
        "id": "h4fJQzcl5X3h",
        "colab_type": "code",
        "cellView": "form",
        "colab": {}
      },
      "source": [
        "#@title Debugging Section\n",
        "# print the first 6 sentences so you see what it looks like\n",
        "blob_sentences[0]"
      ],
      "execution_count": null,
      "outputs": []
    },
    {
      "cell_type": "markdown",
      "metadata": {
        "id": "tGJmYoaJYF_n",
        "colab_type": "text"
      },
      "source": [
        "## <font color='skyblue'> Keyword Search </font>\n",
        "\n"
      ]
    },
    {
      "cell_type": "markdown",
      "metadata": {
        "colab_type": "text",
        "id": "NzND4i8NmYi5"
      },
      "source": [
        "<font color='orange'>Step 7.</font> Determine key words used to search for event of interest in all the articles"
      ]
    },
    {
      "cell_type": "code",
      "metadata": {
        "id": "2xN0ZSBJ510j",
        "colab_type": "code",
        "colab": {
          "base_uri": "https://localhost:8080/",
          "height": 102
        },
        "outputId": "03a9766c-b22d-4d5b-ebbd-5187644c2015"
      },
      "source": [
        "# Allow user to type in key words to search the text for\n",
        "# Note this is case sensitive... so you need to make sure you enter your search \n",
        "# Try the entering the following to see some results: corona,COVID,death\n",
        "filter_list = input(\"Enter key words to search for separated by commas. don't use spaces.\\nSearch is case sensitive.\\nExample search: coronavirus,COVID,death\\n\\n\") #.title() # This is still a string... not a list yet"
      ],
      "execution_count": 24,
      "outputs": [
        {
          "output_type": "stream",
          "text": [
            "Enter key words to search for separated by commas. don't use spaces.\n",
            "Search is case sensitive.\n",
            "Example search: coronavirus,COVID,death\n",
            "\n",
            "America,United States,USA,U.S.A.,US,U.S.\n"
          ],
          "name": "stdout"
        }
      ]
    },
    {
      "cell_type": "markdown",
      "metadata": {
        "colab_type": "text",
        "id": "3k-ZrsgDma3V"
      },
      "source": [
        "<font color='orange'>Step 8.</font> Convert keywords into an iterable list for use in the next step\n"
      ]
    },
    {
      "cell_type": "code",
      "metadata": {
        "id": "49R1H35B7aH8",
        "colab_type": "code",
        "colab": {
          "base_uri": "https://localhost:8080/",
          "height": 34
        },
        "outputId": "d823e870-84b8-4801-989d-44a968a3c744"
      },
      "source": [
        "# Split filter words and convert into a list for itterating in the next step \n",
        "\n",
        "f = []\n",
        "for word in (filter_list.split(\",\")):  # Split string into separate words, separate by comma\n",
        "  f.append(word)                       # Generate new list containing each key word\n",
        "f # This is now a list of key words that the user typed in"
      ],
      "execution_count": 25,
      "outputs": [
        {
          "output_type": "execute_result",
          "data": {
            "text/plain": [
              "['America', 'United States', 'USA', 'U.S.A.', 'US', 'U.S.']"
            ]
          },
          "metadata": {
            "tags": []
          },
          "execution_count": 25
        }
      ]
    },
    {
      "cell_type": "markdown",
      "metadata": {
        "colab_type": "text",
        "id": "AMSfkDoimd2z"
      },
      "source": [
        "<font color='orange'>Step 9.</font> <font color='skyblue'> Search </font>  All sentences for Key Words and return only those consisting of a key word\n",
        "\n"
      ]
    },
    {
      "cell_type": "code",
      "metadata": {
        "id": "MXjYMd1-LUrT",
        "colab_type": "code",
        "colab": {
          "base_uri": "https://localhost:8080/",
          "height": 445
        },
        "outputId": "a79a1586-2495-4e76-c9e8-2c3cce5129ce"
      },
      "source": [
        "# Instantiate list for holding the sentences\n",
        "sentences = []\n",
        "\n",
        "# Generate empty list of lists to store the sentences with your key words in them\n",
        "for i in range(len(f)):\n",
        "  sentences.append([])\n",
        "#print('Here is what you just made, and empty list of lists: ', sentences, '\\n')\n",
        "\n",
        "# Generate lists of sentences for each key word and plug them into the list of lists from above            \n",
        "for i in range(len(f)):\n",
        "  for sentence in blob_sentences:\n",
        "    if f[i] in sentence:\n",
        "        sentences[i].append(sentence)\n",
        "        \n",
        "# Print number of sentences containing each key word\n",
        "# Print out all sentences containing each key word\n",
        "for i in range(len(f)):\n",
        "  print('='*200)   \n",
        "  print('\\nThere are {} sentences containing the word: {} '.format(len(sentences[i]), f[i])) \n",
        "  print('-'*200)   \n",
        "  #for sentence in sentences[i]:\n",
        "      #print(sentence)\n",
        "\n",
        "# write resulst to text file\n",
        "file_welt = open(\"MyFile_Welt.txt\", \"w\") \n",
        "file_welt.write(str(sentences))\n",
        "file_welt.close()      "
      ],
      "execution_count": 26,
      "outputs": [
        {
          "output_type": "stream",
          "text": [
            "========================================================================================================================================================================================================\n",
            "\n",
            "There are 88 sentences containing the word: America \n",
            "--------------------------------------------------------------------------------------------------------------------------------------------------------------------------------------------------------\n",
            "========================================================================================================================================================================================================\n",
            "\n",
            "There are 53 sentences containing the word: United States \n",
            "--------------------------------------------------------------------------------------------------------------------------------------------------------------------------------------------------------\n",
            "========================================================================================================================================================================================================\n",
            "\n",
            "There are 45 sentences containing the word: USA \n",
            "--------------------------------------------------------------------------------------------------------------------------------------------------------------------------------------------------------\n",
            "========================================================================================================================================================================================================\n",
            "\n",
            "There are 0 sentences containing the word: U.S.A. \n",
            "--------------------------------------------------------------------------------------------------------------------------------------------------------------------------------------------------------\n",
            "========================================================================================================================================================================================================\n",
            "\n",
            "There are 173 sentences containing the word: US \n",
            "--------------------------------------------------------------------------------------------------------------------------------------------------------------------------------------------------------\n",
            "========================================================================================================================================================================================================\n",
            "\n",
            "There are 12 sentences containing the word: U.S. \n",
            "--------------------------------------------------------------------------------------------------------------------------------------------------------------------------------------------------------\n"
          ],
          "name": "stdout"
        }
      ]
    },
    {
      "cell_type": "markdown",
      "metadata": {
        "id": "HcOlndfh9XwA",
        "colab_type": "text"
      },
      "source": [
        "## <font color='black'>Step 10. Store All article data in DataFrame </font>  \n",
        "<font color='grey'>Note: This is not just the filtered data, this contains all information from each web page. While not used in this project, it represents all of the original data used in this run. It can be used for reference.</font> "
      ]
    },
    {
      "cell_type": "code",
      "metadata": {
        "id": "Kjj8Wi-4yOSf",
        "colab_type": "code",
        "colab": {
          "base_uri": "https://localhost:8080/",
          "height": 1000
        },
        "outputId": "c636cc89-6599-4f99-a49b-f29c116d4f11"
      },
      "source": [
        "# Put parsed data into Pandas DataFrame\n",
        "pd.DataFrame(out_list)"
      ],
      "execution_count": null,
      "outputs": [
        {
          "output_type": "execute_result",
          "data": {
            "text/html": [
              "<div>\n",
              "<style scoped>\n",
              "    .dataframe tbody tr th:only-of-type {\n",
              "        vertical-align: middle;\n",
              "    }\n",
              "\n",
              "    .dataframe tbody tr th {\n",
              "        vertical-align: top;\n",
              "    }\n",
              "\n",
              "    .dataframe thead th {\n",
              "        text-align: right;\n",
              "    }\n",
              "</style>\n",
              "<table border=\"1\" class=\"dataframe\">\n",
              "  <thead>\n",
              "    <tr style=\"text-align: right;\">\n",
              "      <th></th>\n",
              "      <th>Text</th>\n",
              "      <th>url</th>\n",
              "    </tr>\n",
              "  </thead>\n",
              "  <tbody>\n",
              "    <tr>\n",
              "      <th>0</th>\n",
              "      <td>75 Jahre, so alt wird die CDU. Daher hat Part...</td>\n",
              "      <td>https://www.welt.de/politik/deutschland/articl...</td>\n",
              "    </tr>\n",
              "    <tr>\n",
              "      <th>1</th>\n",
              "      <td>Wir freuen uns sehr über Ihr Interesse an WELT...</td>\n",
              "      <td>https://www.welt.de/services/article157550705/...</td>\n",
              "    </tr>\n",
              "    <tr>\n",
              "      <th>2</th>\n",
              "      <td>Ein russisches Gericht hat den Starregisseur K...</td>\n",
              "      <td>https://www.welt.de/politik/ausland/article210...</td>\n",
              "    </tr>\n",
              "    <tr>\n",
              "      <th>3</th>\n",
              "      <td>Ein wichtiger Grundstein des Digitalisierungsp...</td>\n",
              "      <td>https://www.welt.de/Advertorials/deutsche-post...</td>\n",
              "    </tr>\n",
              "    <tr>\n",
              "      <th>4</th>\n",
              "      <td>Bei Fragen und Anregungen hilft Ihnen unser Te...</td>\n",
              "      <td>https://www.welt.de/services/article7894222/Ko...</td>\n",
              "    </tr>\n",
              "    <tr>\n",
              "      <th>5</th>\n",
              "      <td>Ein weiterer Corona-Ausbruch in einem Fleisch...</td>\n",
              "      <td>https://www.welt.de/politik/deutschland/articl...</td>\n",
              "    </tr>\n",
              "    <tr>\n",
              "      <th>6</th>\n",
              "      <td>Die Stationierung von US-Soldaten in Deutschla...</td>\n",
              "      <td>https://www.welt.de/politik/ausland/article210...</td>\n",
              "    </tr>\n",
              "    <tr>\n",
              "      <th>7</th>\n",
              "      <td>Eigentlich wollte Innenminister Horst Seehofe...</td>\n",
              "      <td>https://www.welt.de/politik/ausland/article210...</td>\n",
              "    </tr>\n",
              "    <tr>\n",
              "      <th>8</th>\n",
              "      <td>US-Präsident Donald Trump hat den Sturz von St...</td>\n",
              "      <td>https://www.welt.de/politik/ausland/article210...</td>\n",
              "    </tr>\n",
              "    <tr>\n",
              "      <th>9</th>\n",
              "      <td>Lassen Sie sich von einzigartigen Kunstwerken ...</td>\n",
              "      <td>https://www.welt.de/marktplatz/article13286576...</td>\n",
              "    </tr>\n",
              "    <tr>\n",
              "      <th>10</th>\n",
              "      <td>Nach den schweren Ausschreitungen in Stuttgar...</td>\n",
              "      <td>https://www.welt.de/politik/deutschland/articl...</td>\n",
              "    </tr>\n",
              "    <tr>\n",
              "      <th>11</th>\n",
              "      <td>Nun ist sie da: die deutsche Corona-Warn-App....</td>\n",
              "      <td>https://www.welt.de/politik/deutschland/articl...</td>\n",
              "    </tr>\n",
              "    <tr>\n",
              "      <th>12</th>\n",
              "      <td>Neue Details über die Polizeirazzia bei einem ...</td>\n",
              "      <td>https://www.welt.de/politik/deutschland/articl...</td>\n",
              "    </tr>\n",
              "    <tr>\n",
              "      <th>13</th>\n",
              "      <td>Rauf aufs Rad. In die Pedale treten. Sich den ...</td>\n",
              "      <td>https://www.welt.de/Advertorials/geero/article...</td>\n",
              "    </tr>\n",
              "    <tr>\n",
              "      <th>14</th>\n",
              "      <td>Vom Lockdown in den Kreisen Gütersloh und War...</td>\n",
              "      <td>https://www.welt.de/politik/deutschland/articl...</td>\n",
              "    </tr>\n",
              "    <tr>\n",
              "      <th>15</th>\n",
              "      <td>Klimaaktivisten sind laut französischen Medien...</td>\n",
              "      <td>https://www.welt.de/politik/ausland/article210...</td>\n",
              "    </tr>\n",
              "    <tr>\n",
              "      <th>16</th>\n",
              "      <td>Baden-Württemberg will Schottergärten aus der ...</td>\n",
              "      <td>https://www.welt.de/politik/deutschland/articl...</td>\n",
              "    </tr>\n",
              "    <tr>\n",
              "      <th>17</th>\n",
              "      <td>Die Zahl der Genitalverstümmelungen an Frauen...</td>\n",
              "      <td>https://www.welt.de/politik/deutschland/articl...</td>\n",
              "    </tr>\n",
              "    <tr>\n",
              "      <th>18</th>\n",
              "      <td>Axel Springer SE vertreten durch den Vorstand ...</td>\n",
              "      <td>https://www.welt.de/services/article7893735/Im...</td>\n",
              "    </tr>\n",
              "    <tr>\n",
              "      <th>19</th>\n",
              "      <td>Nordrhein-Westfalens Ministerpräsident Armin ...</td>\n",
              "      <td>https://www.welt.de/politik/deutschland/articl...</td>\n",
              "    </tr>\n",
              "    <tr>\n",
              "      <th>20</th>\n",
              "      <td>Das Berliner Landgericht hat den Rauswurf von...</td>\n",
              "      <td>https://www.welt.de/politik/deutschland/articl...</td>\n",
              "    </tr>\n",
              "    <tr>\n",
              "      <th>21</th>\n",
              "      <td>Seit der Flüchtlingskrise im Jahr 2015 sind n...</td>\n",
              "      <td>https://www.welt.de/politik/deutschland/articl...</td>\n",
              "    </tr>\n",
              "    <tr>\n",
              "      <th>22</th>\n",
              "      <td>Nordrhein-Westfalens Ministerpräsident Armin ...</td>\n",
              "      <td>https://www.welt.de/politik/deutschland/articl...</td>\n",
              "    </tr>\n",
              "    <tr>\n",
              "      <th>23</th>\n",
              "      <td>Informativ, hochwertig, traditionell: Die WEL...</td>\n",
              "      <td>https://www.welt.de/apps/article118565353/WELT...</td>\n",
              "    </tr>\n",
              "    <tr>\n",
              "      <th>24</th>\n",
              "      <td>In vielen US-Staaten steigt die Zahl der Infi...</td>\n",
              "      <td>https://www.welt.de/politik/ausland/article210...</td>\n",
              "    </tr>\n",
              "    <tr>\n",
              "      <th>25</th>\n",
              "      <td>Inhaltsverzeichnis 1. Geltungsbereich2. Anbiet...</td>\n",
              "      <td>https://www.welt.de/services/article122129231/...</td>\n",
              "    </tr>\n",
              "    <tr>\n",
              "      <th>26</th>\n",
              "      <td>Das US-Repräsentantenhaus hat in einer Abstimm...</td>\n",
              "      <td>https://www.welt.de/politik/ausland/article210...</td>\n",
              "    </tr>\n",
              "    <tr>\n",
              "      <th>27</th>\n",
              "      <td>Jugendschutz ist auch im Internet unverzichtba...</td>\n",
              "      <td>https://www.welt.de/services/article157911156/...</td>\n",
              "    </tr>\n",
              "    <tr>\n",
              "      <th>28</th>\n",
              "      <td>Kohlegegner haben in der Nacht Bagger im Brau...</td>\n",
              "      <td>https://www.welt.de/politik/deutschland/articl...</td>\n",
              "    </tr>\n",
              "    <tr>\n",
              "      <th>29</th>\n",
              "      <td>Im Streit über die Autonomie Hongkongs verhäng...</td>\n",
              "      <td>https://www.welt.de/politik/ausland/article210...</td>\n",
              "    </tr>\n",
              "    <tr>\n",
              "      <th>30</th>\n",
              "      <td>Vom Lockdown in den Kreisen Gütersloh und War...</td>\n",
              "      <td>https://www.welt.de/politik/deutschland/articl...</td>\n",
              "    </tr>\n",
              "    <tr>\n",
              "      <th>31</th>\n",
              "      <td>In der aktuellen Forsa-Umfrage zeigen die Dat...</td>\n",
              "      <td>https://www.welt.de/politik/deutschland/articl...</td>\n",
              "    </tr>\n",
              "    <tr>\n",
              "      <th>32</th>\n",
              "      <td>Sie hat ihren ersten Platz verteidigt. Bundes...</td>\n",
              "      <td>https://www.welt.de/politik/deutschland/articl...</td>\n",
              "    </tr>\n",
              "    <tr>\n",
              "      <th>33</th>\n",
              "      <td>Am besten erkundet man die weite Landschaft im...</td>\n",
              "      <td>https://www.welt.de/Advertorials/ferienregion-...</td>\n",
              "    </tr>\n",
              "    <tr>\n",
              "      <th>34</th>\n",
              "      <td>Die Navigation: Über die Navigationsleiste er...</td>\n",
              "      <td>https://www.welt.de/apps/article174576784/Nutz...</td>\n",
              "    </tr>\n",
              "    <tr>\n",
              "      <th>35</th>\n",
              "      <td>Seit der Flüchtlingskrise im Jahr 2015 sind n...</td>\n",
              "      <td>https://www.welt.de/politik/ausland/article210...</td>\n",
              "    </tr>\n",
              "  </tbody>\n",
              "</table>\n",
              "</div>"
            ],
            "text/plain": [
              "                                                 Text                                                url\n",
              "0    75 Jahre, so alt wird die CDU. Daher hat Part...  https://www.welt.de/politik/deutschland/articl...\n",
              "1   Wir freuen uns sehr über Ihr Interesse an WELT...  https://www.welt.de/services/article157550705/...\n",
              "2   Ein russisches Gericht hat den Starregisseur K...  https://www.welt.de/politik/ausland/article210...\n",
              "3   Ein wichtiger Grundstein des Digitalisierungsp...  https://www.welt.de/Advertorials/deutsche-post...\n",
              "4   Bei Fragen und Anregungen hilft Ihnen unser Te...  https://www.welt.de/services/article7894222/Ko...\n",
              "5    Ein weiterer Corona-Ausbruch in einem Fleisch...  https://www.welt.de/politik/deutschland/articl...\n",
              "6   Die Stationierung von US-Soldaten in Deutschla...  https://www.welt.de/politik/ausland/article210...\n",
              "7    Eigentlich wollte Innenminister Horst Seehofe...  https://www.welt.de/politik/ausland/article210...\n",
              "8   US-Präsident Donald Trump hat den Sturz von St...  https://www.welt.de/politik/ausland/article210...\n",
              "9   Lassen Sie sich von einzigartigen Kunstwerken ...  https://www.welt.de/marktplatz/article13286576...\n",
              "10   Nach den schweren Ausschreitungen in Stuttgar...  https://www.welt.de/politik/deutschland/articl...\n",
              "11   Nun ist sie da: die deutsche Corona-Warn-App....  https://www.welt.de/politik/deutschland/articl...\n",
              "12  Neue Details über die Polizeirazzia bei einem ...  https://www.welt.de/politik/deutschland/articl...\n",
              "13  Rauf aufs Rad. In die Pedale treten. Sich den ...  https://www.welt.de/Advertorials/geero/article...\n",
              "14   Vom Lockdown in den Kreisen Gütersloh und War...  https://www.welt.de/politik/deutschland/articl...\n",
              "15  Klimaaktivisten sind laut französischen Medien...  https://www.welt.de/politik/ausland/article210...\n",
              "16  Baden-Württemberg will Schottergärten aus der ...  https://www.welt.de/politik/deutschland/articl...\n",
              "17   Die Zahl der Genitalverstümmelungen an Frauen...  https://www.welt.de/politik/deutschland/articl...\n",
              "18  Axel Springer SE vertreten durch den Vorstand ...  https://www.welt.de/services/article7893735/Im...\n",
              "19   Nordrhein-Westfalens Ministerpräsident Armin ...  https://www.welt.de/politik/deutschland/articl...\n",
              "20   Das Berliner Landgericht hat den Rauswurf von...  https://www.welt.de/politik/deutschland/articl...\n",
              "21   Seit der Flüchtlingskrise im Jahr 2015 sind n...  https://www.welt.de/politik/deutschland/articl...\n",
              "22   Nordrhein-Westfalens Ministerpräsident Armin ...  https://www.welt.de/politik/deutschland/articl...\n",
              "23   Informativ, hochwertig, traditionell: Die WEL...  https://www.welt.de/apps/article118565353/WELT...\n",
              "24   In vielen US-Staaten steigt die Zahl der Infi...  https://www.welt.de/politik/ausland/article210...\n",
              "25  Inhaltsverzeichnis 1. Geltungsbereich2. Anbiet...  https://www.welt.de/services/article122129231/...\n",
              "26  Das US-Repräsentantenhaus hat in einer Abstimm...  https://www.welt.de/politik/ausland/article210...\n",
              "27  Jugendschutz ist auch im Internet unverzichtba...  https://www.welt.de/services/article157911156/...\n",
              "28   Kohlegegner haben in der Nacht Bagger im Brau...  https://www.welt.de/politik/deutschland/articl...\n",
              "29  Im Streit über die Autonomie Hongkongs verhäng...  https://www.welt.de/politik/ausland/article210...\n",
              "30   Vom Lockdown in den Kreisen Gütersloh und War...  https://www.welt.de/politik/deutschland/articl...\n",
              "31   In der aktuellen Forsa-Umfrage zeigen die Dat...  https://www.welt.de/politik/deutschland/articl...\n",
              "32   Sie hat ihren ersten Platz verteidigt. Bundes...  https://www.welt.de/politik/deutschland/articl...\n",
              "33  Am besten erkundet man die weite Landschaft im...  https://www.welt.de/Advertorials/ferienregion-...\n",
              "34   Die Navigation: Über die Navigationsleiste er...  https://www.welt.de/apps/article174576784/Nutz...\n",
              "35   Seit der Flüchtlingskrise im Jahr 2015 sind n...  https://www.welt.de/politik/ausland/article210..."
            ]
          },
          "metadata": {
            "tags": []
          },
          "execution_count": 13
        }
      ]
    }
  ]
}