{
  "nbformat": 4,
  "nbformat_minor": 0,
  "metadata": {
    "colab": {
      "name": "Der_Speigel_Web_Scraper.ipynb",
      "provenance": [],
      "collapsed_sections": [
        "HcOlndfh9XwA"
      ],
      "toc_visible": true,
      "include_colab_link": true
    },
    "kernelspec": {
      "name": "python3",
      "display_name": "Python 3"
    }
  },
  "cells": [
    {
      "cell_type": "markdown",
      "metadata": {
        "id": "view-in-github",
        "colab_type": "text"
      },
      "source": [
        "<a href=\"https://colab.research.google.com/github/este7734/Web_scraping_project/blob/master/Der_Speigel_Web_Scraper.ipynb\" target=\"_parent\"><img src=\"https://colab.research.google.com/assets/colab-badge.svg\" alt=\"Open In Colab\"/></a>"
      ]
    },
    {
      "cell_type": "markdown",
      "metadata": {
        "id": "DWXpudN7R3Qc",
        "colab_type": "text"
      },
      "source": [
        "## Import Dependencies"
      ]
    },
    {
      "cell_type": "code",
      "metadata": {
        "colab_type": "code",
        "id": "_F9Q7Td-sRVi",
        "colab": {
          "base_uri": "https://localhost:8080/",
          "height": 68
        },
        "outputId": "25cb8821-6ac2-4789-cc9c-da73b8791911"
      },
      "source": [
        "# Import libraries for processing web text\n",
        "from bs4 import BeautifulSoup\n",
        "import requests\n",
        "\n",
        "from textblob import TextBlob\n",
        "import numpy as np\n",
        "import matplotlib.pyplot as plt\n",
        "import pandas as pd\n",
        "from lxml import html\n",
        "\n",
        "# Import these dependencies if using Google Colab \n",
        "import nltk\n",
        "nltk.download('punkt')"
      ],
      "execution_count": 1,
      "outputs": [
        {
          "output_type": "stream",
          "text": [
            "[nltk_data] Downloading package punkt to /root/nltk_data...\n",
            "[nltk_data]   Package punkt is already up-to-date!\n"
          ],
          "name": "stdout"
        },
        {
          "output_type": "execute_result",
          "data": {
            "text/plain": [
              "True"
            ]
          },
          "metadata": {
            "tags": []
          },
          "execution_count": 1
        }
      ]
    },
    {
      "cell_type": "markdown",
      "metadata": {
        "id": "nLQoyopg1oiY",
        "colab_type": "text"
      },
      "source": [
        "## Define All Functions"
      ]
    },
    {
      "cell_type": "code",
      "metadata": {
        "id": "0iTgQueE3Pcn",
        "colab_type": "code",
        "colab": {},
        "cellView": "form"
      },
      "source": [
        "#@title Original \n",
        "\n",
        "# Get content of the webpage in an html string format by passing a url \n",
        "def get_html(url):\n",
        "    page = requests.get(url)\n",
        "    html_out = html.fromstring(page.content)\n",
        "    text = page.text\n",
        "    return html_out, text\n",
        "\n",
        "# Convert html into soup to enable soup menthods\n",
        "def get_soup(html_string):\n",
        "    soup = BeautifulSoup(html_string, 'html.parser')\n",
        "    return soup\n",
        "\n",
        "# Extract hyperlinks from soup\n",
        "def get_soup_links(soup):\n",
        "    links = []\n",
        "    for link in soup.find_all('a'):\n",
        "        out_link = link.get('href')\n",
        "        links.append(out_link)\n",
        "    return links\n",
        "\n",
        "# This function is for use with only the Topic pages on reuters.com\n",
        "# Search through ALL links and filter for only those that are for actual articles\n",
        "# links are formatted differently \n",
        "def get_articles_reuters_topics(links, old_url_set):\n",
        "    articles = []\n",
        "    for link in links:\n",
        "        try:\n",
        "            split_link = link.split('/')\n",
        "            #if 'www.reuters.com'in split_link:\n",
        "            if 'www.spiegel.de'in split_link:\n",
        "              if 'panorama' in split_link:\n",
        "                link = link\n",
        "                if url_check(old_url_set, link) == False:\n",
        "                  articles.append(link)\n",
        "              elif 'politik' in split_link:\n",
        "                link = link\n",
        "                if url_check(old_url_set, link) == False:\n",
        "                  articles.append(link)\n",
        "        except:\n",
        "            continue\n",
        "    articles = list(set(articles))\n",
        "    old_url_set = set(articles + list(old_url_set))       \n",
        "    return articles, old_url_set\n",
        "\n",
        "# Check if new urls exists in the old_url_set. if yes, return True; if no, return False\n",
        "# This function is used in the get_articles_reuters_topics function\n",
        "def url_check(old_url_set, url):\n",
        "    url_set = set([url])\n",
        "    test_set = old_url_set & url_set\n",
        "    if len(test_set) == 0:\n",
        "        check = False\n",
        "    else:\n",
        "        check = True\n",
        "    return check\n",
        "\n",
        "# Get html strings from list of article weblinks\n",
        "def get_html_reuters(articles):\n",
        "    soup_list = []\n",
        "    for article in articles:\n",
        "        _, text = get_html(article)\n",
        "        soup = get_soup(text)\n",
        "        soup_list.append(soup)\n",
        "    return soup_list"
      ],
      "execution_count": 28,
      "outputs": []
    },
    {
      "cell_type": "code",
      "metadata": {
        "colab_type": "code",
        "cellView": "both",
        "id": "mh-Z_yZsENF2",
        "colab": {}
      },
      "source": [
        "# Get content of the webpage in an html string format by passing a url \n",
        "def get_html(url):\n",
        "    page = requests.get(url)\n",
        "    html_out = html.fromstring(page.content)\n",
        "    text = page.text\n",
        "    return html_out, text\n",
        "\n",
        "# Convert html into soup to enable soup menthods\n",
        "def get_soup(html_string):\n",
        "    soup = BeautifulSoup(html_string, 'html.parser')\n",
        "    return soup\n",
        "\n",
        "# Extract hyperlinks from soup\n",
        "def get_soup_links(soup):\n",
        "    links = []\n",
        "    for link in soup.find_all('a'):\n",
        "        out_link = link.get('href')\n",
        "        links.append(out_link)\n",
        "    return links\n",
        "\n",
        "# This function is for use with only the Topic pages on reuters.com\n",
        "# Search through ALL links and filter for only those that are for actual articles\n",
        "# links are formatted differently \n",
        "def get_articles_reuters_topics(links, old_url_set):\n",
        "    articles = []\n",
        "    for link in links:\n",
        "        try:\n",
        "            split_link = link.split('/')\n",
        "            #if 'www.reuters.com'in split_link:\n",
        "            if 'www.spiegel.de'in split_link:\n",
        "              for topic in spiegel_topics:\n",
        "                if topic in split_link:\n",
        "                  link = link\n",
        "                  if url_check(old_url_set, link) == False:\n",
        "                    articles.append(link)\n",
        "        except:\n",
        "            continue\n",
        "    articles = list(set(articles))\n",
        "    old_url_set = set(articles + list(old_url_set))       \n",
        "    return articles, old_url_set\n",
        "\n",
        "# Check if new urls exists in the old_url_set. if yes, return True; if no, return False\n",
        "# This function is used in the get_articles_reuters_topics function\n",
        "def url_check(old_url_set, url):\n",
        "    url_set = set([url])\n",
        "    test_set = old_url_set & url_set\n",
        "    if len(test_set) == 0:\n",
        "        check = False\n",
        "    else:\n",
        "        check = True\n",
        "    return check\n",
        "\n",
        "# Get html strings from list of article weblinks\n",
        "def get_html_reuters(articles):\n",
        "    soup_list = []\n",
        "    for article in articles:\n",
        "        _, text = get_html(article)\n",
        "        soup = get_soup(text)\n",
        "        soup_list.append(soup)\n",
        "    return soup_list"
      ],
      "execution_count": 35,
      "outputs": []
    },
    {
      "cell_type": "code",
      "metadata": {
        "id": "395FN5Mc6J2m",
        "colab_type": "code",
        "colab": {
          "base_uri": "https://localhost:8080/",
          "height": 187
        },
        "outputId": "975ba6a2-8ccf-4202-e9d4-a1ef0d7b3457"
      },
      "source": [
        "spiegel_topics"
      ],
      "execution_count": 155,
      "outputs": [
        {
          "output_type": "execute_result",
          "data": {
            "text/plain": [
              "['plus',\n",
              " 'schlagzeilen',\n",
              " 'politik/deutschland',\n",
              " 'politik/ausland',\n",
              " 'panorama',\n",
              " 'wirtschaft',\n",
              " 'netzwelt',\n",
              " 'wissenschaft',\n",
              " 'geschichte',\n",
              " 'thema/leben']"
            ]
          },
          "metadata": {
            "tags": []
          },
          "execution_count": 155
        }
      ]
    },
    {
      "cell_type": "code",
      "metadata": {
        "colab_type": "code",
        "id": "fhfprTp7YyRH",
        "colab": {},
        "cellView": "form"
      },
      "source": [
        "#@title BACK UP CODE\n",
        "\n",
        "\n",
        "# Get content of the webpage in an html string format by passing a url \n",
        "def get_html(url):\n",
        "    page = requests.get(url)\n",
        "    html_out = html.fromstring(page.content)\n",
        "    text = page.text\n",
        "    return html_out, text\n",
        "\n",
        "# Convert html into soup to enable soup menthods\n",
        "def get_soup(html_string):\n",
        "    soup = BeautifulSoup(html_string, 'html.parser')\n",
        "    return soup\n",
        "\n",
        "# Extract hyperlinks from soup\n",
        "def get_soup_links(soup):\n",
        "    links = []\n",
        "    for link in soup.find_all('a'):\n",
        "        out_link = link.get('href')\n",
        "        links.append(out_link)\n",
        "    return links\n",
        "\n",
        "# This function is for use with only the Topic pages on reuters.com\n",
        "# Search through ALL links and filter for only those that are for actual articles\n",
        "# links are formatted differently \n",
        "def get_articles_reuters_topics(links, old_url_set):\n",
        "    articles = []\n",
        "    for link in links:\n",
        "        try:\n",
        "            split_link = link.split('/')\n",
        "            #if 'www.reuters.com'in split_link:\n",
        "            if 'www.spiegel.de'in split_link:\n",
        "              link = 'https://www.reuters.com' + link\n",
        "              if url_check(old_url_set, link) == False:\n",
        "                articles.append(link)\n",
        "        except:\n",
        "            continue\n",
        "    articles = list(set(articles))\n",
        "    old_url_set = set(articles + list(old_url_set))       \n",
        "    return articles, old_url_set\n",
        "\n",
        "# Check if new urls exists in the old_url_set. if yes, return True; if no, return False\n",
        "# This function is used in the get_articles_reuters_topics function\n",
        "def url_check(old_url_set, url):\n",
        "    url_set = set([url])\n",
        "    test_set = old_url_set & url_set\n",
        "    if len(test_set) == 0:\n",
        "        check = False\n",
        "    else:\n",
        "        check = True\n",
        "    return check\n",
        "\n",
        "# Get html strings from list of article weblinks\n",
        "def get_html_reuters(articles):\n",
        "    soup_list = []\n",
        "    for article in articles:\n",
        "        _, text = get_html(article)\n",
        "        soup = get_soup(text)\n",
        "        soup_list.append(soup)\n",
        "    return soup_list"
      ],
      "execution_count": null,
      "outputs": []
    },
    {
      "cell_type": "markdown",
      "metadata": {
        "id": "7wVxrANXEF-W",
        "colab_type": "text"
      },
      "source": [
        "Tags for different websites"
      ]
    },
    {
      "cell_type": "code",
      "metadata": {
        "id": "n28RUx9VH9sB",
        "colab_type": "code",
        "colab": {},
        "cellView": "form"
      },
      "source": [
        "#@title Die Zeit TAGS\n",
        "# Die Zeit classes and tags\n",
        "body_class = 'div'\n",
        "headline_class = 'h1'\n",
        "date_class = 'div'\n",
        "\n",
        "body_tag = 'article-body article-body--article'\n",
        "headline_tag = 'headline article__item'\n",
        "date_tag = 'metadata'"
      ],
      "execution_count": null,
      "outputs": []
    },
    {
      "cell_type": "code",
      "metadata": {
        "id": "ZB4htvM3H9h2",
        "colab_type": "code",
        "colab": {}
      },
      "source": [
        "# Der Spiegel classes and tags\n",
        "body_class = 'div'\n",
        "headline_class = 'h2'\n",
        "date_class = 'div'\n",
        "\n",
        "body_tag = 'clearfix lg:pt-32 md:pt-32 sm:pt-24 md:pb-48 lg:pb-48 sm:pb-32'\n",
        "headline_tag = 'lg:mb-20 md:mb-20 sm:mb-24'\n",
        "date_tag = 'font-sansUI lg:text-base md:text-base sm:text-s text-shade-dark'"
      ],
      "execution_count": 36,
      "outputs": []
    },
    {
      "cell_type": "code",
      "metadata": {
        "id": "mBqKx4fM92CS",
        "colab_type": "code",
        "colab": {},
        "cellView": "form"
      },
      "source": [
        "#@title Welt TAGS\n",
        "# Welt classes and tags\n",
        "body_class = 'div'\n",
        "headline_class = 'h2'\n",
        "date_class = 'div'\n",
        "\n",
        "body_tag = 'c-sticky-container'\n",
        "headline_tag = 'c-headline o-dreifaltigkeit__headline rf-o-headline'\n",
        "date_tag = 'c-container c-container--is-stacked'"
      ],
      "execution_count": 41,
      "outputs": []
    },
    {
      "cell_type": "code",
      "metadata": {
        "id": "LBmEliCH2G9l",
        "colab_type": "code",
        "colab": {}
      },
      "source": [
        "# Break out article_body, article_headline, and article_date from each article in provided hyperlinks and put into a dictionary called: out_list\n",
        "def get_reuters_elements(soup_list, articles):\n",
        "    out_list = []\n",
        "    i = 0\n",
        "    for article in soup_list:\n",
        "        link = articles[i] # I don't think this is used at all here, which means there is no reason to require the second argument: articles\n",
        "        i += 1\n",
        "        try:\n",
        "            article_body = article.find_all(body_class, {'class': body_tag})\n",
        "            article_p = []\n",
        "            for item in article_body:\n",
        "                p_list = item.find_all('p')\n",
        "                for p in p_list:\n",
        "                    article_p.append(p.text)\n",
        "            out_text = ' '.join(article_p)\n",
        "            if out_text == '':\n",
        "              continue\n",
        "            if out_text.startswith('Besondere Reportagen'):\n",
        "              continue\n",
        "            out_dict = dict([('Text',out_text),('url',link)])\n",
        "            out_list.append(out_dict)\n",
        "        except:\n",
        "            print('Unable to decode...skipping article...')\n",
        "            continue\n",
        "\n",
        "    return out_list"
      ],
      "execution_count": 79,
      "outputs": []
    },
    {
      "cell_type": "markdown",
      "metadata": {
        "id": "z_qCIHy31uSJ",
        "colab_type": "text"
      },
      "source": [
        "## Define URL Variables and Run Functions"
      ]
    },
    {
      "cell_type": "markdown",
      "metadata": {
        "id": "pU0yQpNqLwl4",
        "colab_type": "text"
      },
      "source": [
        "Step 1. Instantiate `old_url_set` to be used in the `get_articles_reuters_topics` function. This is a running log of article links that will be compiled by iterating from steps 2 - 6."
      ]
    },
    {
      "cell_type": "code",
      "metadata": {
        "id": "3S4mzVpzp5g1",
        "colab_type": "code",
        "colab": {}
      },
      "source": [
        "# Instantiate empty set to use a running list of hyperlinks while \n",
        "# running the scrape iterations\n",
        "old_url_set = set([])"
      ],
      "execution_count": 80,
      "outputs": []
    },
    {
      "cell_type": "markdown",
      "metadata": {
        "id": "KBkhWZ5iMWq9",
        "colab_type": "text"
      },
      "source": [
        "## Scrape Reuters Topics pages for all the most recent news articles. <font color='orange'>*Run Steps 2 - 7 for each instance of `url` variable, before moving on to the next steps*</font>"
      ]
    },
    {
      "cell_type": "markdown",
      "metadata": {
        "id": "URLqBDPwUbRZ",
        "colab_type": "text"
      },
      "source": [
        "<font color='orange'>Step 2.</font> Define variables for each of Reuters main topics pages. Run this cell for each iteration by uncommenting a different url each time."
      ]
    },
    {
      "cell_type": "code",
      "metadata": {
        "id": "P8a1cAaw3PfL",
        "colab_type": "code",
        "colab": {}
      },
      "source": [
        "# Define url variables\n",
        "# NOTE: You must run these individually through the end of this section\n",
        "# I didn't have time to figure out how to loop through all of them properly\n",
        "# There is a section at the very bottom where you can see that I attempted but ran\n",
        "# into a problem on one of the last functions. \n",
        "\n",
        "# Der Speigel Links\n",
        "#url = r'https://www.spiegel.de/'\n",
        "url = r'https://www.spiegel.de/plus/'\n",
        "#url = r'https://www.spiegel.de/schlagzeilen/'\n",
        "#url = r'https://www.spiegel.de/politik/deutschland/'\n",
        "#url = r'https://www.spiegel.de/politik/ausland/'\n",
        "#url = r'https://www.spiegel.de/panorama/'\n",
        "#url = r'https://www.spiegel.de/wirtschaft/'\n",
        "#url = r'https://www.spiegel.de/netzwelt/'\n",
        "#url = r'https://www.spiegel.de/wissenschaft/'\n",
        "#url = r'https://www.spiegel.de/geschichte/'\n",
        "#url = r'https://www.spiegel.de/thema/leben/'\n",
        "\n",
        "spiegel_topics = ['plus', 'schlagzeilen', 'politik/deutschland', 'politik/ausland', 'panorama', 'wirtschaft', 'netzwelt', 'wissenschaft', 'geschichte', 'thema/leben']\n",
        "\n",
        "#=====================================================================\n",
        "# Welt Links\n",
        "#url = r'https://www.welt.de/'\n",
        "#url = r'https://www.welt.de/weltplus/'\n",
        "#url = r'https://www.welt.de/politik/'\n",
        "#url = r'https://www.welt.de/wirtschaft/'\n",
        "#url = r'https://www.welt.de/vermischtes/'\n",
        "#url = r'https://www.welt.de/debatte/'\n",
        "\n",
        "# Die Zeit Links\n",
        "#url = r'https://www.zeit.de/index'\n",
        "#url = r'https://www.zeit.de/politik/index'\n",
        "#url = r'https://www.zeit.de/gesellschaft/index'\n",
        "#url = r'https://www.zeit.de/wirtschaft/index'\n",
        "#url = r'https://www.zeit.de/wissen/index'\n",
        "#url = r'https://www.zeit.de/digital/index'\n",
        "#url = r'https://www.zeit.de/entdecken/index'\n",
        "#url = r'https://www.zeit.de/zeit-magazin/index'"
      ],
      "execution_count": 81,
      "outputs": []
    },
    {
      "cell_type": "markdown",
      "metadata": {
        "id": "7qGyTkHR3Tos",
        "colab_type": "text"
      },
      "source": [
        "## Scraper"
      ]
    },
    {
      "cell_type": "markdown",
      "metadata": {
        "id": "Ctx4uUaNM-qy",
        "colab_type": "text"
      },
      "source": [
        "<font color='orange'>Step 3.</font> Get HTML srting from web `url`"
      ]
    },
    {
      "cell_type": "code",
      "metadata": {
        "id": "dJshIC2L4iPA",
        "colab_type": "code",
        "colab": {
          "base_uri": "https://localhost:8080/",
          "height": 51
        },
        "outputId": "9449e21a-3272-4751-c397-5b62167ff50f"
      },
      "source": [
        "# Pass the each instance of `url` variable to return the web page in HTML format and convert it to a string\n",
        "html_string = str(get_html(url))\n",
        "# Pass the HTML string (of the web page) to get its soup\n",
        "soup = get_soup(html_string)\n",
        "# Find ALL links on within the soup\n",
        "links = get_soup_links(soup)\n",
        "# Use this for Topics Pages only\n",
        "# Filter out only those links that are for actual articles. We only want the \"good\" links\n",
        "# This filters out things like links to images and advertisements or non-news worthy pages\n",
        "articles, old_url_set = get_articles_reuters_topics(links, old_url_set)\n",
        "print(len(articles))\n",
        "# Print out the running list of hyperlinks to see how many you have\n",
        "print(len(old_url_set))"
      ],
      "execution_count": 82,
      "outputs": [
        {
          "output_type": "stream",
          "text": [
            "96\n",
            "96\n"
          ],
          "name": "stdout"
        }
      ]
    },
    {
      "cell_type": "code",
      "metadata": {
        "id": "gNqPBrCDCP4o",
        "colab_type": "code",
        "colab": {}
      },
      "source": [
        "linkers = list(old_url_set)\n",
        "linkers"
      ],
      "execution_count": null,
      "outputs": []
    },
    {
      "cell_type": "markdown",
      "metadata": {
        "id": "DWBBUihX8R0w",
        "colab_type": "text"
      },
      "source": [
        "## <font color='skyblue'>Parse soup from entire list of hyperlinks that you just accumulated</font>"
      ]
    },
    {
      "cell_type": "markdown",
      "metadata": {
        "id": "M5M5Po9_OWk2",
        "colab_type": "text"
      },
      "source": [
        "Step 8. Get soup for every link\n",
        "\n",
        "Step 9. Parse the soup for each link into `article_body`, `article_title`, and `article_date`. Create list of dictionaries for each web page\n",
        "\n",
        "Step 10. Run `TextBlob` on list of dictionaries to separate all sentences in a single list"
      ]
    },
    {
      "cell_type": "code",
      "metadata": {
        "id": "fZoenVkMIukU",
        "colab_type": "code",
        "colab": {
          "base_uri": "https://localhost:8080/",
          "height": 51
        },
        "cellView": "both",
        "outputId": "d3606c81-ed7e-4cf1-86c9-8b3a189e5c84"
      },
      "source": [
        "# Get soup for each one of the \"good\" links\n",
        "url_links = list(old_url_set) # Convert the running set of links to a list for use in the following functions\n",
        "\n",
        "soup_list = get_html_reuters(url_links)\n",
        "print(f'Length of Soup List: {len(soup_list)}')\n",
        "#print(soup_list[0])\n",
        "\n",
        "# Parse the soup for each \"good\" link to get article text, title, and date\n",
        "out_list = get_reuters_elements(soup_list, url_links)\n",
        "print(f'Length of out_list: {len(out_list)}')\n",
        "#out_list[0:2]\n",
        "blob_sentences =[]"
      ],
      "execution_count": 83,
      "outputs": [
        {
          "output_type": "stream",
          "text": [
            "Length of Soup List: 96\n",
            "Length of out_list: 62\n"
          ],
          "name": "stdout"
        }
      ]
    },
    {
      "cell_type": "code",
      "metadata": {
        "id": "lO7ZWsj3GFWg",
        "colab_type": "code",
        "colab": {
          "base_uri": "https://localhost:8080/",
          "height": 1000
        },
        "outputId": "e17e103a-e089-4baf-f95d-d5627247f10f"
      },
      "source": [
        "for i in range(len(out_list)):\n",
        "  try:\n",
        "    blob = out_list[i]['Text']\n",
        "    trans = TextBlob(blob) # Enter string object\n",
        "    trans = trans.translate(to='en')\n",
        "    trans = str(trans) # Change to = 'en' for English\n",
        "    trans = TextBlob(trans)\n",
        "    for item in trans.sentences:\n",
        "      blob_sentences.append(trans)\n",
        "    print('\\n', i+1, '\\n',trans)\n",
        "  except:\n",
        "    print('got an error ...., skipping article....')\n",
        "print(f'\\nYou have {len(blob_sentences)} total sentences from {i+1} different articles')"
      ],
      "execution_count": 84,
      "outputs": [
        {
          "output_type": "stream",
          "text": [
            "\n",
            " 1 \n",
            " Things are still going well for Thorsten Harke, surprisingly well. The Mülheim-based entrepreneur delivers chemical and pharmaceutical products to Great Britain: tablets, cosmetics, disinfectants. Much of it is currently in demand worldwide; The gross profit of his group of companies grew by about 25 percent in the first half of the year. And the business on the island plays a large part in this because many market segments are \"in a special situation due to Corona\", says Harke. However, the situation could change quickly. If the British Prime Minister Boris Johnson does not soon conclude a far-reaching trade agreement with the European Union, Harkes 165 employees will soon face a lot of unproductive work. Great Britain would become an EU third country such as India or Egypt, its people would have to calculate longer transport times, change contracts or observe new regulations: import rules, for example, or product approvals. This drives costs, while new tariffs would reduce earnings at the same time. \"By a few percent,\" says Harke, Brexit could then \"depress gross profit and make some businesses unprofitable\". Special reports, analyzes and backgrounds on topics that affect our society - from reporters from all over the world. Your benefits with SPIEGEL +: for all content on all your devices from the weekly magazine of the weekly magazine can be canceled at any time can be canceled online for only € 19.99 per month\n",
            "SPIEGEL + is processed via your iTunes account and paid for with the purchase confirmation. The subscription is automatically renewed 24 hours before expiration\n",
            "a month for the price of currently € 19.99. You can cancel the subscription at any time in the settings of your iTunes account. At SPIEGEL + outside\n",
            "To use this app, you must link the subscription to a SPIEGEL ID account immediately after purchase. With the purchase you accept our\n",
            "General terms and conditions and data protection declaration.\n",
            "\n",
            " 2 \n",
            " I remember one event when I was in front of many\n",
            "Years strolled through a Damascus market with a friend. A jacket caught his eye and he asked the seller about the price. This\n",
            "replied: \"500 livre.\" My friend said, \"No.\" The seller\n",
            "asked, \"How much do you want to pay?\"\n",
            "My friend: \"100 livre.\" (I wouldn't have dared to do that at the time, me\n",
            "would have said \"300\". But my friend was cold-nosed than me.) The dealer\n",
            "after some hesitation, agreed to the 100 livre. This\n",
            "However, being accommodating made my friend suspicious and he acted\n",
            "further: \"70 Livre!\" In the end he actually went off with this jacket\n",
            "Market and had only paid 70 livre for it. He was just a gifted and\n",
            "tough negotiator. I was amazed because I was never particularly good\n",
            "haggling. I didn't have the patience to do it, nor was I particularly economical.\n",
            "I guess I've often paid a little more this way in my life\n",
            "than necessary. But if a German tourist at that stand had the jacket\n",
            "bought, he would probably have paid the full 500 livre. The\n",
            "Bargaining is uncomfortable for most Germans. Special reports, analyzes and backgrounds on topics that affect our society - from reporters from all over the world. Your benefits with SPIEGEL +: for all content on all your devices from the weekly magazine of the weekly magazine can be canceled at any time can be canceled online for only € 19.99 per month\n",
            "SPIEGEL + is processed via your iTunes account and paid for with the purchase confirmation. The subscription is automatically renewed 24 hours before expiration\n",
            "a month for the price of currently € 19.99. You can cancel the subscription at any time in the settings of your iTunes account. At SPIEGEL + outside\n",
            "To use this app, you must link the subscription to a SPIEGEL ID account immediately after purchase. With the purchase you accept our\n",
            "General terms and conditions and data protection declaration.\n",
            "\n",
            " 3 \n",
            " \"Say what is. The SPIEGEL podcast\" is an original podcast by Audible. Every week Christina Pohl and Olaf Heuser look at the world anew and what moves them. You talk to the editors of all departments about the most important topics of the week. Always honest. Always quarrelsome. Always up to date. This week: Veronika Hackenbroch talks about her interview with Germany's largest corona expert Christian Drosten. Latin American correspondents Marian Blasberg and Jens Glüsing analyze Brazil's president. And Felix Hutt reports about a young nurse's struggle for survival. All episodes of this podcast that have already been released can be found here at Audible. Special reports, analyzes and backgrounds on topics that affect our society - from reporters from all over the world. Your benefits with SPIEGEL +: for all content on all your devices from the weekly magazine of the weekly magazine can be canceled at any time can be canceled online for only € 19.99 per month\n",
            "SPIEGEL + is processed via your iTunes account and paid for with the purchase confirmation. The subscription is automatically renewed 24 hours before expiration\n",
            "a month for the price of currently € 19.99. You can cancel the subscription at any time in the settings of your iTunes account. At SPIEGEL + outside\n",
            "To use this app, you must link the subscription to a SPIEGEL ID account immediately after purchase. With the purchase you accept our\n",
            "General terms and conditions and data protection declaration.\n",
            "\n",
            " 4 \n",
            " Today, when I try to remember the months and days before and after the end of the Second World War, I notice feelings of hope and impatient expectations. No fear, no fear, no despair, no discouragement. Of course I was worried about my father in Gestapo, my mother and siblings at home. And yet, in my memory of these months, a thirst for optimism prevails today: everything could now begin; now it was before us, freedom! The lawyer and social democrat Klaus von Dohnanyi, 91, looks back on a long political career. From 1972 to 1974 he was Federal Minister of Education, from 1981 to 1988 First Mayor of the City of Hamburg. His father Hans von Dohnanyi was part of the resistance against Adolf Hitler and was executed in April 1945. His mother Christine von Dohnanyi was the sister of the resistance fighter Dietrich Bonhoeffer, who was also executed. Von Dohnanyi is married in a third marriage to the writer Ulla Hahn and lives in Hamburg. It's easy to understand: the Nazis have been oppressing us for twelve years, not a free word outside of the closest family. I had seen our parents arrested in the spring of 1943. In early 1945, when I was drafted into the Reich Labor Service, I suspected my father was back in the notorious Gestapo prison on Prinz-Albrecht-Strasse in Berlin. We, at home in Sacrow near Potsdam, had longed for the Allied troops since they landed in France, war and tyranny would soon be over: The defeat that had been inevitable since 1939 would be a day of freedom - for all of us! At the beginning of 1945 in Karstädt near Ludwigslust, on the railway line between Berlin and Hamburg. Our actually civil work unit was called \"Combat Battalion\" in January. We heard the cannon thunder in the east and should now advance there to protect the city of Nauen from the Russians. With a few bazookas, Dutch loot rifles, but German ammunition. Special reports, analyzes and backgrounds on topics that affect our society - from reporters from all over the world. Your benefits with SPIEGEL +: for all content on all your devices from the weekly magazine of the weekly magazine can be canceled at any time can be canceled online for only € 19.99 per month\n",
            "SPIEGEL + is processed via your iTunes account and paid for with the purchase confirmation. The subscription is automatically renewed 24 hours before expiration\n",
            "a month for the price of currently € 19.99. You can cancel the subscription at any time in the settings of your iTunes account. At SPIEGEL + outside\n",
            "To use this app, you must link the subscription to a SPIEGEL ID account immediately after purchase. With the purchase you accept our\n",
            "General terms and conditions and data protection declaration.\n",
            "\n",
            " 5 \n",
            " By Maik Baumgärtner, Roman Höfner, Ann-Katrin Müller, Roman Lehberger, Alexandra Rojkov and Sara Wess It is 4.35 am, in the middle of the night of November 6, 2011, when the publicist Henryk Broder online the email of a certain Kayvan Soufi -Siavash released and started two events. On the one hand, he ensures that Soufi-Siavash, then better known as Ken Jebsen, loses his job as radio presenter for the public service broadcaster rbb. On the other hand, he starts the internet career of Soufi-Siavash, who from now on hates the classic media and spreads conspiracy ideologies. The crude quintessence of Soufi-Siavash's mail, which Broder spread: Dark forces ruled world affairs. Soufi-Siavash rattles regardless of grammar and punctuation from the CIA, NATO and \"the big deal of those at the top that make us all dance like puppets\". The lines were not intended for Broder, they were leaked to him by an rbb listener. The listener had complained about the Soufi-Siavash contributions and promptly received a response from the radio host: \"You don't need to send me holocaust information. I have more than you. I know who invented the holocaust as a PR.\" Broder publishes the mail - and causes a scandal in rbb. Special reports, analyzes and backgrounds on topics that affect our society - from reporters from all over the world. Your benefits with SPIEGEL +: for all content on all your devices from the weekly magazine of the weekly magazine can be canceled at any time can be canceled online for only € 19.99 per month\n",
            "SPIEGEL + is processed via your iTunes account and paid for with the purchase confirmation. The subscription is automatically renewed 24 hours before expiration\n",
            "a month for the price of currently € 19.99. You can cancel the subscription at any time in the settings of your iTunes account. At SPIEGEL + outside\n",
            "To use this app, you must link the subscription to a SPIEGEL ID account immediately after purchase. With the purchase you accept our\n",
            "General terms and conditions and data protection declaration.\n",
            "\n",
            " 6 \n",
            " By Silke Fokken, Annette Großbongardt, Armin Himmelrath, Lea Schulze, Katja Thimm, Gerald Traufetter, Alfred Weinzierl and Katrin Elger. In the good old days, before Corona, Jacob, 11, was looking forward to walking to the bus stop with his friend every morning and taking the bus to school. He has been getting up at the same time since mid-March, just after seven, making breakfast and sitting at his desk by eight at the latest - but his state of mind fluctuates between tired, listless and annoyed. Jacob, fifth grade, would be ready for an exciting online lesson. But what his high school in Essen can currently offer him has no official beginning and no end, no structure and no timetable. He fills out worksheets, does assignments in the book, says Jacob, one after the other. \"And I'm not learning anything.\" It's been like this for three months now. The schools in North Rhine-Westphalia have been reopening since the end of April, as in almost all of the federal states, but initially only for the graduating classes, then for other levels in small groups, once or twice a day, sometimes two or three hours - a core program with distance rules. Jacob would have been with three-thirds of his classmates for four hours each on exactly three days until the summer vacation. Special reports, analyzes and backgrounds on topics that affect our society - from reporters from all over the world. Your benefits with SPIEGEL +: for all content on all your devices from the weekly magazine of the weekly magazine can be canceled at any time can be canceled online for only € 19.99 per month\n",
            "SPIEGEL + is processed via your iTunes account and paid for with the purchase confirmation. The subscription is automatically renewed 24 hours before expiration\n",
            "a month for the price of currently € 19.99. You can cancel the subscription at any time in the settings of your iTunes account. At SPIEGEL + outside\n",
            "To use this app, you must link the subscription to a SPIEGEL ID account immediately after purchase. With the purchase you accept our\n",
            "General terms and conditions and data protection declaration.\n",
            "\n",
            " 7 \n",
            " Volker Klotz is South Tyrolean and has a close Hitler confidante to his grandfather: Martin Bormann, temporarily the second most powerful man in the Nazi state. On April 29, 1945, the influential party secretary gave the groomsmen at Adolf Hitler's spooky wedding to Eva Braun in the \"Führer bunker\" in Berlin. In the will, Hitler, who shot himself the next day, described Bormann as his \"most loyal party member\". The NSDAP official and Reich Minister was not blind to reality. When the fall of the \"Third Reich\" began to emerge, Bormann sent his wife and children to an area in April 1945 that he considered safe: to South Tyrol. His daughter Irmgard Bormann is 86 years old today. She does not speak publicly about the father. However, she spoke extensively about Martin Bormann with her son Volker: numerous war criminals and their families went into hiding in the region in the post-war years. Some advantages made South Tyrol particularly attractive as a stopover - the historical peculiarities, the helpfulness of the locals, who mostly did not ask annoying questions, but above all the geographical location between Germany and the Italian ports. Because from there the flight should continue towards South America. Special reports, analyzes and backgrounds on topics that affect our society - from reporters from all over the world. Your benefits with SPIEGEL +: for all content on all your devices from the weekly magazine of the weekly magazine can be canceled at any time can be canceled online for only € 19.99 per month\n",
            "SPIEGEL + is processed via your iTunes account and paid for with the purchase confirmation. The subscription is automatically renewed 24 hours before expiration\n",
            "a month for the price of currently € 19.99. You can cancel the subscription at any time in the settings of your iTunes account. At SPIEGEL + outside\n",
            "To use this app, you must link the subscription to a SPIEGEL ID account immediately after purchase. With the purchase you accept our\n",
            "General terms and conditions and data protection declaration.\n",
            "\n",
            " 8 \n",
            " In the morning of April 8, 1475 heavy stone balls thundered on the city of Neuss. Charles the Bold, Duke of Burgundy, surrounded the city with his army, and his cannons fire from all directions. The 7,500 residents and defenders of Neuss have been stuck for eight months. The Neussers have long slaughtered the last chickens and pigs. For months they have only been getting small rations of pea soup, oil and honey. Some residents are so hungry that they scrape mussels from the city moat, as city clerk and eyewitness Christian Wierstraet reports. Order now online and the booklet will be sent to your home! Order from Amazon At MyKiosk you can find SPIEGEL STORY by subscription. From the Quirinusmünster tower, the guards watch the enemy dig a tunnel in the direction of their bulwarks. The Burgundians could detonate explosive charges and cause the fortifications to collapse. Neuss would be lost. The townspeople fear the duke: a few years earlier, Karls Heer had around 800 residents of the Walloon city of Dinant bound together and thrown into the river Meuse, all of whom drowned miserably. Special reports, analyzes and backgrounds on topics that affect our society - from reporters from all over the world. Your benefits with SPIEGEL +: for all content on all your devices from the weekly magazine of the weekly magazine can be canceled at any time can be canceled online for only € 19.99 per month\n",
            "SPIEGEL + is processed via your iTunes account and paid for with the purchase confirmation. The subscription is automatically renewed 24 hours before expiration\n",
            "a month for the price of currently € 19.99. You can cancel the subscription at any time in the settings of your iTunes account. At SPIEGEL + outside\n",
            "To use this app, you must link the subscription to a SPIEGEL ID account immediately after purchase. With the purchase you accept our\n",
            "General terms and conditions and data protection declaration.\n",
            "\n",
            " 9 \n",
            " The battle was announced. As soon as the news of the advancing troops reached the landlord, on whose ground the enemy armies were supposed to meet, the landlord ordered his unfree peasants away from the fields and demanded their early service. Dense forests had to be cleared, fords laid, jumps thrown, trenches dug and firewood piled before even a knight could put his heavily shoeed foot on the battlefield. And woe, the farmers came empty-handed! Because the knights would of course bring enormous hunger with them. In the event of war, special levies were therefore due - milk, honey, cheese, cereals, fruit and nuts, cabbage, beets, onions, leeks, garlic, parsnips, beer and wine, plus wax, leather and wool. The soldiers could not lack anything. \"No matter who won the battle in the end, the losers in the war were always the simple peasants,\" sums up Thomas Mück. Mück is not a historian, but one of these farmers - at least temporarily. The Bavarian is a member of the Erharting e. V. The local researchers recreate the events of the great battle that possibly took place in 1322 in the fields of the community in the Upper Bavarian district of Mühldorf am Inn. The volunteer customs officers have been working for years to make the memory of this battle, which went down in history as the \"last knight battle\", part of their regional cultural heritage. Special reports, analyzes and backgrounds on topics that affect our society - from reporters from all over the world. Your benefits with SPIEGEL +: for all content on all your devices from the weekly magazine of the weekly magazine can be canceled at any time can be canceled online for only € 19.99 per month\n",
            "SPIEGEL + is processed via your iTunes account and paid for with the purchase confirmation. The subscription is automatically renewed 24 hours before expiration\n",
            "a month for the price of currently € 19.99. You can cancel the subscription at any time in the settings of your iTunes account. At SPIEGEL + outside\n",
            "To use this app, you must link the subscription to a SPIEGEL ID account immediately after purchase. With the purchase you accept our\n",
            "General terms and conditions and data protection declaration.\n",
            "\n",
            " 10 \n",
            " 1945 - when you were 13 you were much more child than you are today. You can't compare that. It was a world without internet, without television. We children lived entirely out of ourselves, out of our imagination, almost uninfluenced from outside. I played with the doll and the teddy bear, I pulled pearls on cords and made chains out of them. Marianne von Weizsäcker, born in 1932, was born as Marianne von Kretschmann in Essen. Her father was a merchant and director at the Benzol Association in Hamburg. In 1953 she married Richard von Weizsäcker, who became Governing Mayor of Berlin in 1981 and Federal President in 1984. Marianne von Weizsäcker's voluntary commitments include the mother's recovery center, UNICEF, the National AIDS Foundation and the Federal Association of Parents' Groups of young people at risk and dependent on drugs. Since her husband left the office of Federal President in 1994, Marianne von Weizsäcker has concentrated on her work for the Marianne von Weizsäcker Foundation Integration Aid for Formerly Addicts. V., whose patron she is. She lives in Berlin. We made our balls out of straw and wrapped the remains of cloth around the small bales. If we had chalk, we painted boxes on the street and then played box hopping. We climbed trees. Sometimes we children also played bomb attacks on ants and beetles. I was only seven years old when the war broke out, in my memories back then it was always war. I saw the end of the war in Bavaria, we were evacuated in Oberstdorf when the cities were bombed and the schools closed in the Ruhr area, where we came from. We weren't asked if what was happening bothered us in any way. No questions were asked as a child. You had to obey, you knew the rules, so you were protected. Adults also did not involve us in political talks, it was far too dangerous, we children could have blurted out what was said. Special reports, analyzes and backgrounds on topics that affect our society - from reporters from all over the world. Your benefits with SPIEGEL +: for all content on all your devices from the weekly magazine of the weekly magazine can be canceled at any time can be canceled online for only € 19.99 per month\n",
            "SPIEGEL + is processed via your iTunes account and paid for with the purchase confirmation. The subscription is automatically renewed 24 hours before expiration\n",
            "a month for the price of currently € 19.99. You can cancel the subscription at any time in the settings of your iTunes account. At SPIEGEL + outside\n",
            "To use this app, you must link the subscription to a SPIEGEL ID account immediately after purchase. With the purchase you accept our\n",
            "General terms and conditions and data protection declaration.\n",
            "\n",
            " 11 \n",
            " The university town of Princeton is located in the US state of New Jersey, which is particularly badly affected by the coronavirus. The Nobel Laureate in Economics, Angus Deaton, 74, and his wife Anne Case, 61, have therefore locked themselves in their house, both of whom belong to the risk group. The couple published the book \"Deaths of Despair and the Future of Capitalism\" in the spring. It traces the crash of the white working class in the United States, whose income has not increased for decades. Part of the blame for the decline is both attributed to the desolate US healthcare system. SPIEGEL: Ms. Case, Mr. Deaton, the whole world is wondering why the United States is suffering so badly from the corona pandemic. Do you have an explanation? Deaton: We are not epidemiologists. But the pandemic proves once again that the US healthcare system is a swamp. That was the case before, but now it shows how big the problems really are. More than 30 million people lost their jobs in the wake of the crisis - often with their health insurance. Special reports, analyzes and backgrounds on topics that affect our society - from reporters from all over the world. Your benefits with SPIEGEL +: for all content on all your devices from the weekly magazine of the weekly magazine can be canceled at any time can be canceled online for only € 19.99 per month\n",
            "SPIEGEL + is processed via your iTunes account and paid for with the purchase confirmation. The subscription is automatically renewed 24 hours before expiration\n",
            "a month for the price of currently € 19.99. You can cancel the subscription at any time in the settings of your iTunes account. At SPIEGEL + outside\n",
            "To use this app, you must link the subscription to a SPIEGEL ID account immediately after purchase. With the purchase you accept our\n",
            "General terms and conditions and data protection declaration.\n",
            "\n",
            " 12 \n",
            " SPIEGEL: Mr. O’Leary, you complain about airlines such as Lufthansa or Air France that have applied for government aid because of the corona crisis. Without the money, they would face bankruptcy. Are financial injections not legitimate in this exceptional situation? O’Leary: No, I don’t see any need for that. It's always the same for them: if they are in bad shape, the government should let them out. British Airways, Iberia, Ryanair or Easyjet also receive no government support. This distorts competition in Europe. If Lufthansa needs money, it should get it from its shareholders or cut costs. But I have to pay respect to Carsten Spohr. He would rather go straight to Mama Merkel and ask for more pocket money. And she gave her favorite son nine billion euros, more than he actually needs. SPIEGEL: Before the money can flow, investors must agree to an extraordinary general meeting on Thursday. The major shareholder and billionaire Heinz Hermann Thiele has already announced resistance. Special reports, analyzes and backgrounds on topics that affect our society - from reporters from all over the world. Your benefits with SPIEGEL +: for all content on all your devices from the weekly magazine of the weekly magazine can be canceled at any time can be canceled online for only € 19.99 per month\n",
            "SPIEGEL + is processed via your iTunes account and paid for with the purchase confirmation. The subscription is automatically renewed 24 hours before expiration\n",
            "a month for the price of currently € 19.99. You can cancel the subscription at any time in the settings of your iTunes account. At SPIEGEL + outside\n",
            "To use this app, you must link the subscription to a SPIEGEL ID account immediately after purchase. With the purchase you accept our\n",
            "General terms and conditions and data protection declaration.\n",
            "\n",
            " 13 \n",
            " The poor sinner went bound to the scaffold. Then she would probably have to kneel down and get a last look at the people who wanted to see her die. A little later the sword whizzed down, her head rolling. It is quite possible that their remains would remain there for a few days, as a deterrent and postmortem humiliation. What is certain is that the head and body were buried about ten meters apart, right next to the remains of other men and women who had been brought to their supposedly just punishment in this terrible place. The place of execution, where the delinquent took her last breath, was at Allensbach on Lake Constance and was not only used for decapitation, but also for hanging, cycling and burning. After its demolition around 1820, grass grew over horror. The place of death became a meadow on which corn poppies grew in spring. Now, however, the remains of the mysterious woman have reappeared, as well as the bones of other people who were sent to the afterlife at Allensbach. Jürgen Hald, archaeologist in charge of the Constance district, is responsible for the discovery. Special reports, analyzes and backgrounds on topics that affect our society - from reporters from all over the world. Your benefits with SPIEGEL +: for all content on all your devices from the weekly magazine of the weekly magazine can be canceled at any time can be canceled online for only € 19.99 per month\n",
            "SPIEGEL + is processed via your iTunes account and paid for with the purchase confirmation. The subscription is automatically renewed 24 hours before expiration\n",
            "a month for the price of currently € 19.99. You can cancel the subscription at any time in the settings of your iTunes account. At SPIEGEL + outside\n",
            "To use this app, you must link the subscription to a SPIEGEL ID account immediately after purchase. With the purchase you accept our\n",
            "General terms and conditions and data protection declaration.\n",
            "\n",
            " 14 \n",
            " A few years ago, retirement planning was a pretty easy thing. You could largely rely on state pensions and private life insurance. Anyone who put something aside was rewarded with interest from their bank and was able to prepare for retirement without financial worries. Sophisticated financial planning was not needed. But those who are over fifty today can no longer rely on all of these certainties. Interest rates have practically dropped to zero. Consumer advocates have been categorically advising against life insurance and similar products for years. \"Many prospective retirees therefore have to rethink and develop their own plan,\" says asset manager Gerd Kommer. In his new book \"Sovereign Investing Before and Retired\", the financial expert summarized the most important basic rules that retirees should know. Kommer is a proven financial expert. Already in 2000 he explained in a book how small investors can be successful with so-called index funds (ETFs). Today the products have long established themselves on the mass market. Special reports, analyzes and backgrounds on topics that affect our society - from reporters from all over the world. Your benefits with SPIEGEL +: for all content on all your devices from the weekly magazine of the weekly magazine can be canceled at any time can be canceled online for only € 19.99 per month\n",
            "SPIEGEL + is processed via your iTunes account and paid for with the purchase confirmation. The subscription is automatically renewed 24 hours before expiration\n",
            "a month for the price of currently € 19.99. You can cancel the subscription at any time in the settings of your iTunes account. At SPIEGEL + outside\n",
            "To use this app, you must link the subscription to a SPIEGEL ID account immediately after purchase. With the purchase you accept our\n",
            "General terms and conditions and data protection declaration.\n",
            "\n",
            " 15 \n",
            " The first Covid 19 patients in Germany had to struggle with the burden of being a sensation in addition to their symptoms of illness. The treating chief physician Clemens Wendtner described the effect of the TV and Internet news in the isolation ward of the Schwabing Clinic as follows: \"You can tell that the world is talking about you.\" The employees of the automotive supplier Webasto were infected by a colleague from Shanghai who was in Bavaria for further training. The skiers followed. They returned from the slopes of Tyrol, South Tyrol and Vorarlberg after the holidays, where they had celebrated with holidaymakers from all over Europe in the bars. In the meantime, Covid 19 stations and health authorities have increasingly dealt with a completely different clientele: with cheap Eastern European wages from the slaughterhouses, with packers from logistics centers, with asylum seekers who infect each other in their accommodation. It can also be understood as follows: First the pandemic hit the travelers and the well-off, now it hits the poor, especially those who live or work in cramped conditions. Special reports, analyzes and backgrounds on topics that affect our society - from reporters from all over the world. Your benefits with SPIEGEL +: for all content on all your devices from the weekly magazine of the weekly magazine can be canceled at any time can be canceled online for only € 19.99 per month\n",
            "SPIEGEL + is processed via your iTunes account and paid for with the purchase confirmation. The subscription is automatically renewed 24 hours before expiration\n",
            "a month for the price of currently € 19.99. You can cancel the subscription at any time in the settings of your iTunes account. At SPIEGEL + outside\n",
            "To use this app, you must link the subscription to a SPIEGEL ID account immediately after purchase. With the purchase you accept our\n",
            "General terms and conditions and data protection declaration.\n",
            "\n",
            " 16 \n",
            " The Thai chicken curry is one of the great winners of the pandemic. It is already one of the dishes that are ordered most frequently worldwide on the many online platforms operated by Niklas Östberg. \"Many people have learned how pleasant it is to order Thai chicken curry in the evening instead of cooking,\" he says. Even a \"return to normality\" would not change the new ordering convenience so quickly. Östberg, 40, is the head of Delivery Hero. The Berlin-based company has been around for nine years, and brands like Foodora and its pink bicycle couriers have made it one of the world's largest food delivery services outside of China. The start-up grew rapidly; it expanded to four continents, in more than 40 countries. Only in the corona crisis did success become a real boom. More and more restaurateurs sought help from Östberg; in times of lockdowns and exit restrictions, delivery apps were often the only way for restaurants to make any sales at all. Special reports, analyzes and backgrounds on topics that affect our society - from reporters from all over the world. Your benefits with SPIEGEL +: for all content on all your devices from the weekly magazine of the weekly magazine can be canceled at any time can be canceled online for only € 19.99 per month\n",
            "SPIEGEL + is processed via your iTunes account and paid for with the purchase confirmation. The subscription is automatically renewed 24 hours before expiration\n",
            "a month for the price of currently € 19.99. You can cancel the subscription at any time in the settings of your iTunes account. At SPIEGEL + outside\n",
            "To use this app, you must link the subscription to a SPIEGEL ID account immediately after purchase. With the purchase you accept our\n",
            "General terms and conditions and data protection declaration.\n",
            "\n",
            " 17 \n",
            " Nadine Wilmes can quantify her dream fairly precisely: it should be 5.25 meters long, 3.20 meters wide, oval, of course with a heat pump. \"After all, we don't want any Baltic Sea temperatures, I don't put a foot in the water below 25 degrees,\" says Wilmes on the phone. She is standing in her house in the North Rhine-Westphalian town of Porta Westfalica and is looking at the lawn, where, in the corner next to the lilac bush, he should see his own pool. \"It should be a real oasis of wellbeing\". Wilmes works as an industrial clerk, the children are 8 and 13 years old, her husband is in the field a lot in the car. Cool off after work, swim a little, a piece of Algarve in Westphalia. When, if not now? The Wilmes had to cancel their skiing holiday because of Corona. And whether that really works with the summer vacation? So Nadine Wilmes calculated, planned and obtained offers: the family calculated the excavation, excavator, piping, and of course the steel pool at around 20,000 euros. \"We were perfectly prepared,\" says Nadine Wilmes. Special reports, analyzes and backgrounds on topics that affect our society - from reporters from all over the world. Your benefits with SPIEGEL +: for all content on all your devices from the weekly magazine of the weekly magazine can be canceled at any time can be canceled online for only € 19.99 per month\n",
            "SPIEGEL + is processed via your iTunes account and paid for with the purchase confirmation. The subscription is automatically renewed 24 hours before expiration\n",
            "a month for the price of currently € 19.99. You can cancel the subscription at any time in the settings of your iTunes account. At SPIEGEL + outside\n",
            "To use this app, you must link the subscription to a SPIEGEL ID account immediately after purchase. With the purchase you accept our\n",
            "General terms and conditions and data protection declaration.\n",
            "\n",
            " 18 \n",
            " SPIEGEL: Mr. Ziegler, triggered by the corona pandemic, we're currently experiencing perhaps the worst economic crisis of the past 100 years. There is also uncertainty on the stock exchanges. Are there some basic tips on how investors can deal with it? Ziegler: You can try to consciously look further into the future: what will happen in ten years? Since we will probably have overcome the problem with Corona. And many investors will be annoyed if they have now given up their investments in a panic. You should also try not to get into constant brooding. It is not a good thing to worry about your money all day. Instead, you can set certain times in which you deal with it in concrete terms. The graduate psychologist Michael Ziegler, 36, is a research assistant at the Chair for Psychology, in particular Economic and Social Psychology, at the Friedrich Alexander University in Erlangen-Nuremberg. He is currently working on a dissertation with a focus on financial psychology: the question is why investors hold on to losing trades and what can reduce this tendency. SPIEGEL: It could be comforting: the risk of investing in stocks is manageable in the long term. Calculated over 15 years, you have usually made a good return in the past 50 years with a broadly diversified basket of stocks. It is usually worthwhile to persevere. Special reports, analyzes and backgrounds on topics that affect our society - from reporters from all over the world. Your benefits with SPIEGEL +: for all content on all your devices from the weekly magazine of the weekly magazine can be canceled at any time can be canceled online for only € 19.99 per month\n",
            "SPIEGEL + is processed via your iTunes account and paid for with the purchase confirmation. The subscription is automatically renewed 24 hours before expiration\n",
            "a month for the price of currently € 19.99. You can cancel the subscription at any time in the settings of your iTunes account. At SPIEGEL + outside\n",
            "To use this app, you must link the subscription to a SPIEGEL ID account immediately after purchase. With the purchase you accept our\n",
            "General terms and conditions and data protection declaration.\n",
            "\n",
            " 19 \n",
            " Nikolai Pudow, born in 1921, was 18 years old when he read Hitler's \"Mein Kampf\" as a student at the First Artillery School in Moscow. He was impressed, he says, that there was someone in distant Germany who declared him and his family \"subhuman\". In May 1945, Pudow's unit was involved in the conquest of Berlin; After the war ended, he stayed in Germany for three years before returning to Russia. A photo from the summer of 1945 shows Captain Pudow in uniform, his chest full of medals, his hair short on his temples. He no longer knows where the picture was taken. \"In Rathenow,\" says his wife Jewgenija, \"in the studio, there was the stadium and the canteen where I worked, your four cannons were in front of our windows.\" The two met in May 1945, and Evgenia had survived the Buchenwald concentration camp. Today they live in Balaschicha, a big city near Moscow. He forgot most of the German words, says Pudow. The word \"Untermensch\" does not - he still speaks it without an accent, at 98. On May 2, Nikolai Pudow's battery, part of the 1st Belarusian front, was a few kilometers from Berlin when he received the order, heading west to march. That day Helmuth Weidling, the combat commander of Berlin, surrendered. The house war continued for a few more days; Pudow was supposed to prevent units of the 12th Army under General Walther Wenck from advancing to Berlin from the west. \"The Germans were very well prepared. At the crossroads there were piles of fist cartridges. We also used them, shot at windows, in the suburbs, at red-brick houses. We had to smoke out German machine gunner. We were constantly on the move gave us maps of Berlin and the surrounding area, with place and street names in German and in Russian. \" He still keeps the cards in his Moscow apartment, they have black spots. Pudow's artillery map from 1945: \"Where's the enemy? Where should we shoot?\" SPIEGEL: Powder? Pudow: traces of leather. I carried the cards in my boots. Special reports, analyzes and backgrounds on topics that affect our society - from reporters from all over the world. Your benefits with SPIEGEL +: for all content on all your devices from the weekly magazine of the weekly magazine can be canceled at any time can be canceled online for only € 19.99 per month\n",
            "SPIEGEL + is processed via your iTunes account and paid for with the purchase confirmation. The subscription is automatically renewed 24 hours before expiration\n",
            "a month for the price of currently € 19.99. You can cancel the subscription at any time in the settings of your iTunes account. At SPIEGEL + outside\n",
            "To use this app, you must link the subscription to a SPIEGEL ID account immediately after purchase. With the purchase you accept our\n",
            "General terms and conditions and data protection declaration.\n",
            "\n",
            " 20 \n",
            " Digitization has reached one of the last analog bastions: the tax offices. Where thousands of forms once stacked, four out of five income tax returns are now received digitally. Almost 24 million citizens chose this route last year, twice as many as eight years ago. This is possible via the online tax office ELSTER (from: electronic tax return). But registering on the Mein ELSTER portal is tedious, and even after that the tax authorities don't exactly come up with digital finesse: In fact, ELSTER users fill out tax forms - just on the screen instead of on paper. Instructions and explanations in the typical official jargon make life difficult for laypeople. Help is not far: More and more companies are offering support. In addition to established software manufacturers, start-ups such as Taxfix or Wundertax are fighting for the favor of digital tax returns. Anyone who decides on their offers does not have to install any software, but can enter their details directly in Internet masks or apps. Special reports, analyzes and backgrounds on topics that affect our society - from reporters from all over the world. Your benefits with SPIEGEL +: for all content on all your devices from the weekly magazine of the weekly magazine can be canceled at any time can be canceled online for only € 19.99 per month\n",
            "SPIEGEL + is processed via your iTunes account and paid for with the purchase confirmation. The subscription is automatically renewed 24 hours before expiration\n",
            "a month for the price of currently € 19.99. You can cancel the subscription at any time in the settings of your iTunes account. At SPIEGEL + outside\n",
            "To use this app, you must link the subscription to a SPIEGEL ID account immediately after purchase. With the purchase you accept our\n",
            "General terms and conditions and data protection declaration.\n",
            "\n",
            " 21 \n",
            " No question: Hartmut von Kronberg the boy was extremely successful as a knight. Free of scruples and morals, he attacked the much used Reichstrasse and trade routes to Frankfurt from his Tannenberg castle near Darmstadt. He looted entire merchant trains and stole the goods. He not only relieved successful merchants of their bulging money bags, but also kidnapped several of them to his robber baron's nest in the Odenwald. There he let them languish until their families had paid a decent ransom. The offspring of a lower knight family deserved this business model for years, because Frankfurt was an important trade fair and trade city at the end of the 14th century. Order now online and the booklet will be sent to your home! Ordering from Amazon At MyKiosk you can find SPIEGEL STORY by subscription Hartmut von Kronberg did not correspond to the typical image of a knight, as was often drawn in the Middle Ages. Kronberg was not a romantic hero, as he appears in the Arthurian sagas and Grail novels, and was not a protector of widows and orphans. Mining might have been as foreign to him as knightly rules. But he too was a knight. The idealized picture that the courtly epic painted from his stand often had little in common with the real role that knighthood played in the war business. Hartmut may have been of nobility, but he was not noble: rather a kind of criminal who sought his advantage through the rule of thumb. And so he wasn't a nerd among the knights. Special reports, analyzes and backgrounds on topics that affect our society - from reporters from all over the world. Your benefits with SPIEGEL +: for all content on all your devices from the weekly magazine of the weekly magazine can be canceled at any time can be canceled online for only € 19.99 per month\n",
            "SPIEGEL + is processed via your iTunes account and paid for with the purchase confirmation. The subscription is automatically renewed 24 hours before expiration\n",
            "a month for the price of currently € 19.99. You can cancel the subscription at any time in the settings of your iTunes account. At SPIEGEL + outside\n",
            "To use this app, you must link the subscription to a SPIEGEL ID account immediately after purchase. With the purchase you accept our\n",
            "General terms and conditions and data protection declaration.\n",
            "\n",
            " 22 \n",
            " \"Product disappointment\" is what market researchers call the feeling when customers are dissatisfied with the goods they buy. If they get less than they expected for their money and the product does not do what was announced. In some cases, the mismatch between aspiration and reality becomes apparent very quickly. In others, it can take a while. There are some indications that this is exactly the case with the latest government stimulus package. When the grand coalition presented its so-called powerhouse in early June, the approval was unanimous. Citizens were impressed, the polls showed that the government had acted quickly. And the economists praised the program as \"surprisingly large\" and \"well thought out\". In the meantime, however, there are doubts in the professional world whether the price-performance ratio of the latest coalition product is right. The 130 billion euros of the package are being spent on all sorts of purposes that are currently well received by the public - such as climate protection, e-mobility or digitization. But the effect on the economy, as recent analyzes show, could be rather modest. Special reports, analyzes and backgrounds on topics that affect our society - from reporters from all over the world. Your benefits with SPIEGEL +: for all content on all your devices from the weekly magazine of the weekly magazine can be canceled at any time can be canceled online for only € 19.99 per month\n",
            "SPIEGEL + is processed via your iTunes account and paid for with the purchase confirmation. The subscription is automatically renewed 24 hours before expiration\n",
            "a month for the price of currently € 19.99. You can cancel the subscription at any time in the settings of your iTunes account. At SPIEGEL + outside\n",
            "To use this app, you must link the subscription to a SPIEGEL ID account immediately after purchase. With the purchase you accept our\n",
            "General terms and conditions and data protection declaration.\n",
            "\n",
            " 23 \n",
            " The corona pandemic is also plunging the German economy into a crisis. Many companies are already feeling it. In order not to have to dismiss their employees, they now send them in short-time work. Employees then receive money from unemployment insurance - in principle also at this level: 60 percent of the net wage, employees with children in the household 67 percent. However, not every employee is fully committed to short-time work. It is possible (and also customary) that short-time workers still work part of the agreed working hours. You will then continue to receive a corresponding share of the wages from the employer. In the event of loss of earnings, they then receive short-time work benefits - 60 or 67 percent of the amount that they lack for their normal net wages. It is difficult to calculate how much this is, depending on the case. With our short-time work allowance calculator, you can quickly and easily calculate how much income you can expect in your specific case. In order to be able to use the calculator, you must first enter your regular gross monthly salary (in the \"Gross gross wage target\" field), then the gross monthly salary that you also receive from your employer during short-time work (in the \"Gross gross wage actual\" field) . If you work with so-called short-time work, zero - so don't work at all anymore - your actual gross salary will also be zero euros. If your working time is halved, your actual gross salary will also be halved. You also have to specify whether children live in your household - and which state you live in. The latter is necessary because different contribution limits apply to East and West Germany. If your gross salary with short-time work is still above this limit, no short-time work benefit will be paid. Then you need to know your income tax class. Here is a brief overview of which class you belong to: Income tax class I applies to the following employees: single widows from the year after next after the death of their spouse or registered partner, divorced married or living in a partnership who are permanently separated or married whose spouse or registered partner is only subject to limited taxation in the Federal Republic (usually because he or she does not live in Germany) Wage tax class II applies to single parents who meet the requirements of tax class I and who are also entitled to the relief amount for single parents to have. The following employees fall into income tax class III: Married and registered partners who do not live separately forever and have not chosen tax class IV. The spouse or life partner who is also employed then receives tax class V. If the other partner is not employed or self-employed, wage tax class III also applies to him. Widowed until the end of the calendar year following the death of the spouse / partner. The deceased spouse or life partner must have been subject to unlimited income tax at the time of his death. The spouses or life partners must not have lived separately until the time of death. Married employees or those living in partnership fall into income tax class IV if both partners are subject to unlimited income tax and do not permanently live separately. However, if one partner is in tax class III, the other does not fall in tax class IV, but in tax class V. Spouses or life partners who are both employed can have the tax class changed once a year. Tax class V is applied if both spouses or life partners apply to classify the other spouse or life partner in tax class III (see above). Income tax class VI is usually entered if an employee has more than one employment relationship.\n",
            "\n",
            " 24 \n",
            " Until the outbreak of the corona pandemic, Economics Minister Peter Altmaier was considered a powerless appendix to the grand coalition. Hardly anyone took him seriously. His master plan, forcing German companies to become \"national economic champions\" if necessary with the help of the state, met with massive resistance. The pandemic has changed Altmaier's image. Suddenly it is seen as a ministerial steamroller that saves people and the economy from destruction with delicacies and tax billions. As of now, this has also been fairly successful. With his new coup, Altmaier exaggerates immeasurably. The federal government is investing 300 million euros in tax money in the Tübingen biotech company Curevac, which is working on a vaccine against Covid-19 (see also here). With a share of 23 percent, the Federal Republic of Germany becomes a shareholder in a company that plans to go public in the United States in the near future. In many ways, this is the wrong signal and does not solve any of the problems in the German biotech industry. Curevac does not need the federal government at all - neither to finance the expensive research on a vaccine nor as a shield against unwanted takeover by a foreign competitor, as Altmaier insinuated. Special reports, analyzes and backgrounds on topics that affect our society - from reporters from all over the world. Your benefits with SPIEGEL +: for all content on all your devices from the weekly magazine of the weekly magazine can be canceled at any time can be canceled online for only € 19.99 per month\n",
            "SPIEGEL + is processed via your iTunes account and paid for with the purchase confirmation. The subscription is automatically renewed 24 hours before expiration\n",
            "a month for the price of currently € 19.99. You can cancel the subscription at any time in the settings of your iTunes account. At SPIEGEL + outside\n",
            "To use this app, you must link the subscription to a SPIEGEL ID account immediately after purchase. With the purchase you accept our\n",
            "General terms and conditions and data protection declaration.\n",
            "\n",
            " 25 \n",
            " A sunny July morning in 1980 on a country road north of Stuttgart. Fresh bread rolls smell on the back seat of the Golf GLS. The 28-year-old driver is probably tired. In a curve it gets on the opposite lane and bangs head-on into a gravel truck. You and your passenger die. The police find weapons, fake ID cards and thousand-dollar bills from the ransom of a kidnapping in the wreck. The Golf has been stolen, the French license plates have been faked. It is an accident at work by the RAF terrorist group. He will have episodes two years later that nobody suspects this summer morning. The two casualties had a conspiratorial apartment in Heidelberg. Despite an intensive search, it was only found in October 1980 when the main tenant returned from abroad and wanted to question her missing subtenants about the spoiled food. Apparently no one had been in the apartment since the accident. The most valuable evidence should be sheets with encrypted notes. It remained puzzling why the RAF did not \"clean\" the apartment as usual, ie emptied and cleaned it flawlessly, including removing fingerprints. Special reports, analyzes and backgrounds on topics that affect our society - from reporters from all over the world. Your benefits with SPIEGEL +: for all content on all your devices from the weekly magazine of the weekly magazine can be canceled at any time can be canceled online for only € 19.99 per month\n",
            "SPIEGEL + is processed via your iTunes account and paid for with the purchase confirmation. The subscription is automatically renewed 24 hours before expiration\n",
            "a month for the price of currently € 19.99. You can cancel the subscription at any time in the settings of your iTunes account. At SPIEGEL + outside\n",
            "To use this app, you must link the subscription to a SPIEGEL ID account immediately after purchase. With the purchase you accept our\n",
            "General terms and conditions and data protection declaration.\n",
            "\n",
            " 26 \n",
            " It must have been kindergarten when I pointed a finger at a couple of Turkish-born girls while doing gymnastics. \"Mom, why are they so golden?\" I asked, looking at her shimmering skin tone. Another child's mother sat next to us on the bench and laughed: \"You're golden yourself!\" When we discuss racism in Germany, about minorities, I remember that story that my mother often reminded me of years later. I wonder how much I have in common with the Turkish girls from the workers' district in which we were doing gymnastics. Or with all the other children in Germany whose parents immigrated and who looked a little different than my friends Katrin and Nicole. The Greek seamstress, to whom I bring something once a year, likes to say: You could also be Greek. She wants to compliment me. Recently in the market, the seller at the olive stall behind her face mask asked, \"Where are you from?\" And we chatted for a while about her Iranian and Indian names. Something similar happened at Ikea: In front of the cash register, an older woman with a headscarf spoke to me quietly: \"Are you Turkish?\" She was looking for someone who would exchange her Ikea voucher for cash, and apparently hoped for a compatriot who would be more willing to do so. Special reports, analyzes and backgrounds on topics that affect our society - from reporters from all over the world. Your benefits with SPIEGEL +: for all content on all your devices from the weekly magazine of the weekly magazine can be canceled at any time can be canceled online for only € 19.99 per month\n",
            "SPIEGEL + is processed via your iTunes account and paid for with the purchase confirmation. The subscription is automatically renewed 24 hours before expiration\n",
            "a month for the price of currently € 19.99. You can cancel the subscription at any time in the settings of your iTunes account. At SPIEGEL + outside\n",
            "To use this app, you must link the subscription to a SPIEGEL ID account immediately after purchase. With the purchase you accept our\n",
            "General terms and conditions and data protection declaration.\n",
            "\n",
            " 27 \n",
            " Dating portals for \"Silver Ager\", memory training for retirees, back-fit for seniors: The advertising mostly shows people of advanced age actively, socially and enterprisingly. The reality is often different. When the body is no longer doing what it is supposed to do, previously obvious actions can become torture. If the memory fails, it becomes difficult to plan everyday life - and care is necessary. It is worth thinking about at a time when even retirement seems to be a long way off. Because care is expensive, it has to be financed - and in many cases state security is not enough. Taxpayers in Germany have been paying for long-term care insurance for long-term care benefits in Germany: Statutory insured persons are automatically members of the social long-term care insurance (SPV); privately insured persons must take out private long-term care insurance (PPV). However, both usually only cover part of the actual maintenance costs. Special reports, analyzes and backgrounds on topics that affect our society - from reporters from all over the world. Your benefits with SPIEGEL +: for all content on all your devices from the weekly magazine of the weekly magazine can be canceled at any time can be canceled online for only € 19.99 per month\n",
            "SPIEGEL + is processed via your iTunes account and paid for with the purchase confirmation. The subscription is automatically renewed 24 hours before expiration\n",
            "a month for the price of currently € 19.99. You can cancel the subscription at any time in the settings of your iTunes account. At SPIEGEL + outside\n",
            "To use this app, you must link the subscription to a SPIEGEL ID account immediately after purchase. With the purchase you accept our\n",
            "General terms and conditions and data protection declaration.\n",
            "\n",
            " 28 \n",
            " Background knowledge Where does \"Romeo and Juliet\" play? Where's the Valley of the Kings? And where is the \"pregnant oyster\" again? These are just three of around a thousand questions with which you can prove your general education at Trivial Pursuit. Probably the best known knowledge game in the world was launched in 1979 by four Canadian friends. Although business was not going well at first, the inventors didn't give up - and it was worth it. In 1983, Trivial Pursuit was discovered by a large US company, marketed and broke all records in the following years. Instructions for beginners: How Trivial Pursuit works The colors on the field indicate from which of the six categories of knowledge you will be asked a question next: art and literature, geography, sports and entertainment, history, entertainment and science and technology. To start, click on the cube. Then drag your token over the board and answer the relevant questions. On the six large playing fields you get the chance to win whole categories and to get knowledge corners for your playing piece. What is the goal at Trivial Pursuit? Price inquiry time June 26th, 2020 03:11 am No guarantee. Your goal is to answer every question as quickly as possible and above all correctly. Both a quick time and the correct answer to a question earn you points. As soon as you have acquired all knowledge corners, you must also roll yourself onto the field in the middle of the circle. There you will be asked the master question - if you answer it correctly, you will have won. Now it's time to test your knowledge and play yourself to victory - have fun!\n",
            "\n",
            " 29 \n",
            " SPIEGEL: A manager of the Tönnies group said on Wednesday that they \"fought like lions\" to keep the virus out of the company. How credible is that? Brümmer: I don't think so at all. Of course there is no absolute protection, but here we experience that one roared outside like a lion and inside acted like a kitten. SPIEGEL: Why? Brümmer: If more than 600 infected people show up at the Tönnies headquarters in Rheda-Wiedenbrück out of around 1,000, this indicates that a hotspot is fermenting longer. SPIEGEL: There is a video circulating on the net that comes from the Tönnies canteen. The workers sit close together here, it is extremely risky. Tönnies gave the date sometimes in late March and sometimes in early April. Now, according to SWR, it shows that it dates from April 8 - before the first mass outbreaks at slaughterhouses and the extended protective measures at Tönnies. Brümmer: It remains a scandal. Employees are deliberately exposed to a health risk. That is inhumane. Tönnies also has to comply with the lockdown regulations in the country and here it is obviously violated. Special reports, analyzes and backgrounds on topics that affect our society - from reporters from all over the world. Your benefits with SPIEGEL +: for all content on all your devices from the weekly magazine of the weekly magazine can be canceled at any time can be canceled online for only € 19.99 per month\n",
            "SPIEGEL + is processed via your iTunes account and paid for with the purchase confirmation. The subscription is automatically renewed 24 hours before expiration\n",
            "a month for the price of currently € 19.99. You can cancel the subscription at any time in the settings of your iTunes account. At SPIEGEL + outside\n",
            "To use this app, you must link the subscription to a SPIEGEL ID account immediately after purchase. With the purchase you accept our\n",
            "General terms and conditions and data protection declaration.\n",
            "\n",
            " 30 \n",
            " Samer Tannous was a university lecturer in the Syrian capital Damascus. Since December 2015 he has been living with his wife and two daughters in Rotenburg (Wümme) in Lower Saxony, where he works as a French teacher. In his column for SPIEGEL +, he writes about his attempts to understand the customs of his new German homeland. Once again, I am very close to the language test\n",
            "C1 failed. In the evening I stood in front of the mirror and took stock. I do\n",
            "more often: ask me how I actually grade my life. How many points\n",
            "I give my previous life's work in the various subjects work,\n",
            "Family, education, health, love? What minor subjects are there? Is my\n",
            "Average grade increased or decreased in recent years? Different stages of life appear before mine\n",
            "mental eye on successes and failures. Sometimes you have the first\n",
            "Hit the goal, sometimes you missed several times, like\n",
            "now with my language exam. Special reports, analyzes and backgrounds on topics that affect our society - from reporters from all over the world. Your benefits with SPIEGEL +: for all content on all your devices from the weekly magazine of the weekly magazine can be canceled at any time can be canceled online for only € 19.99 per month\n",
            "SPIEGEL + is processed via your iTunes account and paid for with the purchase confirmation. The subscription is automatically renewed 24 hours before expiration\n",
            "a month for the price of currently € 19.99. You can cancel the subscription at any time in the settings of your iTunes account. At SPIEGEL + outside\n",
            "To use this app, you must link the subscription to a SPIEGEL ID account immediately after purchase. With the purchase you accept our\n",
            "General terms and conditions and data protection declaration.\n",
            "\n",
            " 31 \n",
            " Samer Tannous was a university lecturer in the Syrian capital Damascus. Since December 2015 he has been living with his wife and two daughters in Rotenburg (Wümme) in Lower Saxony, where he works as a French teacher. Together with his friend Gerd Hachmöller, he writes about his attempts to understand the customs of his new German home. Last week I went for a walk with my family behind our house. The footpath was about two meters wide. When a couple came to meet us, we formed a line to get past the couple better while keeping a safe distance. In my view, we had thus fulfilled our civic duty. Columnist Samer Tannous privately The woman who came towards us stepped with an angry expression next to the footpath and stopped there. When we were over, the woman hissed at us: \"It would have been nice if you had made some space!\" My wife understood: \"It was nice that you made room\" and replied gently: \"Please be fine!\" I had to grin. It was the wrong answer, but somehow the right one. I found the other woman's behavior somewhat exaggerated. While most Germans adhere to the Corona distance rule and the country has come through the crisis well so far, there are also a few recreational policemen who think they have to be particularly careful. That made me want to take a look at the Corona happening through the glasses of a Syrian. Special reports, analyzes and backgrounds on topics that affect our society - from reporters from all over the world. Your benefits with SPIEGEL +: for all content on all your devices from the weekly magazine of the weekly magazine can be canceled at any time can be canceled online for only € 19.99 per month\n",
            "SPIEGEL + is processed via your iTunes account and paid for with the purchase confirmation. The subscription is automatically renewed 24 hours before expiration\n",
            "a month for the price of currently € 19.99. You can cancel the subscription at any time in the settings of your iTunes account. At SPIEGEL + outside\n",
            "To use this app, you must link the subscription to a SPIEGEL ID account immediately after purchase. With the purchase you accept our\n",
            "General terms and conditions and data protection declaration.\n",
            "\n",
            " 32 \n",
            " Mathias Brodkorb was Minister of Culture in Mecklenburg-Western Pomerania from 2011 to 2016 and worked to standardize the Abitur in Germany. Until the end of 2019, he sat as a SPD member in the Schwerin state parliament. Together with the educational researcher Katja Koch, professor at the University of Rostock, he wrote the book \"Der Abiturbaudug - Vom Failing German educational federalism. A pamphlet\". The interview took place via video chat. SPIEGEL: Ms. Koch, Mr. Brodkorb, this year the Abitur took place under special conditions due to the corona pandemic. How fair were the exams for the 2020 vintage? Katja Koch: I don't think the corona crisis will affect the results. The school in all federal states has been out for weeks - in this respect, the Abitur should not be more unfair than usual. Of course, I am sorry for the students that there was a lot of uncertainty in advance. Mathias Brodkorb Mathias Brodkorb: The whole discussion about the exams and now also about subsequent grade adjustments is superfluous and implausible. Regular classes in which new material is taught usually only take place in the first half of the year for the Abitur classes - afterwards the exam is prepared. The lockdown did not come until mid-March. In terms of content, the vast majority of students have not missed anything. I am more concerned with the high school graduates from 2021. Special reports, analyzes and backgrounds on topics that affect our society - from reporters from all over the world. Your benefits with SPIEGEL +: for all content on all your devices from the weekly magazine of the weekly magazine can be canceled at any time can be canceled online for only € 19.99 per month\n",
            "SPIEGEL + is processed via your iTunes account and paid for with the purchase confirmation. The subscription is automatically renewed 24 hours before expiration\n",
            "a month for the price of currently € 19.99. You can cancel the subscription at any time in the settings of your iTunes account. At SPIEGEL + outside\n",
            "To use this app, you must link the subscription to a SPIEGEL ID account immediately after purchase. With the purchase you accept our\n",
            "General terms and conditions and data protection declaration.\n",
            "\n",
            " 33 \n",
            " SPIEGEL: Mr. Clauss, how did the war shape people's lives in the Middle Ages? Clauss: Very strong. And just because of how the living together was organized. The society of the Western European Middle Ages was divided into three clergy, peasants and nobles. The peasants provided for a living, the clergy for the salvation of the soul - and the nobility was defined by its ability to wage war and defend the community. The privileges of this class were justified by the ability to wage war. Martin Clauss, 47, is a professor of European history in the Middle Ages and in the early modern period at the Chemnitz University of Technology and does research primarily on military conflicts in the Middle Ages. He is currently Chairman of the Military History Working Group. V. (Portal-militaergeschichte.de). SPIEGEL: Was the nobility obliged to wage war so that they did not lose their privileges? Clauss: Yes, that resulted from this social order. The social elite of the Middle Ages was a warrior. Members of this stand did not have to work themselves, but were taken care of by the others - in return, they guaranteed the protection of the community against attacks by other groups. If they did not do this, their privileges were questioned. In the 14th century, for example, when the French nobility lost one battle after the other. Special reports, analyzes and backgrounds on topics that affect our society - from reporters from all over the world. Your benefits with SPIEGEL +: for all content on all your devices from the weekly magazine of the weekly magazine can be canceled at any time can be canceled online for only € 19.99 per month\n",
            "SPIEGEL + is processed via your iTunes account and paid for with the purchase confirmation. The subscription is automatically renewed 24 hours before expiration\n",
            "a month for the price of currently € 19.99. You can cancel the subscription at any time in the settings of your iTunes account. At SPIEGEL + outside\n",
            "To use this app, you must link the subscription to a SPIEGEL ID account immediately after purchase. With the purchase you accept our\n",
            "General terms and conditions and data protection declaration.\n",
            "\n",
            " 34 \n",
            " Samer Tannous was a university lecturer in the Syrian capital Damascus. Since December 2015 he has been living with his wife and two daughters in Rotenburg (Wümme) in Lower Saxony, where he works as a French teacher. In his column for SPIEGEL +, he writes about his attempts to understand the customs of his new German homeland. For me who was stranded in the North German Plain, that would be\n",
            "Don't live completely without the local drink: beer. To write\n",
            "I got some bottles in this column. It starts with Witbier: a\n",
            "wonderfully sweet taste with a hint of lemon aroma! If you're wondering why a Syrian is talking about beer: I am\n",
            "Christian, like about eleven percent of my countrymen. For many Syrians it is a pleasure\n",
            "nothing unusual about alcohol. The typical anise schnapps in Syria is called\n",
            "Arak. There's no party in the Christian villages and neighborhoods in Syria\n",
            "without a singer singing a song to the Arak. Then they come across\n",
            "People with their glasses on and dance and sing. Now that I am in Germany\n",
            "I would like to shout like a festival singer: \"Germany is my home,\n",
            "and beer is our drink! \"Special reports, analyzes and backgrounds on topics that affect our society - from reporters from all over the world. Your benefits with SPIEGEL +: all content on all your devices from the weekly magazine of the weekly magazine can be canceled online at any time cancelable only € 19.99 per month\n",
            "SPIEGEL + is processed via your iTunes account and paid for with the purchase confirmation. The subscription is automatically renewed 24 hours before expiration\n",
            "a month for the price of currently € 19.99. You can cancel the subscription at any time in the settings of your iTunes account. At SPIEGEL + outside\n",
            "To use this app, you must link the subscription to a SPIEGEL ID account immediately after purchase. With the purchase you accept our\n",
            "General terms and conditions and data protection declaration.\n",
            "\n",
            " 35 \n",
            " There are adventures that are better avoided. A tour of Germany with an electric car is one of them. Those who rely on public charging stations can quickly get lost in the confusion of apps and payment systems - and experience a nasty surprise at the latest when charging electricity. Finding a pillar is difficult. When refueling, the chaos really starts. Every common standard is missing. According to surveys, the average driver uses up to six different charging apps, five charging cards and other electronic means of payment such as PayPal and credit cards. The cheapest price can hardly be found. Customers often only see what the trip cost on the bill weeks later. The reason for the misery is the dominance of regional electricity providers. Years ago they divided the charging station market among themselves in order to increase their profits. Up to now, apart from a few thousand e-car drivers, this has not bothered anyone. Since e-mobility has become a question of fate for German car manufacturers, it has dawned on the supervisory authority that this charging station Babylon is an obstacle. It wants to open up the regional monopolies. Special reports, analyzes and backgrounds on topics that affect our society - from reporters from all over the world. Your benefits with SPIEGEL +: for all content on all your devices from the weekly magazine of the weekly magazine can be canceled at any time can be canceled online for only € 19.99 per month\n",
            "SPIEGEL + is processed via your iTunes account and paid for with the purchase confirmation. The subscription is automatically renewed 24 hours before expiration\n",
            "a month for the price of currently € 19.99. You can cancel the subscription at any time in the settings of your iTunes account. At SPIEGEL + outside\n",
            "To use this app, you must link the subscription to a SPIEGEL ID account immediately after purchase. With the purchase you accept our\n",
            "General terms and conditions and data protection declaration.\n",
            "\n",
            " 36 \n",
            " You have gold in your hands right now, let's bet? No gasping, it's not much, just about 30 milligrams. There is about that much gold in a smartphone. Why? Well, that brings us to the superpowers of this strange and valuable substance, which was once born in space and for which, paradoxically, people are always particularly interested when mankind is not doing so well: gold does not age, does not rust, does not start, withstands damage immersed in the ocean for centuries and is also a very good electrical conductor. And therefore indispensable in all laptops, smartphones and tablets with circuit boards, processors or plug connections. No high-tech without gold. But that's not why you started reading this article, is it? Because gold electrifies not only engineers, jewelry lovers and tank crackers, but for decades also stock market people and those who want to become one: The gold price with its swings down (boom) and up (crisis) is like the fever curve of the global economy. As with hardly any other good, gold depends on when you buy - and sell again. Special reports, analyzes and backgrounds on topics that affect our society - from reporters from all over the world. Your benefits with SPIEGEL +: for all content on all your devices from the weekly magazine of the weekly magazine can be canceled at any time can be canceled online for only € 19.99 per month\n",
            "SPIEGEL + is processed via your iTunes account and paid for with the purchase confirmation. The subscription is automatically renewed 24 hours before expiration\n",
            "a month for the price of currently € 19.99. You can cancel the subscription at any time in the settings of your iTunes account. At SPIEGEL + outside\n",
            "To use this app, you must link the subscription to a SPIEGEL ID account immediately after purchase. With the purchase you accept our\n",
            "General terms and conditions and data protection declaration.\n",
            "\n",
            " 37 \n",
            " Samer Tannous was a university lecturer in the Syrian capital Damascus. Since December 2015 he has been living with his wife and two daughters in Rotenburg (Wümme) in Lower Saxony, where he works as a French teacher. In his column for SPIEGEL +, he writes about his attempts to understand the customs of his new German homeland. Since many\n",
            "Germans view their country very self-critically, they keep their countrymen\n",
            "often for intolerant. But I think that's not true. Because the principle of\n",
            "Tolerance is deeply rooted in German society. It is yours\n",
            "Values. And it goes hand in hand with a remarkable willingness to help. today\n",
            "I would like to give you Germans a large bouquet of flowers. As a\n",
            "I experience this as an example of the solidarity and helpfulness of the Germans\n",
            "volunteering. The drivers of the \"Bürgerbusse\" for example\n",
            "are volunteers in Rotenburg and fill the gaps here in the country\n",
            "Public transport network. One of the drivers is a dentist, he sacrifices\n",
            "his free time to drive the bus for others. He would certainly have many\n",
            "other ways to use your free time. Nevertheless, he is not too\n",
            "too bad for this job. Special reports, analyzes and backgrounds on topics that affect our society - from reporters from all over the world. Your benefits with SPIEGEL +: for all content on all your devices from the weekly magazine of the weekly magazine can be canceled at any time can be canceled online for only € 19.99 per month\n",
            "SPIEGEL + is processed via your iTunes account and paid for with the purchase confirmation. The subscription is automatically renewed 24 hours before expiration\n",
            "a month for the price of currently € 19.99. You can cancel the subscription at any time in the settings of your iTunes account. At SPIEGEL + outside\n",
            "To use this app, you must link the subscription to a SPIEGEL ID account immediately after purchase. With the purchase you accept our\n",
            "General terms and conditions and data protection declaration.\n",
            "\n",
            " 38 \n",
            " For the long neglected heat transition, it should become the most important engine: the scrapping premium for oil heaters. Homeowners have been able to apply for new government funding since the beginning of the year. The number of alternatives is great, but there are huge differences in costs. This is shown by current calculations by the North Rhine-Westphalia Consumer Agency for a model house from the 1970s. Depending on which heating system the old oil boiler is exchanged for, a loss of 7,500 euros is possible over a period of 20 years or an increase of more than 15,000 euros. The cost comparison with a continued operation of the old oil heating depends on the respective building. For example, boilers for new, well-insulated houses need less power. Heat pumps, in turn, are particularly effective in conjunction with underfloor heating - an effort that residents of already standing houses often shy away from. The sample calculations can be used to explain important advantages and disadvantages of different heating systems. Special reports, analyzes and backgrounds on topics that affect our society - from reporters from all over the world. Your benefits with SPIEGEL +: for all content on all your devices from the weekly magazine of the weekly magazine can be canceled at any time can be canceled online for only € 19.99 per month\n",
            "SPIEGEL + is processed via your iTunes account and paid for with the purchase confirmation. The subscription is automatically renewed 24 hours before expiration\n",
            "a month for the price of currently € 19.99. You can cancel the subscription at any time in the settings of your iTunes account. At SPIEGEL + outside\n",
            "To use this app, you must link the subscription to a SPIEGEL ID account immediately after purchase. With the purchase you accept our\n",
            "General terms and conditions and data protection declaration.\n",
            "\n",
            " 39 \n",
            " The corona virus has done a lot of harm. But environmentalists say that the pandemic is a blessing for the climate. Since the disease spreads around the world, less has been produced and consumed worldwide, less flown and more work done at home. The International Energy Agency estimates that CO2 emissions will decrease by eight percent this year - the largest decline in history. Should the \"Fridays for Future\" movement choose the pathogen as their heraldic animal? Better not, as the researchers from the Berlin Mercator Research Institute on Global Commons and Climate Change (MCC) show in a new study. The corona crisis consumes less energy all over the world. But at the same time, many governments are now more concerned about the economy than the global climate, so that the pandemic could help the most dangerous of all environmental killers to make an undesirable comeback: coal power. China, the largest emitter of CO2 in the world, approved almost as many fossil fuels in the first quarter of this year as in the entire previous year. And in other emerging countries, climate-damaging power plants are becoming more attractive during the crisis. \"The danger is great,\" says MCC director Ottmar Edenhofer, \"that many governments are turning to coal to revive the economy.\" Special reports, analyzes and backgrounds on topics that affect our society - from reporters from all over the world. Your benefits with SPIEGEL +: for all content on all your devices from the weekly magazine of the weekly magazine can be canceled at any time can be canceled online for only € 19.99 per month\n",
            "SPIEGEL + is processed via your iTunes account and paid for with the purchase confirmation. The subscription is automatically renewed 24 hours before expiration\n",
            "a month for the price of currently € 19.99. You can cancel the subscription at any time in the settings of your iTunes account. At SPIEGEL + outside\n",
            "To use this app, you must link the subscription to a SPIEGEL ID account immediately after purchase. With the purchase you accept our\n",
            "General terms and conditions and data protection declaration.\n",
            "\n",
            " 40 \n",
            " On the floor in the fully occupied Tokyo Budokan is a 1.88 meter tall, 100 kilogram catcher and enters Muhammad Ali. The heavyweight world champion was never as helpless and without ideas as on this June 26, 1976. He has not landed a blow in several laps, his red gloves dangle dormantly while the Champ's nimble legs try to avoid the kicks. The booing and whistles get louder, cups and crumpled programs land in the ring. Meanwhile, the hematoma on Ali's leg is blooming, the ground attacks of the Japanese giant have an effect. All observers agree: the world has never seen a miserable struggle. How the hell was the greatest boxer ever got in there? Almost two years earlier, Ali is at the height of his career. At the legendary \"Rumble in the Jungle\" 1974 he recaptured the world championship title against the muscle mountain George Foreman. But the forced break from 1967 to 1971, which resulted from his iconic conscientious objection to military service (\"I ain't got no quarrel with them Vietcong!\"), Cost Ali not only the best years of his athletic life, but also a lot of money. His always large group of up to 40 people wants to be paid, two divorces were expensive. Ali has to fight - and make Gage. Special reports, analyzes and backgrounds on topics that affect our society - from reporters from all over the world. Your benefits with SPIEGEL +: for all content on all your devices from the weekly magazine of the weekly magazine can be canceled at any time can be canceled online for only € 19.99 per month\n",
            "SPIEGEL + is processed via your iTunes account and paid for with the purchase confirmation. The subscription is automatically renewed 24 hours before expiration\n",
            "a month for the price of currently € 19.99. You can cancel the subscription at any time in the settings of your iTunes account. At SPIEGEL + outside\n",
            "To use this app, you must link the subscription to a SPIEGEL ID account immediately after purchase. With the purchase you accept our\n",
            "General terms and conditions and data protection declaration.\n",
            "\n",
            " 41 \n",
            " The court festival in honor of the apostles Peter and Paul on June 29, 1073 in Goslar had run harmoniously. The German King Henry IV had invited noblemen from Saxony to his Palatinate. After the event, the Saxon dukes, counts and bishops wanted to negotiate with the king about the distribution of power between the king and princes. The 22-year-old Heinrich refused to listen to them. Order now online and the booklet will be sent to your home! Order from Amazon At MyKiosk you can find SPIEGEL STORY by subscription. The humiliation had consequences. It was the trigger for a bloody conflict that lasted for years, the Saxon Wars of Henry IV. It was about more than just the honor of rejected nobles. Henry IV tried to assert the full power of royalty in Germany against local rulers who vehemently opposed their feudal lord, the king. The king pursued a power policy master plan: he wanted to create a territory around the Harz that would be controlled by him. To this end, he had eight castles built in the region, including the Harzburg near Goslar, with the collegiate church and representative palace. Special reports, analyzes and backgrounds on topics that affect our society - from reporters from all over the world. Your benefits with SPIEGEL +: for all content on all your devices from the weekly magazine of the weekly magazine can be canceled at any time can be canceled online for only € 19.99 per month\n",
            "SPIEGEL + is processed via your iTunes account and paid for with the purchase confirmation. The subscription is automatically renewed 24 hours before expiration\n",
            "a month for the price of currently € 19.99. You can cancel the subscription at any time in the settings of your iTunes account. At SPIEGEL + outside\n",
            "To use this app, you must link the subscription to a SPIEGEL ID account immediately after purchase. With the purchase you accept our\n",
            "General terms and conditions and data protection declaration.\n",
            "\n",
            " 42 \n",
            " The Germans are considered a cautious people. Every German citizen spends an average of more than 2,000 euros a year on insurance. But consumer advocates warn: Many people take out wrong insurance. Important risks are often not covered, but other aspects are completely overinsured. In order to find out what is really necessary, you should be aware of the risks in individual cases and whether you could cover them without insurance. You can only rely to a limited extent on the advice of insurance representatives. Finally, the seller receives a commission for each contract. This gives him an incentive to recommend his clients more than fewer policies. A simple rule is therefore important: Risks that mean total financial loss should be hedged. This includes, for example, liability damage caused to other people or third-party property - for example, the leaked washing machine that floods the entire apartment building or the injured pedestrian who was pushed onto the street by the cyclist. The amount of damage is theoretically unlimited here - insurance is therefore very useful. However, in the case of risks with potentially limited damage - such as on your own car and apartment - you should consider whether you could not pay the necessary amount yourself in the event of damage. If so, you can often save yourself the insurance premium. You can find an overview of which insurance is useful for whom here:\n",
            "\n",
            " 43 \n",
            " SPIEGEL: Especially in times of corona restrictions, it is important for Germans to at least be able to grill. What comes to your grate? Linseisen: Basically you can grill anything. There are meat substitutes, many vegetables are suitable, even fruit can be grilled briefly. But I assume you want me to recommend the right grilled meat. Spiegel: That would be nice. The DGE, of which you are the president, advises eating between 300 and 600 grams of meat per week. Nutritionist Jakob Linseisen heads an Epidemiology Chair at the University Center for Health Sciences at Augsburg Clinic and is President of the German Nutrition Society (DGE). Linseisen: Wait, I have to disagree. We by no means recommend that you have to eat meat at all. But if you do this, then please in moderation. For people with low energy requirements, 300 grams are the upper limit per week. If you eat more calories overall, you can eat up to 600 grams of meat, including processed meat products and sausages. Spiegel: How did the DGE determine these values? Linseisen: We are guided by scientific findings. And they show that high consumption of red meat and processed meat products or sausages increases premature mortality. Special reports, analyzes and backgrounds on topics that affect our society - from reporters from all over the world. Your benefits with SPIEGEL +: for all content on all your devices from the weekly magazine of the weekly magazine can be canceled at any time can be canceled online for only € 19.99 per month\n",
            "SPIEGEL + is processed via your iTunes account and paid for with the purchase confirmation. The subscription is automatically renewed 24 hours before expiration\n",
            "a month for the price of currently € 19.99. You can cancel the subscription at any time in the settings of your iTunes account. At SPIEGEL + outside\n",
            "To use this app, you must link the subscription to a SPIEGEL ID account immediately after purchase. With the purchase you accept our\n",
            "General terms and conditions and data protection declaration.\n",
            "\n",
            " 44 \n",
            " In spring 2012, Stephan Loge, district administrator from the Dahme-Spreewald district, received an invitation to the opening of the BER airport. It should be ready on June 3, 2012. Loge should even be allowed to sit behind the Chancellor, clearly visible to the press. The airport company wants to show itself clearly - Loge, as district administrator, is ultimately responsible for the acceptance of the construction. But it doesn't get that far. Because in the end Stephan Loge will be the man who pulls the emergency brake. Because the fire protection concept does not work, it does not accept the construction site. The BER opening is canceled, even if the airport company wants to stick to the schedule until the very end. In episode 1 of our podcast series \"Made in Germany - Das Flughafenfiasko BER\" ​​you can hear how the district administrator prevailed against two prime ministers and the federal government. Special reports, analyzes and backgrounds on topics that affect our society - from reporters from all over the world. Your benefits with SPIEGEL +: for all content on all your devices from the weekly magazine of the weekly magazine can be canceled at any time can be canceled online for only € 19.99 per month\n",
            "SPIEGEL + is processed via your iTunes account and paid for with the purchase confirmation. The subscription is automatically renewed 24 hours before expiration\n",
            "a month for the price of currently € 19.99. You can cancel the subscription at any time in the settings of your iTunes account. At SPIEGEL + outside\n",
            "To use this app, you must link the subscription to a SPIEGEL ID account immediately after purchase. With the purchase you accept our\n",
            "General terms and conditions and data protection declaration.\n",
            "\n",
            " 45 \n",
            " Hats are trendy. Aluminum hats above all. Federal President Frank-Walter Steinmeier even explicitly warned that they are not an effective substitute for a face mask. At least not in relation to viruses. The aluminum hat stands as a symbol for conspiracy theories, contemporaries with particularly contaminated ideas are often called aluminum hat wearers. This is actually irritating, because an aluminum cover is used for insulation and shielding - and was originally supposed to protect the wearer. How did this revaluation come about? And why was it still chic at the beginning of the 1950s to wear an antenna on your hat so that you could be received almost everywhere and at all times? One of the earliest aluminum hat references is found in a book by John Palfrey. The British wrote in 1909 of an \"insulating electrical device\" that \"surrounds the head while thinking\". The purpose is to \"retain thoughts and ideas\" and to protect against \"telepathic impact\" - that is, the unwanted intrusion of others' thoughts. Special reports, analyzes and backgrounds on topics that affect our society - from reporters from all over the world. Your benefits with SPIEGEL +: for all content on all your devices from the weekly magazine of the weekly magazine can be canceled at any time can be canceled online for only € 19.99 per month\n",
            "SPIEGEL + is processed via your iTunes account and paid for with the purchase confirmation. The subscription is automatically renewed 24 hours before expiration\n",
            "a month for the price of currently € 19.99. You can cancel the subscription at any time in the settings of your iTunes account. At SPIEGEL + outside\n",
            "To use this app, you must link the subscription to a SPIEGEL ID account immediately after purchase. With the purchase you accept our\n",
            "General terms and conditions and data protection declaration.\n",
            "\n",
            " 46 \n",
            " My 20th birthday on May 7, 75 years ago, fell on the same day that the Wehrmacht High Command signed the capitulation on all fronts. In the writing rooms of our \"Luftwaffe Field Division\" in Ijmuiden in the Netherlands, this was an occasion for all sorts of gallows humor - but above all for infinite relief: We were sure that we would be captured by the Canadian troops just entering, not Russian. Jakob Schnetz and Janek Stroisch / DER SPIEGEL The non-fiction author and language critic Wolf Schneider, 95, did his military service with the Air Force. Because he knew English, he initially worked as an interpreter for the U.S. after the war. Army before deciding to become a journalist. He was a correspondent for the AP news agency, Washington correspondent for the \"Süddeutsche Zeitung\", chief editor and publisher at \"Stern\" and in 1973, for a short time, editor-in-chief of the \"Welt\". From 1979 on, he directed the Hamburg School of Journalism, which would later become the Henri Nannen School, for 16 years. Schneider is the author of 28 books and lives with his wife in Starnberg. World War survives - future possible! A big day. The fact that I was able to experience it over two years of war, I had contributed to this in good time with a clear decision, in 1942, when confinement threatened: I want to survive this war - and nothing else. So: don't want to be anything, make yourself small! And a valuable piece of advice, snapped up in the Grunewald high school: Register voluntarily to Goering's \"Air Message Troop\". There you will be tested for \"suitability for on-board pilots\", of course fail - and may remain on the ground as a radio operator, usually far behind the front. It worked. Special reports, analyzes and backgrounds on topics that affect our society - from reporters from all over the world. Your benefits with SPIEGEL +: for all content on all your devices from the weekly magazine of the weekly magazine can be canceled at any time can be canceled online for only € 19.99 per month\n",
            "SPIEGEL + is processed via your iTunes account and paid for with the purchase confirmation. The subscription is automatically renewed 24 hours before expiration\n",
            "a month for the price of currently € 19.99. You can cancel the subscription at any time in the settings of your iTunes account. At SPIEGEL + outside\n",
            "To use this app, you must link the subscription to a SPIEGEL ID account immediately after purchase. With the purchase you accept our\n",
            "General terms and conditions and data protection declaration.\n",
            "\n",
            " 47 \n",
            " When the German stock index dropped to its lowest level in more than four years in mid-March, Julia Voigt discovered her gambler gene. Until then, the 42-year-old had given no thought to the stock market. She has been living \"at the crime scene\" in the middle of Frankfurt's banking district for 14 years - she works for a credit agency herself. But placing bets on rising or falling prices, \"I never wanted that,\" Voigt says on the phone. That changed on March 16, on black Monday, when the Dax dropped to 8742 points as a result of the corona crisis. \"I knew then that I had to get in now,\" says Voigt. cgs Corona: How to save your money What experts are now guessing for stocks, ETFs, overnight money, real estate and life insurance The following days she watched one YouTube video after the other, read blogs and the book \"Sovereign Investing for Beginners\". Then she transferred almost 16,000 euros to an online bank, which promised her low fees and quick processing. Since then, Voigt has held shares in so-called index funds and some individual shares. In the coming weeks, she would like to shoot another 15,000 euros. Special reports, analyzes and backgrounds on topics that affect our society - from reporters from all over the world. Your benefits with SPIEGEL +: for all content on all your devices from the weekly magazine of the weekly magazine can be canceled at any time can be canceled online for only € 19.99 per month\n",
            "SPIEGEL + is processed via your iTunes account and paid for with the purchase confirmation. The subscription is automatically renewed 24 hours before expiration\n",
            "a month for the price of currently € 19.99. You can cancel the subscription at any time in the settings of your iTunes account. At SPIEGEL + outside\n",
            "To use this app, you must link the subscription to a SPIEGEL ID account immediately after purchase. With the purchase you accept our\n",
            "General terms and conditions and data protection declaration.\n",
            "\n",
            " 48 \n",
            " The salary for the new job sounds good. But how much money is left of it? Which tax bracket is the cheapest if both spouses work? And how does a child allowance affect? All of these questions can be answered with the gross-net calculator. Simply enter your gross wages and allowances, choose tax class, state and health insurance. If you have children, please indicate possible child allowances. The more information you provide, the more accurate the result. To be able to use the calculator, you must first know your income tax class. Here is a brief overview of which class you belong to. Income tax class I applies to the following employees: -Ledige-widowed persons from the year after next after the death of the spouse or registered life partner-Divorced-married or living in a partnership who are permanently separated-Married or living in partnership, their spouse or registered partner is subject to limited taxation in the Federal Republic (usually because he or she does not live in Germany) Wage tax class II applies to single parents who meet the requirements of tax class I and who are also entitled to the relief amount for single parents. Wage tax class III includes the following employees: -Married and registered life partners who do not permanently live separately and have not chosen tax class IV. The spouse or life partner who is also employed then receives tax class V. If the other partner is not employed or self-employed, he is also subject to income tax class III widowed until the end of the calendar year following the death of the spouse / life partner. The deceased spouse or life partner must have been subject to unlimited income tax at the time of his death. The spouses or life partners must not have lived separately until the time of death. Married employees or those living in partnership fall into income tax class IV if both partners are subject to unlimited income tax and do not live separately forever. However, if one partner is in tax class III, the other does not fall in tax class IV, but in tax class V. Spouses or life partners who are both employed can have the tax class changed once a year. Salary negotiations: Seven golden rules Tax class V is applied when both spouses or life partners apply to classify the other spouse or life partner in tax class III (see above). Income tax class VI is usually entered if an employee has more than one employment relationship . How do your finances change when you change your life? With the help of this calculator, you can find out quickly and easily, for example, how a job change or a salary increase will affect your net salary. This way you can avoid surprises when you actually have the first new pay slip in your hands. Other changes in life can also be tapped for their financial impact with the help of the calculator. They want to marry? Then you and your partner have to think about which tax classes you want to work in: either one in III or the other in V or both in IV. Tax class IV is recommended for both partners if both earn similar amounts. Otherwise the combination of III for one partner and V for the other. The tax classes differ only in how much tax is automatically deducted from the salary each month. Those who have paid too much will get the money back once a year after submitting their tax return. Are you expecting a child? Then, as a rule, their net salary increases through child allowances and a higher child benefit. Have you fallen away from your faith? Then you can check whether the saved church tax can make up for the waiver of eternal salvation. Are you considering switching from statutory to private health insurance? If you know what contribution rate your new insurance will charge, you can use the calculator to check how this will change your net salary. However, you should never make the question of the right health insurance dependent solely on tax considerations. The potential tax savings are small compared to the huge costs that poorly chosen private health insurance entails over the years. You can find out which types of insurance generally make sense for you in our overview. The vast majority of tax savings opportunities are only available to those who also submit a tax return. This can be quite a challenge, especially for young workers. You can find help here.\n",
            "\n",
            " 49 \n",
            " What an opportunity that would have been: finally a German global player who does not come from the automotive industry or mechanical engineering. One who presents Germany in a future-oriented industry at world level, right in the heart of digital capitalism. What could Wirecard have been for Germany ... Now the name no longer stands for hopes for Germany as a location. It stands for a disgrace. The drama surrounding the Dax group is a catastrophe for the reputation of the German financial industry and the miserable German stock market culture. If it comes as no surprise, the group could turn out to be the biggest air number in the history of the stock exchange here and become extremely embarrassing for Germany's financial regulators, its auditors and part of the media. Some things are now reminiscent of the energy supplier Enron in the USA, which was based on a lie that nobody really wanted to see. The damage that Wirecard is doing to the equity culture is already immense, even if the presumption of innocence applies for the time being and Wirecard rejects all allegations. Special reports, analyzes and backgrounds on topics that affect our society - from reporters from all over the world. Your benefits with SPIEGEL +: for all content on all your devices from the weekly magazine of the weekly magazine can be canceled at any time can be canceled online for only € 19.99 per month\n",
            "SPIEGEL + is processed via your iTunes account and paid for with the purchase confirmation. The subscription is automatically renewed 24 hours before expiration\n",
            "a month for the price of currently € 19.99. You can cancel the subscription at any time in the settings of your iTunes account. At SPIEGEL + outside\n",
            "To use this app, you must link the subscription to a SPIEGEL ID account immediately after purchase. With the purchase you accept our\n",
            "General terms and conditions and data protection declaration.\n",
            "\n",
            " 50 \n",
            " After the cutter returned from the waters off Bornholm, Ms. H. from Kiel bought fresh fish directly from board. On January 20, 1948, she roasted cod liver for herself and her husband for dinner. At around 10.30 p.m., the couple was admitted to the university clinic with severe signs of intoxication. That night the doctors were faced with ten similar cases - doctors later discovered traces of mustard gas in fish remains. English, German, Danish, and Polish newspapers reported several times about poisoning by Baltic fish in the post-war years. In 1950 the Federal Republic enacted a \"regulation to protect the health of fish catches suspected of being poisonous\". Then the matter was forgotten. However, the toxic contaminated sites that once landed on the seabed are still threatening. Nazi Germany had produced a large number of chemical weapons - mustard gas, phosgene and adamsite - that were known from the First World War. And it developed new so-called top warfare agents such as tabun, sarin and soman. Hitler and his generals kept their efforts open until the very end. Special reports, analyzes and backgrounds on topics that affect our society - from reporters from all over the world. Your benefits with SPIEGEL +: for all content on all your devices from the weekly magazine of the weekly magazine can be canceled at any time can be canceled online for only € 19.99 per month\n",
            "SPIEGEL + is processed via your iTunes account and paid for with the purchase confirmation. The subscription is automatically renewed 24 hours before expiration\n",
            "a month for the price of currently € 19.99. You can cancel the subscription at any time in the settings of your iTunes account. At SPIEGEL + outside\n",
            "To use this app, you must link the subscription to a SPIEGEL ID account immediately after purchase. With the purchase you accept our\n",
            "General terms and conditions and data protection declaration.\n",
            "\n",
            " 51 \n",
            " SPIEGEL: Professor Duflo, many countries have survived the first wave of corona infections and are reopening. What lessons can be learned from the pandemic? Duflo: We saw in this crisis how important the state is. In recent decades, people's trust in numerous institutions has slowly eroded, including in the state. But the market cannot regulate many things. This also includes the creation of a health system in which all people are covered by health insurance. SPIEGEL: However, the successes of the states in combating the crisis are very different. Duflo: In the past, many countries did not want to increase taxes or widen their budget deficit. As a result, important tasks have been neglected. This includes having sufficient capacity in hospitals for emergencies. Germany had enough ventilators and other medical equipment when the pandemic broke out. The death toll is much lower than in Italy, for example. Special reports, analyzes and backgrounds on topics that affect our society - from reporters from all over the world. Your benefits with SPIEGEL +: for all content on all your devices from the weekly magazine of the weekly magazine can be canceled at any time can be canceled online for only € 19.99 per month\n",
            "SPIEGEL + is processed via your iTunes account and paid for with the purchase confirmation. The subscription is automatically renewed 24 hours before expiration\n",
            "a month for the price of currently € 19.99. You can cancel the subscription at any time in the settings of your iTunes account. At SPIEGEL + outside\n",
            "To use this app, you must link the subscription to a SPIEGEL ID account immediately after purchase. With the purchase you accept our\n",
            "General terms and conditions and data protection declaration.\n",
            "\n",
            " 52 \n",
            " In Advent 1940 the National Socialist Lore G. sent her husband Hermann, Lieutenant of the Wehrmacht, a list of what he should bring from France for Christmas: \"hosiery wool\" for the children, \"warm underpants\" for his father, \"perhaps a woolen fabric for one Dress \"for his mother, definitely cherry liqueur for herself. After Hermann G. had fulfilled the wishes, she praised him:\" On the whole, you learned to shop quite well. \" Like the G. couple from Bermaringen near Ulm, many families held it during the Second World War. Private Bernhard S. got his family's wool socks and children's shoes in the Lille area in northern France, Anton G. field police and trousers and baby harnesses in Belgrade, Alfred B.'s candidate for his fiancé meat, beans and butter in Normandy. Many uniforms went shopping with the pistol, as the jargon of the time said. The comrades had walked into the shops with weapons in Sicily, had \"taken everything possible\" and then disappeared, a soldier later said. In most cases, the soldiers paid for the goods - but in the local currency, which was close to pillaging. The Nazi regime had implemented exchange rates that sparked enthusiasm among the soldiers and their families. \"Shopping is my favorite activity,\" Bernhard S. wrote to his wife. Special reports, analyzes and backgrounds on topics that affect our society - from reporters from all over the world. Your benefits with SPIEGEL +: for all content on all your devices from the weekly magazine of the weekly magazine can be canceled at any time can be canceled online for only € 19.99 per month\n",
            "SPIEGEL + is processed via your iTunes account and paid for with the purchase confirmation. The subscription is automatically renewed 24 hours before expiration\n",
            "a month for the price of currently € 19.99. You can cancel the subscription at any time in the settings of your iTunes account. At SPIEGEL + outside\n",
            "To use this app, you must link the subscription to a SPIEGEL ID account immediately after purchase. With the purchase you accept our\n",
            "General terms and conditions and data protection declaration.\n",
            "\n",
            " 53 \n",
            " My parents' home in Stuttgart had been destroyed in 1944. My mother then had the idea that she could live better in her home town of Gdansk, with her sister Margot. She took me, the youngest of her five children. It was insane, of course. But if my mother wanted something, nobody could stop her. For example, she had studied medicine before the First World War, when it was still unusual for women. Now she was in her late 50s and basically an older lady. Brigitte Meese, born Wetzel, was born in 1929. She is the mother of the painter and performance artist Jonathan Meese. Her father Albrecht Wetzel was a psychiatrist. His daughter Brigitte was the youngest of his children, she attended a boarding school on Lake Constance early on. After graduating from high school, she learned languages ​​and then moved in with her sister, a medical doctor who had emigrated to Tokyo. In Japan Brigitte Wetzel met the British banker Reginald Meese. They got married and had three children - the youngest is Jonathan Meese. In the early 1970s, she separated from her husband and moved to Ahrensburg near Hamburg with the children. I went to school in Gdansk and memorized Schiller's \"bell\". In the spring of 1945, when I was 15 years old, the Russians came. Gdansk was now a conquered city. Once a soldier did something to me: I was raped. We were still so childish at that age, very naive, I didn't understand what had happened to me at all. The next day, the adults decided that we should flee to a nearby hospital: a large area with many houses. My aunt Margot was employed as a doctor in the hospital, she separated from us. Her housekeeper took her with her; she didn't care about us anymore. We, my mother and I, then lived for months in the basement of this hospital complex on mattresses. I started working in the nursery. Then came a second aunt, very important to me, Aunt Carla. She moved in with my mother. I was put in another basement. My mother probably didn't want me to face her decay as a young girl. Special reports, analyzes and backgrounds on topics that affect our society - from reporters from all over the world. Your benefits with SPIEGEL +: for all content on all your devices from the weekly magazine of the weekly magazine can be canceled at any time can be canceled online for only € 19.99 per month\n",
            "SPIEGEL + is processed via your iTunes account and paid for with the purchase confirmation. The subscription is automatically renewed 24 hours before expiration\n",
            "a month for the price of currently € 19.99. You can cancel the subscription at any time in the settings of your iTunes account. At SPIEGEL + outside\n",
            "To use this app, you must link the subscription to a SPIEGEL ID account immediately after purchase. With the purchase you accept our\n",
            "General terms and conditions and data protection declaration.\n",
            "\n",
            " 54 \n",
            " Samer Tannous was a university lecturer in the Syrian capital Damascus. Since December 2015 he has been living with his wife and two daughters in Rotenburg (Wümme) in Lower Saxony, where he works as a French teacher. In his column for SPIEGEL +, he writes about his attempts to understand the customs of his new German homeland. When I said to my brother that I would go to Heidelberg the next week to give a workshop with Gerd, he replied: \"Do you actually know that this city is one of the most beautiful in Germany? I know you. Then you will tell me that you want to move to this city, away from Rotenburg. \" My brother's words awakened my desire and curiosity to discover this beauty. After all, I've been living in northern Germany for four years and we write about life in this part of the country. Sometimes I read in comments on our columns that this or that is different in southern Germany. Now I was looking forward to seeing some of this other part of the country. Special reports, analyzes and backgrounds on topics that affect our society - from reporters from all over the world. Your benefits with SPIEGEL +: for all content on all your devices from the weekly magazine of the weekly magazine can be canceled at any time can be canceled online for only € 19.99 per month\n",
            "SPIEGEL + is processed via your iTunes account and paid for with the purchase confirmation. The subscription is automatically renewed 24 hours before expiration\n",
            "a month for the price of currently € 19.99. You can cancel the subscription at any time in the settings of your iTunes account. At SPIEGEL + outside\n",
            "To use this app, you must link the subscription to a SPIEGEL ID account immediately after purchase. With the purchase you accept our\n",
            "General terms and conditions and data protection declaration.\n",
            "\n",
            " 55 \n",
            " SPIEGEL: Mr. Witte, you did your PhD in pandemic preparation in 2013 in law. Now we have the trouble. Is the situation as you expected it to be? Witte: It's a crazy situation. I had never hoped or feared that my topic would become so relevant. The first edition is now completely sold out. SPIEGEL: What can your work teach us? Witte: My main topic was exactly the question that society is now facing, namely: How can vaccines be distributed fairly? If they were available, there would certainly not be enough vaccine for everyone for a long time. So triage decisions have to be made: We need criteria for who gets it earlier and who doesn't, for example first the medical staff, then the risk groups, then educators and teachers. SPIEGEL: Should doctors do that? Witte: Doctors can and must make individual decisions on site, but the criteria to be applied must be discussed and defined in advance by Parliament. That means: now. Special reports, analyzes and backgrounds on topics that affect our society - from reporters from all over the world. Your benefits with SPIEGEL +: for all content on all your devices from the weekly magazine of the weekly magazine can be canceled at any time can be canceled online for only € 19.99 per month\n",
            "SPIEGEL + is processed via your iTunes account and paid for with the purchase confirmation. The subscription is automatically renewed 24 hours before expiration\n",
            "a month for the price of currently € 19.99. You can cancel the subscription at any time in the settings of your iTunes account. At SPIEGEL + outside\n",
            "To use this app, you must link the subscription to a SPIEGEL ID account immediately after purchase. With the purchase you accept our\n",
            "General terms and conditions and data protection declaration.\n",
            "\n",
            " 56 \n",
            " SPIEGEL: How did you experience the day of surrender? Reuter: I can't say that exactly to the day. We lived in Ankara, there was only the radio. The BBC preferred to get the news. My father didn't use German news sources because everyone knew they were lying. And the Turkish news always lagged behind. That is why this day is not in my memory. However, the surrender was no longer a surprise. For weeks and months it had been perfectly clear that the Nazi era was coming to an end. We were just curious under what circumstances this happened. We knew that Hitler was dead. We knew that Goebbels was dead. We knew that Goering was still walking somewhere, but would be caught. Edzard Reuter, born in Berlin in 1928, is the son of the former Berlin Mayor Ernst Reuter (\"You peoples of the world, look at this city\"). After the transfer of power to the National Socialists, the family went into exile in Ankara; Edzard Reuter spent his childhood in Turkey from 1935 to 1946. After returning to Germany, he first studied mathematics and theoretical physics and later law. After working for Ufa and Bertelsmann television production, he moved to Daimler Benz AG, where he became CEO in 1987. Reuter wanted to turn Daimler into an \"integrated technology group\", the takeover of the aerospace company Dornier and the electronics group AEG fell into his tenure. Reuter, meanwhile \"honorary citizen of Berlin\", lives with his wife in Stuttgart. This day was not a relief for my father. Above all, he asked himself: What will become of Germany now, what will become of the people there? A large part of Germany and especially Berlin was occupied by Russia. The Western Allies had not yet invaded Berlin, and they only got their sectors later. The basic feeling was: thank God it is over - but it is a departure that will be difficult, if not to say: terribly difficult. How will the Germans react to the new situation? Special reports, analyzes and backgrounds on topics that affect our society - from reporters from all over the world. Your benefits with SPIEGEL +: for all content on all your devices from the weekly magazine of the weekly magazine can be canceled at any time can be canceled online for only € 19.99 per month\n",
            "SPIEGEL + is processed via your iTunes account and paid for with the purchase confirmation. The subscription is automatically renewed 24 hours before expiration\n",
            "a month for the price of currently € 19.99. You can cancel the subscription at any time in the settings of your iTunes account. At SPIEGEL + outside\n",
            "To use this app, you must link the subscription to a SPIEGEL ID account immediately after purchase. With the purchase you accept our\n",
            "General terms and conditions and data protection declaration.\n",
            "\n",
            " 57 \n",
            " Samer Tannous was a university lecturer in the Syrian capital Damascus. Since December 2015 he has been living with his wife and two daughters in Rotenburg (Wümme) in Lower Saxony, where he works as a French teacher. Together with his friend Gerd Hachmöller, he writes about his attempts to understand the customs of his new German home. My attitude towards Corona has gone through different phases in the past months. At the beginning of March, I thought that all the talk about the new virus was exaggerated. When my wife started to worry, I said to her: \"Don't you remember how we went to the market and work in Damascus, although rockets flew over our heads and car bombs exploded not far away? And now we should are we worried about such a tiny virus? \" In the weeks that followed, however, I became increasingly restless and kept wondering if I had a fever. Given the many horror reports on TV and on the Internet, I soon thought that the world as we knew it was going to end. Maybe that was also due to my media consumption. Some friends asked me in April whether we don't have a corona in Syria. According to the Syrian media, there were no infected people in Syria at the beginning of the pandemic, and only very low numbers were released in the following weeks. At the time, many Syrians thought: Hopefully the media will tell us the truth! We Syrians have enough other problems on our necks and we don't want to hear any news that worries us even more. Special reports, analyzes and backgrounds on topics that affect our society - from reporters from all over the world. Your benefits with SPIEGEL +: for all content on all your devices from the weekly magazine of the weekly magazine can be canceled at any time can be canceled online for only € 19.99 per month\n",
            "SPIEGEL + is processed via your iTunes account and paid for with the purchase confirmation. The subscription is automatically renewed 24 hours before expiration\n",
            "a month for the price of currently € 19.99. You can cancel the subscription at any time in the settings of your iTunes account. At SPIEGEL + outside\n",
            "To use this app, you must link the subscription to a SPIEGEL ID account immediately after purchase. With the purchase you accept our\n",
            "General terms and conditions and data protection declaration.\n",
            "\n",
            " 58 \n",
            " This text is one of the most read articles in 2019. Maren Marchenko is a sugar junkie. \"Since I have teeth, I've been eating toast with jam for breakfast,\" says the brand consultant from Munich. \"Raisin snail at the bakery, cake for afternoon coffee, chocolate in front of the television - I couldn't avoid it.\" This has been over for a year now: Martschenko has foregone industrial sugar. And says: \"I love sweets!\" How can that work? Is there a healthy way to deal with sweet passions? Doesn't the waiver mean constant control and mortification? Sugar is something like everyone's little addiction. No flavor attracts us so much. \"Unlike acid, bitter or spicy, sugar triggers dopamine release in the brain,\" explains ecotrophologist Maike Ehrlichmann. \"This is how the handful of gummy bears gives us a lucky kick.\" The only problem is: the kick doesn't last long - and the sugar not only triggers happiness hormones, but also the pancreas. It releases insulin, which sends the sugar into the cells of the body so that it is available to our organism as energy. Once the flood of sugar has been removed, the insulin loosens in the blood and signals: more please! Special reports, analyzes and backgrounds on topics that affect our society - from reporters from all over the world. Your benefits with SPIEGEL +: for all content on all your devices from the weekly magazine of the weekly magazine can be canceled at any time can be canceled online for only € 19.99 per month\n",
            "SPIEGEL + is processed via your iTunes account and paid for with the purchase confirmation. The subscription is automatically renewed 24 hours before expiration\n",
            "a month for the price of currently € 19.99. You can cancel the subscription at any time in the settings of your iTunes account. At SPIEGEL + outside\n",
            "To use this app, you must link the subscription to a SPIEGEL ID account immediately after purchase. With the purchase you accept our\n",
            "General terms and conditions and data protection declaration.\n",
            "\n",
            " 59 \n",
            " Joan of Arc used the ceasefire on Ascension for a second threatening letter to the English. The message was tied to an arrow and shot into the enemy fortress. \"You men from England, who have no right to this Kingdom of France,\" it said in the letter of May 5, 1429, \"the King of Heaven warns you and warns you through me, Johanna the Virgin, to give up your forts and in Your country to return. If not, I will make such a noise that you will always remember it. \" And the English? Taunted Joan of Arc from the safe waiting of her fortress. They hadn't counted on the girl's willpower and sense of mission: Jeanne launched an attack against the hesitant city commander of Orléans. She didn't give up even when an enemy archer's arrow pierced her armor through her armor. Order now online and the booklet will be sent to your home! Order from Amazon. You can find SPIEGEL STORY by subscription at MyKiosk. On the evening of May 7, when the French were already exhausted, the farmer's daughter picked up the lily banner again and drove the soldiers. The men took new courage - and took Les Tourelles by storm. The most important Bastille of the English was conquered, the enemies withdrew. In just a few days, a 17-year-old young woman succeeded in doing what an entire army could not do for six months: to free the Orléans Loire Fortress, which was besieged by the English in the Hundred Years War. Shortly afterwards, the Dauphin Karl was crowned in Reims. A virgin chosen by God to save France from the English by force of arms. No medieval warrior has achieved more fame than the Domrémy girl, who first heard heavenly voices at the age of 13. However, Joan of Arc was by no means the only woman who in her day sought military command. \"War and violence were anything but a matter of men in the Middle Ages,\" says Amalie Fößel, professor at the Historical Institute of the University of Duisburg-Essen. Special reports, analyzes and backgrounds on topics that affect our society - from reporters from all over the world. Your benefits with SPIEGEL +: for all content on all your devices from the weekly magazine of the weekly magazine can be canceled at any time can be canceled online for only € 19.99 per month\n",
            "SPIEGEL + is processed via your iTunes account and paid for with the purchase confirmation. The subscription is automatically renewed 24 hours before expiration\n",
            "a month for the price of currently € 19.99. You can cancel the subscription at any time in the settings of your iTunes account. At SPIEGEL + outside\n",
            "To use this app, you must link the subscription to a SPIEGEL ID account immediately after purchase. With the purchase you accept our\n",
            "General terms and conditions and data protection declaration.\n",
            "\n",
            " 60 \n",
            " By Susanne Beyer, Martin Doerry, Hauke ​​Goos, Ulrike Knöfel, Timofey Neshitov and Alexander Smoltczyk Georg Stefan Troller is sitting in his apartment, above the rooftops of Paris, with a piece of cake in front of him, he has agreed to take a trip into the past. The 7th arrondissement lies outside, hail hits the windows, Troller tells of the war: how he, the Jew from Vienna, returned to destroyed Europe as a soldier of the U.S. Army; how he moved into Munich, into the \"capital of the movement\"; how he stood in Hitler's Munich apartment one day and a little later went through the Dachau concentration camp that had just been liberated. The shock from back then can still be felt today, 75 years later. Troller was born in 1921 and turns 99 in December. SPIEGEL visited him and other contemporary witnesses - in Paris and Hamburg, in Moscow, Bonn and Berlin. Where the pandemic made a visit impossible, the editors made phone calls. The memories are supplemented by diary entries, published (as with Thomas Mann) or filed in the German diary archive in Emmendingen (as with Annemarie and Johann von Duhn, Hans Diester, Insa Radomski and the seven-year-old Theodor Gruschka). The questions were always the same: what was the concern of the Germans in the summer of 1945? What determined your everyday life? Were they depressed? Exhausted? Ashamed? Special reports, analyzes and backgrounds on topics that affect our society - from reporters from all over the world. Your benefits with SPIEGEL +: for all content on all your devices from the weekly magazine of the weekly magazine can be canceled at any time can be canceled online for only € 19.99 per month\n",
            "SPIEGEL + is processed via your iTunes account and paid for with the purchase confirmation. The subscription is automatically renewed 24 hours before expiration\n",
            "a month for the price of currently € 19.99. You can cancel the subscription at any time in the settings of your iTunes account. At SPIEGEL + outside\n",
            "To use this app, you must link the subscription to a SPIEGEL ID account immediately after purchase. With the purchase you accept our\n",
            "General terms and conditions and data protection declaration.\n",
            "\n",
            " 61 \n",
            " By Marco Evers, Georg Fahrion, Veronika Hackenbroch, Laura Höflinger, Kerstin Kullmann, Raniah Salloum, Alexander Sarovic, Cornelia Schmergal and Alexander Smoltczyk It sounds awesome how they speak of him at Curevac, in the laboratories, in the meeting rooms: \"the candidate \". He already exists, even if he doesn't have a real name yet. The candidate shows the right qualities, has good values, he just needs some time. \"We say 'the candidate' here because CVnCoV is not so easy to pronounce,\" said Florian von der Mülbe, who is responsible for production on the Curevac board. The Tübingen biotech company has just moved into its new building, above the city. From the window you can see the steps of the Swabian Jura, the boxes are still in the corridors. Everything has to go quickly now. The world is waiting with increasing tension; the second wave of the pandemic, many fear, is imminent. It could even be more deadly than the first. And the only serious hope for countries and billions of people is that there will be a vaccine as soon as possible. Special reports, analyzes and backgrounds on topics that affect our society - from reporters from all over the world. Your benefits with SPIEGEL +: for all content on all your devices from the weekly magazine of the weekly magazine can be canceled at any time can be canceled online for only € 19.99 per month\n",
            "SPIEGEL + is processed via your iTunes account and paid for with the purchase confirmation. The subscription is automatically renewed 24 hours before expiration\n",
            "a month for the price of currently € 19.99. You can cancel the subscription at any time in the settings of your iTunes account. At SPIEGEL + outside\n",
            "To use this app, you must link the subscription to a SPIEGEL ID account immediately after purchase. With the purchase you accept our\n",
            "General terms and conditions and data protection declaration.\n",
            "\n",
            " 62 \n",
            " The result was encouraging for the researchers at the University of Oxford: together with scientists from the US National Institutes of Health, they tested the Sars CoV-2 vaccine \"ChAdOx1 nCoV-19\" on six monkeys. With this vaccine, the genetic information of the virus is infiltrated into the cells with the help of a so-called vector, in this case a harmless cold virus - a principle that was successful in the development of an Ebola vaccine. Stephan Becker, Director of the Institute of Virology at the Philipps University in Marburg All animals produced so-called neutralizing antibodies against the novel corona virus. These are an important marker for the fact that vaccination protection develops. But disappointment soon followed. When the researchers subsequently brought the monkeys into contact with Sars-CoV-2, it became clear that the vaccine protects the animals from a severe course of the disease. None of the monkeys got Covid 19 pneumonia. But in the nasopharynx the virus was able to multiply happily. So the animals were probably contagious anyway. Special reports, analyzes and backgrounds on topics that affect our society - from reporters from all over the world. Your benefits with SPIEGEL +: for all content on all your devices from the weekly magazine of the weekly magazine can be canceled at any time can be canceled online for only € 19.99 per month\n",
            "SPIEGEL + is processed via your iTunes account and paid for with the purchase confirmation. The subscription is automatically renewed 24 hours before expiration\n",
            "a month for the price of currently € 19.99. You can cancel the subscription at any time in the settings of your iTunes account. At SPIEGEL + outside\n",
            "To use this app, you must link the subscription to a SPIEGEL ID account immediately after purchase. With the purchase you accept our\n",
            "General terms and conditions and data protection declaration.\n",
            "\n",
            "You have 1193 total sentences from 62 different articles\n"
          ],
          "name": "stdout"
        }
      ]
    },
    {
      "cell_type": "code",
      "metadata": {
        "id": "v9DwUjX8F40j",
        "colab_type": "code",
        "colab": {
          "base_uri": "https://localhost:8080/",
          "height": 34
        },
        "outputId": "6a7f337c-6fac-4bc4-f83c-4a7563dd6216"
      },
      "source": [
        "len(out_list)"
      ],
      "execution_count": 85,
      "outputs": [
        {
          "output_type": "execute_result",
          "data": {
            "text/plain": [
              "62"
            ]
          },
          "metadata": {
            "tags": []
          },
          "execution_count": 85
        }
      ]
    },
    {
      "cell_type": "code",
      "metadata": {
        "id": "m_GqGR-iKPdU",
        "colab_type": "code",
        "colab": {
          "base_uri": "https://localhost:8080/",
          "height": 71
        },
        "outputId": "080e9a58-b8c3-41fc-8ac1-ea0322841773"
      },
      "source": [
        "out_list[18]"
      ],
      "execution_count": 86,
      "outputs": [
        {
          "output_type": "execute_result",
          "data": {
            "text/plain": [
              "{'Text': 'Nikolai Pudow, Jahrgang 1921, war 18 Jahre alt, als er Hitlers \"Mein Kampf\" las, als Student der Ersten Artillerieschule in Moskau. Er sei beeindruckt gewesen, sagt er, dass es jemanden im fernen Deutschland gab, der ihn und seine Familie zu \"Untermenschen\" erklärte. Im Mai 1945 war Pudows Einheit an der Eroberung Berlins beteiligt; nach dem Ende des Krieges blieb er noch drei Jahre lang in Deutschland, ehe er nach Russland zurückkehrte. Ein Foto aus dem Sommer 1945 zeigt Hauptmann Pudow in Uniform, die Brust voller Orden, das Haar an den Schläfen kurzgeschoren. Er weiß nicht mehr, wo das Bild aufgenommen wurde. \"In Rathenow\", sagt seine Frau Jewgenija, \"im Atelier, da war doch das Stadion und die Kantine, wo ich gearbeitet habe, deine vier Kanonen standen vor unseren Fenstern.\" Die beiden haben sich im Mai 1945 kennengelernt, Jewgenija hatte das KZ Buchenwald überlebt. Heute wohnen sie in Balaschicha, einer Großstadt bei Moskau. Die meisten deutschen Wörter habe er vergessen, sagt Pudow. Das Wort \"Untermensch\" nicht - er spricht es noch heute akzentfrei aus, mit 98. Am 2. Mai befand sich die Batterie von Nikolai Pudow, Teil der 1. Weißrussischen Front, wenige Kilometer vor Berlin, als er den Befehl bekam, Richtung Westen zu marschieren. An jenem Tag hatte sich Helmuth Weidling ergeben, der Kampfkommandant Berlins. Der Häuserkampf ging noch ein paar Tage weiter, Pudow sollte verhindern, dass Einheiten der 12. Armee unter General Walther Wenck vom Westen her nach Berlin vordrangen. \"Die Deutschen waren sehr gut vorbereitet. An Straßenkreuzungen lagen Stapel von Faustpatronen. Auch wir haben uns davon bedient, haben auf Fenster geschossen, in den Vororten, auf Wohnhäuser aus rotem Backstein. Wir mussten deutsche Maschinengewehrschützen ausräuchern. Wir waren ständig in Bewegung. Sie gaben uns Karten von Berlin und Umgebung, mit Orts- und Straßennamen auf Deutsch und auf Russisch.\" Die Karten bewahrt er bis heute in seiner Moskauer Wohnung auf, sie haben schwarze Flecken. Pudows Artillerielandkarte von 1945: \"Wo ist der Gegner? Wo sollen wir hinschießen?\" SPIEGEL: Pulver? Pudow: Lederspuren. Ich habe die Karten in meinen Stiefeln getragen. Besondere Reportagen, Analysen und Hintergründe zu Themen, die unsere Gesellschaft bewegen – von Reportern aus aller Welt. Ihre Vorteile mit SPIEGEL+: zu allen Inhalten auf all Ihren Geräten aus dem wöchentlichen Magazin des wöchentlichen Magazins jederzeit kündbar jederzeit online kündbar nur € 19,99 pro Monat \\nSPIEGEL+ wird über Ihren iTunes-Account abgewickelt und mit Kaufbestätigung bezahlt. 24 Stunden vor Ablauf verlängert sich das Abo automatisch um\\neinen Monat zum Preis von zurzeit 19,99€. In den Einstellungen Ihres iTunes-Accounts können Sie das Abo jederzeit kündigen. Um SPIEGEL+ außerhalb\\ndieser App zu nutzen, müssen Sie das Abo direkt nach dem Kauf mit einem SPIEGEL-ID-Konto verknüpfen. Mit dem Kauf akzeptieren Sie unsere\\nAllgemeinen Geschäftsbedingungen und Datenschutzerklärung.\\n',\n",
              " 'url': 'https://www.spiegel.de/geschichte/rotarmist-nikolai-pudow-das-waren-meine-letzten-schuesse-im-zweiten-weltkrieg-a-9c8f5fc3-b33e-46e2-8c16-f94a1abcac59'}"
            ]
          },
          "metadata": {
            "tags": []
          },
          "execution_count": 86
        }
      ]
    },
    {
      "cell_type": "code",
      "metadata": {
        "id": "uqUOspCk7FfC",
        "colab_type": "code",
        "colab": {
          "base_uri": "https://localhost:8080/",
          "height": 71
        },
        "outputId": "1c5090c3-8d69-4d4c-dd95-6422dcee7e84"
      },
      "source": [
        "out_list[57]"
      ],
      "execution_count": 87,
      "outputs": [
        {
          "output_type": "execute_result",
          "data": {
            "text/plain": [
              "{'Text': 'Dieser Text gehört zu den meistgelesenen Beiträgen 2019. Maren Martschenko ist ein Zuckerjunkie. \"Seitdem ich Zähne habe, esse ich zum Frühstück Toast mit Marmelade\", erzählt die Markenberaterin aus München. \"Rosinenschnecke beim Bäcker, Kuchen zum Nachmittagskaffee, Schokolade vorm Fernseher – ich kam nicht dran vorbei.\" Seit einem Jahr ist damit Schluss: Martschenko verzichtet auf Industriezucker. Und sagt: \"Ich liebe Süßes!\" Wie kann das gehen? Gibt es einen gesunden Umgang mit süßen Leidenschaften? Bedeutet der Verzicht nicht ständige Kontrolle und Kasteiung? Zucker ist so etwas wie die kleine Sucht jedermanns. Keine Geschmacksrichtung zieht uns Menschen so sehr an. \"Anders als sauer, bitter oder scharf triggert Zucker im Gehirn die Dopamin-Ausschüttung\", erklärt die Ökotrophologin Maike Ehrlichmann. \"So verschafft uns die Handvoll Gummibärchen einen Glückskick.\" Das Problem dabei ist nur: Der Kick hält nicht lange an – und der Zucker triggert nicht nur Glückshormone, sondern auch die Bauchspeicheldrüse. Sie schüttet Insulin aus, das den Zucker in die Körperzellen schleust, damit er unserem Organismus als Energie zur Verfügung steht. Ist die Zuckerflut weggeschafft, lungert das Insulin im Blut herum und signalisiert: mehr bitte! Besondere Reportagen, Analysen und Hintergründe zu Themen, die unsere Gesellschaft bewegen – von Reportern aus aller Welt. Ihre Vorteile mit SPIEGEL+: zu allen Inhalten auf all Ihren Geräten aus dem wöchentlichen Magazin des wöchentlichen Magazins jederzeit kündbar jederzeit online kündbar nur € 19,99 pro Monat \\nSPIEGEL+ wird über Ihren iTunes-Account abgewickelt und mit Kaufbestätigung bezahlt. 24 Stunden vor Ablauf verlängert sich das Abo automatisch um\\neinen Monat zum Preis von zurzeit 19,99€. In den Einstellungen Ihres iTunes-Accounts können Sie das Abo jederzeit kündigen. Um SPIEGEL+ außerhalb\\ndieser App zu nutzen, müssen Sie das Abo direkt nach dem Kauf mit einem SPIEGEL-ID-Konto verknüpfen. Mit dem Kauf akzeptieren Sie unsere\\nAllgemeinen Geschäftsbedingungen und Datenschutzerklärung.\\n',\n",
              " 'url': 'https://www.spiegel.de/wissenschaft/gesunde-ernaehrung-wie-sich-die-gier-nach-zucker-austricksen-laesst-a-00000000-0002-0001-0000-000165321074'}"
            ]
          },
          "metadata": {
            "tags": []
          },
          "execution_count": 87
        }
      ]
    },
    {
      "cell_type": "code",
      "metadata": {
        "id": "SeuYhupeHUq8",
        "colab_type": "code",
        "colab": {},
        "cellView": "form"
      },
      "source": [
        "#@title From Aaron's Code\n",
        "\n",
        "fileG = open(\"MyFileG.txt\",\"w\") # Open a text file to write to\n",
        "\n",
        "for item in p:\n",
        "    trans = TextBlob(item.text)\n",
        "    # Translate each sentence from German to German\n",
        "    trans = str(trans.translate(to='en')) # Change to = 'en' for English\n",
        "    print(trans)\n",
        "\n",
        "    fileG.write(trans) # write each string to the file \n",
        "\n",
        "fileG.close() # close the file"
      ],
      "execution_count": null,
      "outputs": []
    },
    {
      "cell_type": "markdown",
      "metadata": {
        "id": "-XjoXSZDPHLr",
        "colab_type": "text"
      },
      "source": [
        "This is just a troubleshooting section to ensure you're `TextBlob` came out right. You should see a list of stentences, each starting with the word `Sentence`. Check this before moving to the next step."
      ]
    },
    {
      "cell_type": "code",
      "metadata": {
        "id": "h4fJQzcl5X3h",
        "colab_type": "code",
        "colab": {
          "base_uri": "https://localhost:8080/",
          "height": 122
        },
        "outputId": "c666a757-2ce9-407e-9bb5-c518ae7c824b"
      },
      "source": [
        "# print the first 6 sentences so you see what it looks like\n",
        "blob_sentences[0]"
      ],
      "execution_count": 171,
      "outputs": [
        {
          "output_type": "execute_result",
          "data": {
            "text/plain": [
              "TextBlob(\"The article, which had the greatest consequences for the fate of millions of children in the corona crisis, was published in 2007. It is an analysis of data on the Spanish flu from 1918 to 1919 in 43 American cities, published in the \"Journal of the American Medical Association\". The chief virologist of the Berlin Charité, Christian Drosten, did not know the article, a colleague from America had passed it on. Drosten read the text on the evening of March 11th, it was a Wednesday. At lunchtime, the scientist had said about school closings: \"It doesn't do much.\" He believed that the risk of infection would only shift, for example if neighboring children played together. In addition, the parents could no longer go to work. \"We have to do other things that don't do much harm in the organization of society or in economic life,\" said the virologist. 23 hours later, the next episode of his podcast went online, in which Drosten has been reporting his findings regularly since the pandemic began. Special reports, analyzes and backgrounds on topics that affect our society - from reporters from all over the world. Your benefits with SPIEGEL +: for all content on all your devices from the weekly magazine of the weekly magazine can be canceled at any time can be canceled online for only € 19.99 per month\n",
              "SPIEGEL + is processed via your iTunes account and paid for with the purchase confirmation. The subscription is automatically renewed 24 hours before expiration\n",
              "a month for the price of currently € 19.99. You can cancel the subscription at any time in the settings of your iTunes account. At SPIEGEL + outside\n",
              "To use this app, you must link the subscription to a SPIEGEL ID account immediately after purchase. With the purchase you accept our\n",
              "General terms and conditions and data protection declaration.\")"
            ]
          },
          "metadata": {
            "tags": []
          },
          "execution_count": 171
        }
      ]
    },
    {
      "cell_type": "markdown",
      "metadata": {
        "id": "tGJmYoaJYF_n",
        "colab_type": "text"
      },
      "source": [
        "## <font color='skyblue'> Event Detection </font>\n",
        "\n"
      ]
    },
    {
      "cell_type": "markdown",
      "metadata": {
        "id": "rkcNzckEPdOf",
        "colab_type": "text"
      },
      "source": [
        "Step 11. Determine key words used to search for event of interest in all the articles"
      ]
    },
    {
      "cell_type": "code",
      "metadata": {
        "id": "2xN0ZSBJ510j",
        "colab_type": "code",
        "colab": {
          "base_uri": "https://localhost:8080/",
          "height": 102
        },
        "outputId": "04dfa1ab-ece9-4353-d0f9-266c3439e7ad"
      },
      "source": [
        "# Allow user to type in key words to search the text for\n",
        "# Note this is case sensitive... so you need to make sure you enter your search \n",
        "# Try the entering the following to see some results: corona,COVID,death\n",
        "filter_list = input(\"Enter key words to search for separated by commas. don't use spaces.\\nSearch is case sensitive.\\nExample search: coronavirus,COVID,death\\n\\n\") #.title() # This is still a string... not a list yet"
      ],
      "execution_count": 148,
      "outputs": [
        {
          "output_type": "stream",
          "text": [
            "Enter key words to search for separated by commas. don't use spaces.\n",
            "Search is case sensitive.\n",
            "Example search: coronavirus,COVID,death\n",
            "\n",
            "Covid\n"
          ],
          "name": "stdout"
        }
      ]
    },
    {
      "cell_type": "markdown",
      "metadata": {
        "id": "h8asVgYSPsbu",
        "colab_type": "text"
      },
      "source": [
        "Step 12. Convert keywords into an iterable list for use in the next step\n"
      ]
    },
    {
      "cell_type": "code",
      "metadata": {
        "id": "49R1H35B7aH8",
        "colab_type": "code",
        "colab": {
          "base_uri": "https://localhost:8080/",
          "height": 34
        },
        "outputId": "95b6f6af-1c6a-454f-8cba-2eb72ad447fa"
      },
      "source": [
        "# Split filter words and convert into a list for itterating in the next step \n",
        "\n",
        "f = []\n",
        "for word in (filter_list.split(\",\")):  # Split string into separate words, separate by comma\n",
        "  f.append(word)                       # Generate new list containing each key word\n",
        "f # This is now a list of key words that the user typed in"
      ],
      "execution_count": 149,
      "outputs": [
        {
          "output_type": "execute_result",
          "data": {
            "text/plain": [
              "['Covid']"
            ]
          },
          "metadata": {
            "tags": []
          },
          "execution_count": 149
        }
      ]
    },
    {
      "cell_type": "markdown",
      "metadata": {
        "id": "GTNasDzQLinR",
        "colab_type": "text"
      },
      "source": [
        "Step 13. <font color='skyblue'> Search </font>  All sentences for Key Words and return only those consisting of a key word\n",
        "\n"
      ]
    },
    {
      "cell_type": "code",
      "metadata": {
        "id": "MXjYMd1-LUrT",
        "colab_type": "code",
        "colab": {
          "base_uri": "https://localhost:8080/",
          "height": 1000
        },
        "outputId": "f5c2cbdd-7841-4cf7-c2a4-74b62c9c6d83"
      },
      "source": [
        "# Instantiate list for holding the sentences\n",
        "sentences = []\n",
        "\n",
        "# Generate empty list of lists to store the sentences with your key words in them\n",
        "for i in range(len(f)):\n",
        "  sentences.append([])\n",
        "#print('Here is what you just made, and empty list of lists: ', sentences, '\\n')\n",
        "\n",
        "# Generate lists of sentences for each key word and plug them into the list of lists from above            \n",
        "for i in range(len(f)):\n",
        "  for sentence in blob_sentences:\n",
        "    if f[i] in sentence:\n",
        "        sentences[i].append(sentence)\n",
        "        \n",
        "# Print number of sentences containing each key word\n",
        "# Print out all sentences containing each key word\n",
        "for i in range(len(f)):\n",
        "  print('='*200)   \n",
        "  print('\\nThere are {} sentences containing the word: {} '.format(len(sentences[i]), f[i])) \n",
        "  print('-'*200)   \n",
        "  for sentence in sentences[i]:\n",
        "      print(sentence)"
      ],
      "execution_count": 150,
      "outputs": [
        {
          "output_type": "stream",
          "text": [
            "========================================================================================================================================================================================================\n",
            "\n",
            "There are 13 sentences containing the word: Covid \n",
            "--------------------------------------------------------------------------------------------------------------------------------------------------------------------------------------------------------\n",
            "The first Covid 19 patients in Germany had to struggle with the burden of being a sensation in addition to their symptoms of illness. The treating chief physician Clemens Wendtner described the effect of the TV and Internet news in the isolation ward of the Schwabing Clinic as follows: \"You can tell that the world is talking about you.\" The employees of the automotive supplier Webasto were infected by a colleague from Shanghai who was in Bavaria for further training. The skiers followed. They returned from the slopes of Tyrol, South Tyrol and Vorarlberg after the holidays, where they had celebrated with holidaymakers from all over Europe in the bars. In the meantime, Covid 19 stations and health authorities have increasingly dealt with a completely different clientele: with cheap Eastern European wages from the slaughterhouses, with packers from logistics centers, with asylum seekers who infect each other in their accommodation. It can also be understood as follows: First the pandemic hit the travelers and the well-off, now it hits the poor, especially those who live or work in cramped conditions. Special reports, analyzes and backgrounds on topics that affect our society - from reporters from all over the world. Your benefits with SPIEGEL +: for all content on all your devices from the weekly magazine of the weekly magazine can be canceled at any time can be canceled online for only € 19.99 per month\n",
            "SPIEGEL + is processed via your iTunes account and paid for with the purchase confirmation. The subscription is automatically renewed 24 hours before expiration\n",
            "a month for the price of currently € 19.99. You can cancel the subscription at any time in the settings of your iTunes account. At SPIEGEL + outside\n",
            "To use this app, you must link the subscription to a SPIEGEL ID account immediately after purchase. With the purchase you accept our\n",
            "General terms and conditions and data protection declaration.\n",
            "The first Covid 19 patients in Germany had to struggle with the burden of being a sensation in addition to their symptoms of illness. The treating chief physician Clemens Wendtner described the effect of the TV and Internet news in the isolation ward of the Schwabing Clinic as follows: \"You can tell that the world is talking about you.\" The employees of the automotive supplier Webasto were infected by a colleague from Shanghai who was in Bavaria for further training. The skiers followed. They returned from the slopes of Tyrol, South Tyrol and Vorarlberg after the holidays, where they had celebrated with holidaymakers from all over Europe in the bars. In the meantime, Covid 19 stations and health authorities have increasingly dealt with a completely different clientele: with cheap Eastern European wages from the slaughterhouses, with packers from logistics centers, with asylum seekers who infect each other in their accommodation. It can also be understood as follows: First the pandemic hit the travelers and the well-off, now it hits the poor, especially those who live or work in cramped conditions. Special reports, analyzes and backgrounds on topics that affect our society - from reporters from all over the world. Your benefits with SPIEGEL +: for all content on all your devices from the weekly magazine of the weekly magazine can be canceled at any time can be canceled online for only € 19.99 per month\n",
            "SPIEGEL + is processed via your iTunes account and paid for with the purchase confirmation. The subscription is automatically renewed 24 hours before expiration\n",
            "a month for the price of currently € 19.99. You can cancel the subscription at any time in the settings of your iTunes account. At SPIEGEL + outside\n",
            "To use this app, you must link the subscription to a SPIEGEL ID account immediately after purchase. With the purchase you accept our\n",
            "General terms and conditions and data protection declaration.\n",
            "The first Covid 19 patients in Germany had to struggle with the burden of being a sensation in addition to their symptoms of illness. The treating chief physician Clemens Wendtner described the effect of the TV and Internet news in the isolation ward of the Schwabing Clinic as follows: \"You can tell that the world is talking about you.\" The employees of the automotive supplier Webasto were infected by a colleague from Shanghai who was in Bavaria for further training. The skiers followed. They returned from the slopes of Tyrol, South Tyrol and Vorarlberg after the holidays, where they had celebrated with holidaymakers from all over Europe in the bars. In the meantime, Covid 19 stations and health authorities have increasingly dealt with a completely different clientele: with cheap Eastern European wages from the slaughterhouses, with packers from logistics centers, with asylum seekers who infect each other in their accommodation. It can also be understood as follows: First the pandemic hit the travelers and the well-off, now it hits the poor, especially those who live or work in cramped conditions. Special reports, analyzes and backgrounds on topics that affect our society - from reporters from all over the world. Your benefits with SPIEGEL +: for all content on all your devices from the weekly magazine of the weekly magazine can be canceled at any time can be canceled online for only € 19.99 per month\n",
            "SPIEGEL + is processed via your iTunes account and paid for with the purchase confirmation. The subscription is automatically renewed 24 hours before expiration\n",
            "a month for the price of currently € 19.99. You can cancel the subscription at any time in the settings of your iTunes account. At SPIEGEL + outside\n",
            "To use this app, you must link the subscription to a SPIEGEL ID account immediately after purchase. With the purchase you accept our\n",
            "General terms and conditions and data protection declaration.\n",
            "The first Covid 19 patients in Germany had to struggle with the burden of being a sensation in addition to their symptoms of illness. The treating chief physician Clemens Wendtner described the effect of the TV and Internet news in the isolation ward of the Schwabing Clinic as follows: \"You can tell that the world is talking about you.\" The employees of the automotive supplier Webasto were infected by a colleague from Shanghai who was in Bavaria for further training. The skiers followed. They returned from the slopes of Tyrol, South Tyrol and Vorarlberg after the holidays, where they had celebrated with holidaymakers from all over Europe in the bars. In the meantime, Covid 19 stations and health authorities have increasingly dealt with a completely different clientele: with cheap Eastern European wages from the slaughterhouses, with packers from logistics centers, with asylum seekers who infect each other in their accommodation. It can also be understood as follows: First the pandemic hit the travelers and the well-off, now it hits the poor, especially those who live or work in cramped conditions. Special reports, analyzes and backgrounds on topics that affect our society - from reporters from all over the world. Your benefits with SPIEGEL +: for all content on all your devices from the weekly magazine of the weekly magazine can be canceled at any time can be canceled online for only € 19.99 per month\n",
            "SPIEGEL + is processed via your iTunes account and paid for with the purchase confirmation. The subscription is automatically renewed 24 hours before expiration\n",
            "a month for the price of currently € 19.99. You can cancel the subscription at any time in the settings of your iTunes account. At SPIEGEL + outside\n",
            "To use this app, you must link the subscription to a SPIEGEL ID account immediately after purchase. With the purchase you accept our\n",
            "General terms and conditions and data protection declaration.\n",
            "The first Covid 19 patients in Germany had to struggle with the burden of being a sensation in addition to their symptoms of illness. The treating chief physician Clemens Wendtner described the effect of the TV and Internet news in the isolation ward of the Schwabing Clinic as follows: \"You can tell that the world is talking about you.\" The employees of the automotive supplier Webasto were infected by a colleague from Shanghai who was in Bavaria for further training. The skiers followed. They returned from the slopes of Tyrol, South Tyrol and Vorarlberg after the holidays, where they had celebrated with holidaymakers from all over Europe in the bars. In the meantime, Covid 19 stations and health authorities have increasingly dealt with a completely different clientele: with cheap Eastern European wages from the slaughterhouses, with packers from logistics centers, with asylum seekers who infect each other in their accommodation. It can also be understood as follows: First the pandemic hit the travelers and the well-off, now it hits the poor, especially those who live or work in cramped conditions. Special reports, analyzes and backgrounds on topics that affect our society - from reporters from all over the world. Your benefits with SPIEGEL +: for all content on all your devices from the weekly magazine of the weekly magazine can be canceled at any time can be canceled online for only € 19.99 per month\n",
            "SPIEGEL + is processed via your iTunes account and paid for with the purchase confirmation. The subscription is automatically renewed 24 hours before expiration\n",
            "a month for the price of currently € 19.99. You can cancel the subscription at any time in the settings of your iTunes account. At SPIEGEL + outside\n",
            "To use this app, you must link the subscription to a SPIEGEL ID account immediately after purchase. With the purchase you accept our\n",
            "General terms and conditions and data protection declaration.\n",
            "The first Covid 19 patients in Germany had to struggle with the burden of being a sensation in addition to their symptoms of illness. The treating chief physician Clemens Wendtner described the effect of the TV and Internet news in the isolation ward of the Schwabing Clinic as follows: \"You can tell that the world is talking about you.\" The employees of the automotive supplier Webasto were infected by a colleague from Shanghai who was in Bavaria for further training. The skiers followed. They returned from the slopes of Tyrol, South Tyrol and Vorarlberg after the holidays, where they had celebrated with holidaymakers from all over Europe in the bars. In the meantime, Covid 19 stations and health authorities have increasingly dealt with a completely different clientele: with cheap Eastern European wages from the slaughterhouses, with packers from logistics centers, with asylum seekers who infect each other in their accommodation. It can also be understood as follows: First the pandemic hit the travelers and the well-off, now it hits the poor, especially those who live or work in cramped conditions. Special reports, analyzes and backgrounds on topics that affect our society - from reporters from all over the world. Your benefits with SPIEGEL +: for all content on all your devices from the weekly magazine of the weekly magazine can be canceled at any time can be canceled online for only € 19.99 per month\n",
            "SPIEGEL + is processed via your iTunes account and paid for with the purchase confirmation. The subscription is automatically renewed 24 hours before expiration\n",
            "a month for the price of currently € 19.99. You can cancel the subscription at any time in the settings of your iTunes account. At SPIEGEL + outside\n",
            "To use this app, you must link the subscription to a SPIEGEL ID account immediately after purchase. With the purchase you accept our\n",
            "General terms and conditions and data protection declaration.\n",
            "The first Covid 19 patients in Germany had to struggle with the burden of being a sensation in addition to their symptoms of illness. The treating chief physician Clemens Wendtner described the effect of the TV and Internet news in the isolation ward of the Schwabing Clinic as follows: \"You can tell that the world is talking about you.\" The employees of the automotive supplier Webasto were infected by a colleague from Shanghai who was in Bavaria for further training. The skiers followed. They returned from the slopes of Tyrol, South Tyrol and Vorarlberg after the holidays, where they had celebrated with holidaymakers from all over Europe in the bars. In the meantime, Covid 19 stations and health authorities have increasingly dealt with a completely different clientele: with cheap Eastern European wages from the slaughterhouses, with packers from logistics centers, with asylum seekers who infect each other in their accommodation. It can also be understood as follows: First the pandemic hit the travelers and the well-off, now it hits the poor, especially those who live or work in cramped conditions. Special reports, analyzes and backgrounds on topics that affect our society - from reporters from all over the world. Your benefits with SPIEGEL +: for all content on all your devices from the weekly magazine of the weekly magazine can be canceled at any time can be canceled online for only € 19.99 per month\n",
            "SPIEGEL + is processed via your iTunes account and paid for with the purchase confirmation. The subscription is automatically renewed 24 hours before expiration\n",
            "a month for the price of currently € 19.99. You can cancel the subscription at any time in the settings of your iTunes account. At SPIEGEL + outside\n",
            "To use this app, you must link the subscription to a SPIEGEL ID account immediately after purchase. With the purchase you accept our\n",
            "General terms and conditions and data protection declaration.\n",
            "The first Covid 19 patients in Germany had to struggle with the burden of being a sensation in addition to their symptoms of illness. The treating chief physician Clemens Wendtner described the effect of the TV and Internet news in the isolation ward of the Schwabing Clinic as follows: \"You can tell that the world is talking about you.\" The employees of the automotive supplier Webasto were infected by a colleague from Shanghai who was in Bavaria for further training. The skiers followed. They returned from the slopes of Tyrol, South Tyrol and Vorarlberg after the holidays, where they had celebrated with holidaymakers from all over Europe in the bars. In the meantime, Covid 19 stations and health authorities have increasingly dealt with a completely different clientele: with cheap Eastern European wages from the slaughterhouses, with packers from logistics centers, with asylum seekers who infect each other in their accommodation. It can also be understood as follows: First the pandemic hit the travelers and the well-off, now it hits the poor, especially those who live or work in cramped conditions. Special reports, analyzes and backgrounds on topics that affect our society - from reporters from all over the world. Your benefits with SPIEGEL +: for all content on all your devices from the weekly magazine of the weekly magazine can be canceled at any time can be canceled online for only € 19.99 per month\n",
            "SPIEGEL + is processed via your iTunes account and paid for with the purchase confirmation. The subscription is automatically renewed 24 hours before expiration\n",
            "a month for the price of currently € 19.99. You can cancel the subscription at any time in the settings of your iTunes account. At SPIEGEL + outside\n",
            "To use this app, you must link the subscription to a SPIEGEL ID account immediately after purchase. With the purchase you accept our\n",
            "General terms and conditions and data protection declaration.\n",
            "The first Covid 19 patients in Germany had to struggle with the burden of being a sensation in addition to their symptoms of illness. The treating chief physician Clemens Wendtner described the effect of the TV and Internet news in the isolation ward of the Schwabing Clinic as follows: \"You can tell that the world is talking about you.\" The employees of the automotive supplier Webasto were infected by a colleague from Shanghai who was in Bavaria for further training. The skiers followed. They returned from the slopes of Tyrol, South Tyrol and Vorarlberg after the holidays, where they had celebrated with holidaymakers from all over Europe in the bars. In the meantime, Covid 19 stations and health authorities have increasingly dealt with a completely different clientele: with cheap Eastern European wages from the slaughterhouses, with packers from logistics centers, with asylum seekers who infect each other in their accommodation. It can also be understood as follows: First the pandemic hit the travelers and the well-off, now it hits the poor, especially those who live or work in cramped conditions. Special reports, analyzes and backgrounds on topics that affect our society - from reporters from all over the world. Your benefits with SPIEGEL +: for all content on all your devices from the weekly magazine of the weekly magazine can be canceled at any time can be canceled online for only € 19.99 per month\n",
            "SPIEGEL + is processed via your iTunes account and paid for with the purchase confirmation. The subscription is automatically renewed 24 hours before expiration\n",
            "a month for the price of currently € 19.99. You can cancel the subscription at any time in the settings of your iTunes account. At SPIEGEL + outside\n",
            "To use this app, you must link the subscription to a SPIEGEL ID account immediately after purchase. With the purchase you accept our\n",
            "General terms and conditions and data protection declaration.\n",
            "The first Covid 19 patients in Germany had to struggle with the burden of being a sensation in addition to their symptoms of illness. The treating chief physician Clemens Wendtner described the effect of the TV and Internet news in the isolation ward of the Schwabing Clinic as follows: \"You can tell that the world is talking about you.\" The employees of the automotive supplier Webasto were infected by a colleague from Shanghai who was in Bavaria for further training. The skiers followed. They returned from the slopes of Tyrol, South Tyrol and Vorarlberg after the holidays, where they had celebrated with holidaymakers from all over Europe in the bars. In the meantime, Covid 19 stations and health authorities have increasingly dealt with a completely different clientele: with cheap Eastern European wages from the slaughterhouses, with packers from logistics centers, with asylum seekers who infect each other in their accommodation. It can also be understood as follows: First the pandemic hit the travelers and the well-off, now it hits the poor, especially those who live or work in cramped conditions. Special reports, analyzes and backgrounds on topics that affect our society - from reporters from all over the world. Your benefits with SPIEGEL +: for all content on all your devices from the weekly magazine of the weekly magazine can be canceled at any time can be canceled online for only € 19.99 per month\n",
            "SPIEGEL + is processed via your iTunes account and paid for with the purchase confirmation. The subscription is automatically renewed 24 hours before expiration\n",
            "a month for the price of currently € 19.99. You can cancel the subscription at any time in the settings of your iTunes account. At SPIEGEL + outside\n",
            "To use this app, you must link the subscription to a SPIEGEL ID account immediately after purchase. With the purchase you accept our\n",
            "General terms and conditions and data protection declaration.\n",
            "The first Covid 19 patients in Germany had to struggle with the burden of being a sensation in addition to their symptoms of illness. The treating chief physician Clemens Wendtner described the effect of the TV and Internet news in the isolation ward of the Schwabing Clinic as follows: \"You can tell that the world is talking about you.\" The employees of the automotive supplier Webasto were infected by a colleague from Shanghai who was in Bavaria for further training. The skiers followed. They returned from the slopes of Tyrol, South Tyrol and Vorarlberg after the holidays, where they had celebrated with holidaymakers from all over Europe in the bars. In the meantime, Covid 19 stations and health authorities have increasingly dealt with a completely different clientele: with cheap Eastern European wages from the slaughterhouses, with packers from logistics centers, with asylum seekers who infect each other in their accommodation. It can also be understood as follows: First the pandemic hit the travelers and the well-off, now it hits the poor, especially those who live or work in cramped conditions. Special reports, analyzes and backgrounds on topics that affect our society - from reporters from all over the world. Your benefits with SPIEGEL +: for all content on all your devices from the weekly magazine of the weekly magazine can be canceled at any time can be canceled online for only € 19.99 per month\n",
            "SPIEGEL + is processed via your iTunes account and paid for with the purchase confirmation. The subscription is automatically renewed 24 hours before expiration\n",
            "a month for the price of currently € 19.99. You can cancel the subscription at any time in the settings of your iTunes account. At SPIEGEL + outside\n",
            "To use this app, you must link the subscription to a SPIEGEL ID account immediately after purchase. With the purchase you accept our\n",
            "General terms and conditions and data protection declaration.\n",
            "The first Covid 19 patients in Germany had to struggle with the burden of being a sensation in addition to their symptoms of illness. The treating chief physician Clemens Wendtner described the effect of the TV and Internet news in the isolation ward of the Schwabing Clinic as follows: \"You can tell that the world is talking about you.\" The employees of the automotive supplier Webasto were infected by a colleague from Shanghai who was in Bavaria for further training. The skiers followed. They returned from the slopes of Tyrol, South Tyrol and Vorarlberg after the holidays, where they had celebrated with holidaymakers from all over Europe in the bars. In the meantime, Covid 19 stations and health authorities have increasingly dealt with a completely different clientele: with cheap Eastern European wages from the slaughterhouses, with packers from logistics centers, with asylum seekers who infect each other in their accommodation. It can also be understood as follows: First the pandemic hit the travelers and the well-off, now it hits the poor, especially those who live or work in cramped conditions. Special reports, analyzes and backgrounds on topics that affect our society - from reporters from all over the world. Your benefits with SPIEGEL +: for all content on all your devices from the weekly magazine of the weekly magazine can be canceled at any time can be canceled online for only € 19.99 per month\n",
            "SPIEGEL + is processed via your iTunes account and paid for with the purchase confirmation. The subscription is automatically renewed 24 hours before expiration\n",
            "a month for the price of currently € 19.99. You can cancel the subscription at any time in the settings of your iTunes account. At SPIEGEL + outside\n",
            "To use this app, you must link the subscription to a SPIEGEL ID account immediately after purchase. With the purchase you accept our\n",
            "General terms and conditions and data protection declaration.\n",
            "The first Covid 19 patients in Germany had to struggle with the burden of being a sensation in addition to their symptoms of illness. The treating chief physician Clemens Wendtner described the effect of the TV and Internet news in the isolation ward of the Schwabing Clinic as follows: \"You can tell that the world is talking about you.\" The employees of the automotive supplier Webasto were infected by a colleague from Shanghai who was in Bavaria for further training. The skiers followed. They returned from the slopes of Tyrol, South Tyrol and Vorarlberg after the holidays, where they had celebrated with holidaymakers from all over Europe in the bars. In the meantime, Covid 19 stations and health authorities have increasingly dealt with a completely different clientele: with cheap Eastern European wages from the slaughterhouses, with packers from logistics centers, with asylum seekers who infect each other in their accommodation. It can also be understood as follows: First the pandemic hit the travelers and the well-off, now it hits the poor, especially those who live or work in cramped conditions. Special reports, analyzes and backgrounds on topics that affect our society - from reporters from all over the world. Your benefits with SPIEGEL +: for all content on all your devices from the weekly magazine of the weekly magazine can be canceled at any time can be canceled online for only € 19.99 per month\n",
            "SPIEGEL + is processed via your iTunes account and paid for with the purchase confirmation. The subscription is automatically renewed 24 hours before expiration\n",
            "a month for the price of currently € 19.99. You can cancel the subscription at any time in the settings of your iTunes account. At SPIEGEL + outside\n",
            "To use this app, you must link the subscription to a SPIEGEL ID account immediately after purchase. With the purchase you accept our\n",
            "General terms and conditions and data protection declaration.\n"
          ],
          "name": "stdout"
        }
      ]
    },
    {
      "cell_type": "markdown",
      "metadata": {
        "id": "HcOlndfh9XwA",
        "colab_type": "text"
      },
      "source": [
        "## <font color='black'>Step 13. Store All article data in DataFrame </font>  \n",
        "<font color='grey'>Note: This is not just the filtered data, this contains all information from each web page. While not used in this project, it represents all of the original data used in this run. It can be used for reference.</font> "
      ]
    },
    {
      "cell_type": "code",
      "metadata": {
        "id": "Kjj8Wi-4yOSf",
        "colab_type": "code",
        "colab": {
          "base_uri": "https://localhost:8080/",
          "height": 419
        },
        "outputId": "16541f1d-ed5a-4250-c3d7-97ca56b71d99"
      },
      "source": [
        "# Put parsed data into Pandas DataFrame\n",
        "pd.DataFrame(out_list)"
      ],
      "execution_count": null,
      "outputs": [
        {
          "output_type": "execute_result",
          "data": {
            "text/html": [
              "<div>\n",
              "<style scoped>\n",
              "    .dataframe tbody tr th:only-of-type {\n",
              "        vertical-align: middle;\n",
              "    }\n",
              "\n",
              "    .dataframe tbody tr th {\n",
              "        vertical-align: top;\n",
              "    }\n",
              "\n",
              "    .dataframe thead th {\n",
              "        text-align: right;\n",
              "    }\n",
              "</style>\n",
              "<table border=\"1\" class=\"dataframe\">\n",
              "  <thead>\n",
              "    <tr style=\"text-align: right;\">\n",
              "      <th></th>\n",
              "      <th>date</th>\n",
              "      <th>time</th>\n",
              "      <th>source</th>\n",
              "      <th>Title</th>\n",
              "      <th>Text</th>\n",
              "      <th>url</th>\n",
              "    </tr>\n",
              "  </thead>\n",
              "  <tbody>\n",
              "    <tr>\n",
              "      <th>0</th>\n",
              "      <td>2020-6-23</td>\n",
              "      <td>4:23 PM</td>\n",
              "      <td>www.reuters.com</td>\n",
              "      <td>Paris's Orsay museum reopens to smaller crowds...</td>\n",
              "      <td>PARIS (Reuters) - The Musee d’Orsay in Paris, ...</td>\n",
              "      <td>https://www.reuters.com/article/us-health-coro...</td>\n",
              "    </tr>\n",
              "    <tr>\n",
              "      <th>1</th>\n",
              "      <td>2020-6-24</td>\n",
              "      <td>10:45 PM</td>\n",
              "      <td>www.reuters.com</td>\n",
              "      <td>Magnitude 5.9 quake strikes New Zealand's Milf...</td>\n",
              "      <td>WELLINGTON, June 25 (Reuters) - A magnitude 5....</td>\n",
              "      <td>https://www.reuters.com/article/newzealand-qua...</td>\n",
              "    </tr>\n",
              "    <tr>\n",
              "      <th>2</th>\n",
              "      <td>2020-6-18</td>\n",
              "      <td>9:27 PM</td>\n",
              "      <td>www.reuters.com</td>\n",
              "      <td>U.S. states, cities to lose $16.8 billion in h...</td>\n",
              "      <td>CHICAGO (Reuters) - Plummeting travel due to t...</td>\n",
              "      <td>https://www.reuters.com/article/us-health-coro...</td>\n",
              "    </tr>\n",
              "    <tr>\n",
              "      <th>3</th>\n",
              "      <td>2020-6-24</td>\n",
              "      <td>4:49 PM</td>\n",
              "      <td>www.reuters.com</td>\n",
              "      <td>Democrats accuse 'president's fixer' Barr of p...</td>\n",
              "      <td>WASHINGTON (Reuters) - U.S. House Democrats bl...</td>\n",
              "      <td>https://www.reuters.com/article/us-usa-congres...</td>\n",
              "    </tr>\n",
              "    <tr>\n",
              "      <th>4</th>\n",
              "      <td>2020-6-22</td>\n",
              "      <td>6:34 AM</td>\n",
              "      <td>www.reuters.com</td>\n",
              "      <td>Breakingviews - Ancient Chinese governance tec...</td>\n",
              "      <td>HONG KONG (Reuters Breakingviews) - SoftBank i...</td>\n",
              "      <td>https://www.reuters.com/article/us-arm-china-c...</td>\n",
              "    </tr>\n",
              "    <tr>\n",
              "      <th>...</th>\n",
              "      <td>...</td>\n",
              "      <td>...</td>\n",
              "      <td>...</td>\n",
              "      <td>...</td>\n",
              "      <td>...</td>\n",
              "      <td>...</td>\n",
              "    </tr>\n",
              "    <tr>\n",
              "      <th>113</th>\n",
              "      <td>2020-6-24</td>\n",
              "      <td>5:04 PM</td>\n",
              "      <td>www.reuters.com</td>\n",
              "      <td>Bayer to pay up to $10.9 billion to settle bul...</td>\n",
              "      <td>FRANKFURT/NEW YORK (Reuters) - Bayer AG, after...</td>\n",
              "      <td>https://www.reuters.com/article/us-bayer-litig...</td>\n",
              "    </tr>\n",
              "    <tr>\n",
              "      <th>114</th>\n",
              "      <td>2020-6-24</td>\n",
              "      <td>7:13 PM</td>\n",
              "      <td>www.reuters.com</td>\n",
              "      <td>Trump administration says Huawei, Hikvision ba...</td>\n",
              "      <td>WASHINGTON (Reuters) - The Trump administratio...</td>\n",
              "      <td>https://www.reuters.com/article/us-usa-china-m...</td>\n",
              "    </tr>\n",
              "    <tr>\n",
              "      <th>115</th>\n",
              "      <td>2020-4-22</td>\n",
              "      <td>4:31 PM</td>\n",
              "      <td>www.reuters.com</td>\n",
              "      <td>Your Money: Stimulus check confusion? Common q...</td>\n",
              "      <td>NEW YORK (Reuters) - In a little over a year, ...</td>\n",
              "      <td>https://www.reuters.com/article/us-health-coro...</td>\n",
              "    </tr>\n",
              "    <tr>\n",
              "      <th>116</th>\n",
              "      <td>2020-4-29</td>\n",
              "      <td>5:08 PM</td>\n",
              "      <td>www.reuters.com</td>\n",
              "      <td>Fear, sticker shock over health insurance gree...</td>\n",
              "      <td>NEW YORK (Reuters) - If you were laid off in A...</td>\n",
              "      <td>https://www.reuters.com/article/us-health-coro...</td>\n",
              "    </tr>\n",
              "    <tr>\n",
              "      <th>117</th>\n",
              "      <td>2020-6-24</td>\n",
              "      <td>7:55 PM</td>\n",
              "      <td>www.reuters.com</td>\n",
              "      <td>Lawmakers split along party lines on Justice D...</td>\n",
              "      <td>WASHINGTON (Reuters) - Attorney General Willia...</td>\n",
              "      <td>https://www.reuters.com/article/us-usa-justice...</td>\n",
              "    </tr>\n",
              "  </tbody>\n",
              "</table>\n",
              "<p>118 rows × 6 columns</p>\n",
              "</div>"
            ],
            "text/plain": [
              "          date  ...                                                url\n",
              "0    2020-6-23  ...  https://www.reuters.com/article/us-health-coro...\n",
              "1    2020-6-24  ...  https://www.reuters.com/article/newzealand-qua...\n",
              "2    2020-6-18  ...  https://www.reuters.com/article/us-health-coro...\n",
              "3    2020-6-24  ...  https://www.reuters.com/article/us-usa-congres...\n",
              "4    2020-6-22  ...  https://www.reuters.com/article/us-arm-china-c...\n",
              "..         ...  ...                                                ...\n",
              "113  2020-6-24  ...  https://www.reuters.com/article/us-bayer-litig...\n",
              "114  2020-6-24  ...  https://www.reuters.com/article/us-usa-china-m...\n",
              "115  2020-4-22  ...  https://www.reuters.com/article/us-health-coro...\n",
              "116  2020-4-29  ...  https://www.reuters.com/article/us-health-coro...\n",
              "117  2020-6-24  ...  https://www.reuters.com/article/us-usa-justice...\n",
              "\n",
              "[118 rows x 6 columns]"
            ]
          },
          "metadata": {
            "tags": []
          },
          "execution_count": 41
        }
      ]
    }
  ]
}