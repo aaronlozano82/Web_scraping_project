{
  "nbformat": 4,
  "nbformat_minor": 0,
  "metadata": {
    "colab": {
      "name": "Die_Zeit_Web_Scraper.ipynb",
      "provenance": [],
      "collapsed_sections": [
        "HcOlndfh9XwA"
      ],
      "toc_visible": true,
      "machine_shape": "hm",
      "include_colab_link": true
    },
    "kernelspec": {
      "name": "python3",
      "display_name": "Python 3"
    }
  },
  "cells": [
    {
      "cell_type": "markdown",
      "metadata": {
        "id": "view-in-github",
        "colab_type": "text"
      },
      "source": [
        "<a href=\"https://colab.research.google.com/github/este7734/Web_scraping_project/blob/master/Die_Zeit_Web_Scraper.ipynb\" target=\"_parent\"><img src=\"https://colab.research.google.com/assets/colab-badge.svg\" alt=\"Open In Colab\"/></a>"
      ]
    },
    {
      "cell_type": "markdown",
      "metadata": {
        "id": "Bps20joHXZod",
        "colab_type": "text"
      },
      "source": [
        "# <font color='yellow'> Die Zeit Web Scraper </font>\n",
        "\n",
        "---\n",
        "\n"
      ]
    },
    {
      "cell_type": "markdown",
      "metadata": {
        "id": "DWXpudN7R3Qc",
        "colab_type": "text"
      },
      "source": [
        "## Import Dependencies"
      ]
    },
    {
      "cell_type": "code",
      "metadata": {
        "colab_type": "code",
        "id": "_F9Q7Td-sRVi",
        "colab": {
          "base_uri": "https://localhost:8080/",
          "height": 68
        },
        "outputId": "6591de56-172d-4552-9162-e59fe917d5a8"
      },
      "source": [
        "# Import libraries for processing web text\n",
        "from bs4 import BeautifulSoup\n",
        "import requests\n",
        "\n",
        "from textblob import TextBlob\n",
        "import numpy as np\n",
        "import matplotlib.pyplot as plt\n",
        "import pandas as pd\n",
        "from lxml import html\n",
        "\n",
        "# Import these dependencies if using Google Colab \n",
        "import nltk\n",
        "nltk.download('punkt')"
      ],
      "execution_count": null,
      "outputs": [
        {
          "output_type": "stream",
          "text": [
            "[nltk_data] Downloading package punkt to /root/nltk_data...\n",
            "[nltk_data]   Unzipping tokenizers/punkt.zip.\n"
          ],
          "name": "stdout"
        },
        {
          "output_type": "execute_result",
          "data": {
            "text/plain": [
              "True"
            ]
          },
          "metadata": {
            "tags": []
          },
          "execution_count": 1
        }
      ]
    },
    {
      "cell_type": "markdown",
      "metadata": {
        "id": "nLQoyopg1oiY",
        "colab_type": "text"
      },
      "source": [
        "## Define All Functions"
      ]
    },
    {
      "cell_type": "code",
      "metadata": {
        "colab_type": "code",
        "cellView": "both",
        "id": "mh-Z_yZsENF2",
        "colab": {}
      },
      "source": [
        "#@title Functions Hidden\n",
        "# Get content of the webpage in an html string format by passing a url \n",
        "def get_html(url):\n",
        "    page = requests.get(url)\n",
        "    html_out = html.fromstring(page.content)\n",
        "    text = page.text\n",
        "    return html_out, text\n",
        "\n",
        "# Convert html into soup to enable soup menthods\n",
        "def get_soup(html_string):\n",
        "    soup = BeautifulSoup(html_string, 'html.parser')\n",
        "    return soup\n",
        "\n",
        "# Extract hyperlinks from soup\n",
        "def get_soup_links(soup):\n",
        "    links = []\n",
        "    for link in soup.find_all('a'):\n",
        "        out_link = link.get('href')\n",
        "        links.append(out_link)\n",
        "    return links\n",
        "\n",
        "# This function is for use with only the Topic pages on diezeit.com\n",
        "# Search through ALL links and filter for only those that are for actual articles\n",
        "# links are formatted differently \n",
        "def get_articles_topics(links, old_url_set):\n",
        "    articles = []\n",
        "    for link in links:\n",
        "        try:\n",
        "            if 'https://www.zeit.de'in link:\n",
        "              for topic in die_zeit_topics:\n",
        "                if topic in link:\n",
        "                  link = link\n",
        "                  if url_check(old_url_set, link) == False:\n",
        "                    articles.append(link)\n",
        "        except:\n",
        "            continue\n",
        "    articles = list(set(articles))\n",
        "    old_url_set = set(articles + list(old_url_set))       \n",
        "    return articles, old_url_set\n",
        "\n",
        "# Check if new urls exists in the old_url_set. if yes, return True; if no, return False\n",
        "# This function is used in the get_articles_topics function\n",
        "def url_check(old_url_set, url):\n",
        "    url_set = set([url])\n",
        "    test_set = old_url_set & url_set\n",
        "    if len(test_set) == 0:\n",
        "        check = False\n",
        "    else:\n",
        "        check = True\n",
        "    return check\n",
        "\n",
        "# Get html strings from list of article weblinks\n",
        "def get_html(articles):\n",
        "    soup_list = []\n",
        "    for article in articles:\n",
        "        _, text = get_html(article)\n",
        "        soup = get_soup(text)\n",
        "        soup_list.append(soup)\n",
        "    return soup_list\n",
        "\n",
        "  # Break out article_body, article_headline, and article_date from each article in provided hyperlinks and put into a dictionary called: out_list\n",
        "def get_elements(soup_list, articles):\n",
        "    out_list = []\n",
        "    i = 0\n",
        "    for article in soup_list:\n",
        "        link = articles[i] # I don't think this is used at all here, which means there is no reason to require the second argument: articles\n",
        "        i += 1\n",
        "        try:\n",
        "            article_body = article.find_all(body_class, {'class': body_tag})\n",
        "            article_p = []\n",
        "            for item in article_body:\n",
        "                p_list = item.find_all('p')\n",
        "                for p in p_list:\n",
        "                    article_p.append(p.text)\n",
        "            out_text = ' '.join(article_p)\n",
        "            if out_text == '':\n",
        "              continue\n",
        "            if out_text.startswith('Besondere Reportagen'):\n",
        "              continue\n",
        "            out_dict = dict([('Text',out_text),('url',link)])\n",
        "            out_list.append(out_dict)\n",
        "        except:\n",
        "            print('Unable to decode...skipping article...')\n",
        "            continue\n",
        "\n",
        "    return out_list  "
      ],
      "execution_count": null,
      "outputs": []
    },
    {
      "cell_type": "markdown",
      "metadata": {
        "id": "z_qCIHy31uSJ",
        "colab_type": "text"
      },
      "source": [
        "## Define URL Variables and Run Functions"
      ]
    },
    {
      "cell_type": "markdown",
      "metadata": {
        "id": "pU0yQpNqLwl4",
        "colab_type": "text"
      },
      "source": [
        "<font color='orange'>Step 1.</font> Instantiate `tags and values`. Then instntiate `old_url_set` to be used in the `get_articles_topics` function. This is a running log of article links that will be compiled by iterating from steps 2 - 3."
      ]
    },
    {
      "cell_type": "code",
      "metadata": {
        "id": "3S4mzVpzp5g1",
        "colab_type": "code",
        "colab": {}
      },
      "source": [
        "# Die Zeit classes and tags\n",
        "body_class = 'div'\n",
        "headline_class = 'h1'\n",
        "date_class = 'div'\n",
        "\n",
        "body_tag = 'article-body article-body--article'\n",
        "headline_tag = 'headline article__item'\n",
        "date_tag = 'metadata'\n",
        "\n",
        "# Instantiate empty set to use a running list of hyperlinks while \n",
        "# running the scrape iterations\n",
        "old_url_set = set([])"
      ],
      "execution_count": null,
      "outputs": []
    },
    {
      "cell_type": "markdown",
      "metadata": {
        "id": "KBkhWZ5iMWq9",
        "colab_type": "text"
      },
      "source": [
        "## Scrape Die Zeit Topics pages for all the most recent news articles. <font color='orange'>*Run Steps 2 - 3 for each instance of `url` variable, before moving on to the next steps*</font>"
      ]
    },
    {
      "cell_type": "markdown",
      "metadata": {
        "id": "URLqBDPwUbRZ",
        "colab_type": "text"
      },
      "source": [
        "<font color='orange'>Step 2.</font> Define variables for each of Die Zeit main topics pages. Run this cell for each iteration by uncommenting a different url each time."
      ]
    },
    {
      "cell_type": "code",
      "metadata": {
        "id": "P8a1cAaw3PfL",
        "colab_type": "code",
        "colab": {}
      },
      "source": [
        "# Define url variables\n",
        "# NOTE: You must run these individually through the end of this section\n",
        "# I didn't have time to figure out how to loop through all of them properly\n",
        "# There is a section at the very bottom where you can see that I attempted but ran\n",
        "# into a problem on one of the last functions. \n",
        "\n",
        "# Die Zeit Links\n",
        "#url = r'https://www.zeit.de/index'\n",
        "#url = r'https://www.zeit.de/politik/index'\n",
        "#url = r'https://www.zeit.de/gesellschaft/index'\n",
        "#url = r'https://www.zeit.de/wirtschaft/index'\n",
        "#url = r'https://www.zeit.de/wissen/index'\n",
        "#url = r'https://www.zeit.de/digital/index'\n",
        "#url = r'https://www.zeit.de/entdecken/index'\n",
        "url = r'https://www.zeit.de/zeit-magazin/index'\n",
        "\n",
        "die_zeit_topics = ['politik/index', 'gesellschaft', 'wirtschaft', 'wissen',\n",
        "                   'digital', 'entdecken']"
      ],
      "execution_count": null,
      "outputs": []
    },
    {
      "cell_type": "markdown",
      "metadata": {
        "id": "7qGyTkHR3Tos",
        "colab_type": "text"
      },
      "source": [
        "## Scraper"
      ]
    },
    {
      "cell_type": "markdown",
      "metadata": {
        "id": "Ctx4uUaNM-qy",
        "colab_type": "text"
      },
      "source": [
        "<font color='orange'>Step 3.</font> Get HTML srting from web `url`"
      ]
    },
    {
      "cell_type": "code",
      "metadata": {
        "id": "dJshIC2L4iPA",
        "colab_type": "code",
        "colab": {
          "base_uri": "https://localhost:8080/",
          "height": 51
        },
        "outputId": "6bc0a69b-d6eb-47ad-aa16-20fa144e918d"
      },
      "source": [
        "# Pass the each instance of `url` variable to return the web page in HTML format and convert it to a string\n",
        "html_string = str(get_html(url))\n",
        "# Pass the HTML string (of the web page) to get its soup\n",
        "soup = get_soup(html_string)\n",
        "# Find ALL links on within the soup\n",
        "links = get_soup_links(soup)\n",
        "# Use this for Topics Pages only\n",
        "# Filter out only those links that are for actual articles. We only want the \"good\" links\n",
        "# This filters out things like links to images and advertisements or non-news worthy pages\n",
        "articles, old_url_set = get_articles_topics(links, old_url_set)\n",
        "print(len(articles))\n",
        "# Print out the running list of hyperlinks to see how many you have\n",
        "print(len(old_url_set))"
      ],
      "execution_count": null,
      "outputs": [
        {
          "output_type": "stream",
          "text": [
            "3\n",
            "161\n"
          ],
          "name": "stdout"
        }
      ]
    },
    {
      "cell_type": "markdown",
      "metadata": {
        "id": "t3m2VgFKwLm-",
        "colab_type": "text"
      },
      "source": [
        "## Pre-Run List of URLs"
      ]
    },
    {
      "cell_type": "code",
      "metadata": {
        "id": "5cdXoXS_eCqS",
        "colab_type": "code",
        "cellView": "form",
        "colab": {}
      },
      "source": [
        "#@title Double-click for entire old_url_set\n",
        "old_url_set = {'https://www.zeit.de/2020/27/klimaforschung-ideologie-thea-dorn-wissenschaft-warnung',\n",
        " 'https://www.zeit.de/2020/27/unternehmen-wirtschaft-staat-wirecard-toennies-lufthansa-cure-vac',\n",
        " 'https://www.zeit.de/2020/27/wirecard-bilanzskandal-betrug-finanzaufsichtsbehoerde-bafin-digitaler-zahlungsdienst',\n",
        " 'https://www.zeit.de/angebote/bp-wissenspodcast/index',\n",
        " 'https://www.zeit.de/digital/2020-06/corona-warn-app-bugs-hinweise',\n",
        " 'https://www.zeit.de/digital/2020-06/covid-19-corona-warn-app-infizierte-warnung',\n",
        " 'https://www.zeit.de/digital/2020-06/eu-kommission-bericht-dsgvo-datenschutz',\n",
        " 'https://www.zeit.de/digital/2020-06/margrethe-vestager-tech-konzerne-usa-silicon-valley',\n",
        " 'https://www.zeit.de/digital/2020-06/medienpreis-grimme-podcast-christian-drosten',\n",
        " 'https://www.zeit.de/digital/2020-06/polizeigewalt-usa-proteste-digitale-ueberwachung-buergerrechtler-faq',\n",
        " 'https://www.zeit.de/digital/2020-06/twitter-donald-trump-us-praesident-warnhinweis',\n",
        " 'https://www.zeit.de/digital/datenschutz/2020-06/datenschutz-facebook-bundesgerichtshof-stoppung-sammlung-nutzerdaten-kartellamt',\n",
        " 'https://www.zeit.de/digital/datenschutz/2020-06/hass-im-internet-gesetz-bundestag-hasskommentare-datenschutz',\n",
        " 'https://www.zeit.de/digital/datenschutz/2020-06/kindesmissbrauch-vorratsdatenspeicherung-kinderpornografie-innenministerkonferenz-franziska-giffey-bekaempfung',\n",
        " 'https://www.zeit.de/digital/datenschutz/2020-06/spionage-ueberwachung-nso-marokko-journalist-pegasus',\n",
        " 'https://www.zeit.de/digital/datenschutz/index',\n",
        " 'https://www.zeit.de/digital/games/2020-05/spielekonsole-sport-playstation-xbox-nintendo-wii',\n",
        " 'https://www.zeit.de/digital/games/2020-05/spielekonsolen-videospiele-gaming-konsolenkauf-spiele-einsteiger-tipps',\n",
        " 'https://www.zeit.de/digital/games/2020-06/gaming-szene-sexuelle-belaestigung-frauen-metoo',\n",
        " 'https://www.zeit.de/digital/games/2020-06/spielekonsole-sony-playstation-digital-edition-laufwerk',\n",
        " 'https://www.zeit.de/digital/games/2020-06/the-last-of-us-part-2-computerspiel-storytelling-gaming',\n",
        " 'https://www.zeit.de/digital/games/index',\n",
        " 'https://www.zeit.de/digital/index',\n",
        " 'https://www.zeit.de/digital/internet/2020-03/it-sicherheit-datenschutz-digitalisierung-internet-digitalpodcast',\n",
        " 'https://www.zeit.de/digital/internet/2020-06/3-d-druck-technologie-prothesen-gesundheit-waffen-umwelt',\n",
        " 'https://www.zeit.de/digital/internet/2020-06/google-news-lizenzvertraege-online-journalismus-inhalte',\n",
        " 'https://www.zeit.de/digital/internet/2020-06/hassrede-facebook-werbung-boykott-unternehmen-usa-soziale-medien',\n",
        " 'https://www.zeit.de/digital/internet/2020-06/olg-dresden-ein-prozent-hassorganisation-sperre-facebook',\n",
        " 'https://www.zeit.de/digital/internet/2020-06/pornografie-minderjaehrige-medienschutz-pornoplattform-sperre',\n",
        " 'https://www.zeit.de/digital/internet/2020-06/strafverfolgung-netz-bundestag-hass-hetze-drohungen-haertere-strafen-gesetz',\n",
        " 'https://www.zeit.de/digital/internet/2020-06/twitter-sprachnachrichten-social-media-audio-aufnahme',\n",
        " 'https://www.zeit.de/digital/internet/index',\n",
        " 'https://www.zeit.de/digital/mobil/2020-05/samsung-galaxy-z-flip-klapp-handy',\n",
        " 'https://www.zeit.de/digital/mobil/2020-06/apple-pay-app-store-eu-kommission-wettbewerbsverfahren-kartell',\n",
        " 'https://www.zeit.de/digital/mobil/2020-06/corona-app-tracing-datenschutz-faq',\n",
        " 'https://www.zeit.de/digital/mobil/2020-06/corona-warn-app-gesundheitsaemter-anfragen-hotline-nutzer-downloads',\n",
        " 'https://www.zeit.de/digital/mobil/2020-06/robert-habeck-gruene-corona-warn-app-aeltere-smartphones-menschen-kritik',\n",
        " 'https://www.zeit.de/digital/mobil/2020-06/tracing-app-corona-datenschutz-standortdaten-bluetooth-virus-bekaempfung',\n",
        " 'https://www.zeit.de/digital/mobil/2020-06/wwdc-2020-apple-worldwide-developers-conference-entwickler-konferenz-ios-mac',\n",
        " 'https://www.zeit.de/digital/mobil/index',\n",
        " 'https://www.zeit.de/entdecken/2020-06/giessen-hessen-giesskannenmuseum-elefantenklo-stadttheater',\n",
        " 'https://www.zeit.de/entdecken/index',\n",
        " 'https://www.zeit.de/entdecken/reisen/2020-06/europareise-reisewarnung-aufgehoben-eu-sommer-ferien-auswaertiges-amt-faq',\n",
        " 'https://www.zeit.de/entdecken/reisen/2020-06/flugreisen-airlines-kurzurlaub-luftfahrtbranche-coronavirus',\n",
        " 'https://www.zeit.de/entdecken/reisen/2020-06/gesundheitsminister-jens-spahn-warnung-reisen-corona-ischgl-ballermann',\n",
        " 'https://www.zeit.de/entdecken/reisen/2020-06/mallorca-tourismus-medien-ballermann-corona-krise',\n",
        " 'https://www.zeit.de/entdecken/reisen/2020-06/sommerferien-urlaub-deutschland-tourismus-nordsee-ostsee-straende',\n",
        " 'https://www.zeit.de/entdecken/reisen/2020-06/veneding-coronavirus-tourismus-entspannung-oekosystem',\n",
        " 'https://www.zeit.de/gesellschaft/2020-06/corona-pandemie-sterbefaelle-mai-vergleich-vorjahre',\n",
        " 'https://www.zeit.de/gesellschaft/2020-06/corona-reisebeschraenkungen-warendorf-guetersloh-niedersachsen',\n",
        " 'https://www.zeit.de/gesellschaft/2020-06/goettingen-hochhauskomplex-quarantaene-bewohner-angriff-polizei',\n",
        " 'https://www.zeit.de/gesellschaft/2020-06/grossbritannien-straende-menschen-kontaktbeschraenkungen-coronavirus',\n",
        " 'https://www.zeit.de/gesellschaft/2020-06/mord-mutter-toechter-ermittlungen-kriminalpodcast',\n",
        " 'https://www.zeit.de/gesellschaft/familie/2020-06/bertelsmann-studie-frauen-gehalt-muetter-lebenserwerbseinkommen-karriere',\n",
        " 'https://www.zeit.de/gesellschaft/familie/2020-06/bundesregierung-zugang-familienleistungen-geburtsurkunde-elterngeld-kindergeld',\n",
        " 'https://www.zeit.de/gesellschaft/familie/2020-06/ehe-fuer-alle-schweiz-beschluss-homosexualitaet-samenspende-svp',\n",
        " 'https://www.zeit.de/gesellschaft/familie/index',\n",
        " 'https://www.zeit.de/gesellschaft/index',\n",
        " 'https://www.zeit.de/gesellschaft/schule/2020-06/anja-karliczek-schulbetrieb-coronavirus-infektionen-bildungsministerin',\n",
        " 'https://www.zeit.de/gesellschaft/schule/2020-06/inklusion-schule-foerderung-kinder-bertelsmann-studie',\n",
        " 'https://www.zeit.de/gesellschaft/schule/2020-06/nationaler-bildungsbericht-deutschland-bildung-digitalisierung-schule-ausbildung',\n",
        " 'https://www.zeit.de/gesellschaft/zeitgeschehen/2018-06/racial-profiling-club-rassismus-deutschland',\n",
        " 'https://www.zeit.de/gesellschaft/zeitgeschehen/2018-06/rassismus-ideologie-nationalsozialismus-rassentheorie-antike-mittelalter-genetik',\n",
        " 'https://www.zeit.de/gesellschaft/zeitgeschehen/2020-05/corona-schutzmassnahmen-lockdown-lockerungen-bundeslaender',\n",
        " 'https://www.zeit.de/gesellschaft/zeitgeschehen/2020-06/bundesegierung-touristen-rueckholaktion-kosten-coronavirus',\n",
        " 'https://www.zeit.de/gesellschaft/zeitgeschehen/2020-06/corona-ausbruch-goettingen-quarantaene-aufgehoben-wohnkomplex-hochhaus',\n",
        " 'https://www.zeit.de/gesellschaft/zeitgeschehen/2020-06/corona-nothilfe-studenten-bundesregierung-ueberbrueckungshilfe',\n",
        " 'https://www.zeit.de/gesellschaft/zeitgeschehen/2020-06/coronakrise-peking-china-ausbruch-grossmarkt-massnahmen',\n",
        " 'https://www.zeit.de/gesellschaft/zeitgeschehen/2020-06/coronavirus-armin-laschet-kuendigt-lockdown-fuer-kreis-guetersloh-an',\n",
        " 'https://www.zeit.de/gesellschaft/zeitgeschehen/2020-06/coronavirus-toennies-schulen-schliessung-yvonne-gebauer',\n",
        " 'https://www.zeit.de/gesellschaft/zeitgeschehen/2020-06/ethikrat-stellungnahme-tierschutz-schlachtbetriebe-fleischpreis-tierwohl',\n",
        " 'https://www.zeit.de/gesellschaft/zeitgeschehen/2020-06/frankreich-extinction-rebellion-wiedereroeffnung-flughafen-paris',\n",
        " 'https://www.zeit.de/gesellschaft/zeitgeschehen/2020-06/genitalverstuemmelung-frauen-maedchen-deutschland-franzsika-giffey',\n",
        " 'https://www.zeit.de/gesellschaft/zeitgeschehen/2020-06/grossbritannien-glasgow-messerattacke-verletzte',\n",
        " 'https://www.zeit.de/gesellschaft/zeitgeschehen/2020-06/grossbritannien-london-gericht-verurteilung-anschlagsplaene-deutschland',\n",
        " 'https://www.zeit.de/gesellschaft/zeitgeschehen/2020-06/kirchenaustritte-deutschland-dbk-ekd-hoechstwert',\n",
        " 'https://www.zeit.de/gesellschaft/zeitgeschehen/2020-06/krawalle-stuttgart-ausschreitungen-pluenderungen-polizei-randale-innenstadt',\n",
        " 'https://www.zeit.de/gesellschaft/zeitgeschehen/2020-06/migration-griechenland-fluechtlingslager-inseln-moria-lesbos-migrationsministerium',\n",
        " 'https://www.zeit.de/gesellschaft/zeitgeschehen/2020-06/reisen-coronavirus-einschraenkungen-sommerurlaub-infektionsschutz-erwartungen-yougov',\n",
        " 'https://www.zeit.de/gesellschaft/zeitgeschehen/2020-06/sizilien-sea-watch-3-migranten-mittelmeer-libyen-seenotrettung',\n",
        " 'https://www.zeit.de/gesellschaft/zeitgeschehen/2020-06/stuttgart-ausschreitungen-wutbuerger-party-gewalt-polizei-elend',\n",
        " 'https://www.zeit.de/gesellschaft/zeitgeschehen/2020-06/stuttgart-innenstadt-pluenderungen-zerstoerung-polizei',\n",
        " 'https://www.zeit.de/gesellschaft/zeitgeschehen/2020-06/stuttgart-innenstadt-randale-pluenderungen-festnahmen',\n",
        " 'https://www.zeit.de/gesellschaft/zeitgeschehen/2020-06/who-ebola-pandemie-kongo-afrika-ausbruch-eindaemmung',\n",
        " 'https://www.zeit.de/gesellschaft/zeitgeschehen/2020-06/wildeshausen-schlachthof-coronavirus-quarantaene-landkreis-oldenburg',\n",
        " 'https://www.zeit.de/gesellschaft/zeitgeschehen/index',\n",
        " 'https://www.zeit.de/kultur/2020-06/biografie-autor-herkunft-gesellschaft-ansehen-schreiben-autobiografie',\n",
        " 'https://www.zeit.de/mobilitaet/2020-06/fluggesellschaften-klimaschutz-corona-krise-politische-vorgaben-kurzstreckenfluege-ideen',\n",
        " 'https://www.zeit.de/politik/ausland/2020-06/covid-19-pandemie-wirtschaftskrise-armut-soforthilfe',\n",
        " 'https://www.zeit.de/politik/ausland/2020-06/euopaeische-union-china-usa-russland-macht-wirtschaft',\n",
        " 'https://www.zeit.de/politik/index',\n",
        " 'https://www.zeit.de/serie/digitale-aengste',\n",
        " 'https://www.zeit.de/serie/gesellschaftskritik',\n",
        " 'https://www.zeit.de/wirtschaft/2020-05/anlagetipps-nouriel-roubini-corona-krise-boerse-gold-anleihen',\n",
        " 'https://www.zeit.de/wirtschaft/2020-06/aktionaere-stimmen-staatseinstieg-bei-lufthansa-zu',\n",
        " 'https://www.zeit.de/wirtschaft/2020-06/bedingungen-gastarbeit-toennis-szabolcs-sepsi-rumaenisch-ausbeutung-fleischindustrie',\n",
        " 'https://www.zeit.de/wirtschaft/2020-06/braunkohle-tagebau-garzweiler-besetzt-aktivisten-kohleausstieg',\n",
        " 'https://www.zeit.de/wirtschaft/2020-06/ferienimmobilien-mallorca-tourismus',\n",
        " 'https://www.zeit.de/wirtschaft/2020-06/fleischindustrie-schlachtbetriebe-kontrollen-arbeitsbedingungen-arbeitsrecht-verstoesse-deutschland-schlachthoefe',\n",
        " 'https://www.zeit.de/wirtschaft/2020-06/fleischindustrie-treffen-julia-kloeckner-kritik-gruene-dgb',\n",
        " 'https://www.zeit.de/wirtschaft/2020-06/fleischproduktion-julia-kloeckner-spitzentreffen-fleischbranche',\n",
        " 'https://www.zeit.de/wirtschaft/2020-06/guetersloh-toennies-coronavirus-ausbruch-rheda-wiedenbrueck-bundeswehr-lockdown',\n",
        " 'https://www.zeit.de/wirtschaft/2020-06/usa-soforthilfe-milliarden-dollar-verstorbene',\n",
        " 'https://www.zeit.de/wirtschaft/2020-06/wirecard-insolvenz-bilanzskandal',\n",
        " 'https://www.zeit.de/wirtschaft/geldanlage/2020-05/aktienmarkt-deutschland-staatsanleihen-ezb-dax-corona-krise-wirtschaft',\n",
        " 'https://www.zeit.de/wirtschaft/geldanlage/2020-05/geldanlage-christine-lagarde-ezb-direktoren-notenbankchefs-depots',\n",
        " 'https://www.zeit.de/wirtschaft/index',\n",
        " 'https://www.zeit.de/wirtschaft/unternehmen/2020-06/corona-infektionen-wiesenhof-schlachterei-tests-oldenburg',\n",
        " 'https://www.zeit.de/wirtschaft/unternehmen/2020-06/covid-19-toennies-mitarbeiter-bulgare-coronavirus',\n",
        " 'https://www.zeit.de/wirtschaft/unternehmen/2020-06/fleischpreise-landwirtschaft-tierwohl-fleischkonsum-deutschland-julia-kloeckner',\n",
        " 'https://www.zeit.de/wirtschaft/unternehmen/2020-06/lufthansa-flugausfaelle-erstattung-corona-krise-michael-niggemann',\n",
        " 'https://www.zeit.de/wirtschaft/unternehmen/2020-06/toennies-corona-ausbruch-guetersloh-lockdown-armin-laschet',\n",
        " 'https://www.zeit.de/wirtschaft/unternehmen/2020-06/toennies-coronavirus-infizierte-qurantaene-guetersloh-lockdown',\n",
        " 'https://www.zeit.de/wirtschaft/unternehmen/2020-06/toennies-coronavirus-rheda-wiedenbrueck-alexander-lang',\n",
        " 'https://www.zeit.de/wirtschaft/unternehmen/2020-06/wirecard-bafin-finanzaufsicht-eu-kommission-bilanzskandal',\n",
        " 'https://www.zeit.de/wirtschaft/unternehmen/2020-06/wirecard-finanzmarkt-bilanzskandal-insolvenz-aktienmarkt-dax',\n",
        " 'https://www.zeit.de/wirtschaft/unternehmen/index',\n",
        " 'https://www.zeit.de/wirtschaft/zeit-wirtschaftsrat',\n",
        " 'https://www.zeit.de/wissen/2020-06/corona-ausbreitung-usa-rekordwert-donald-trump',\n",
        " 'https://www.zeit.de/wissen/2020-06/coronavirus-drogenszene-sucht-abhaengigkeit-polizei-hannover',\n",
        " 'https://www.zeit.de/wissen/geschichte/index',\n",
        " 'https://www.zeit.de/wissen/gesundheit/2019-11/masern-impfpflicht-deutschland-gesundheit-bundestag',\n",
        " 'https://www.zeit.de/wissen/gesundheit/2019-12/schlafstoerung-muedigkeit-erschoepfung-erkrankung-symptom-psychologie',\n",
        " 'https://www.zeit.de/wissen/gesundheit/2020-05/christian-drosten-corona-virus-streit-medien-virolgie-kritik',\n",
        " 'https://www.zeit.de/wissen/gesundheit/2020-05/global-drug-survey-drogenkonsum-alkohol-coronavirus-krise',\n",
        " 'https://www.zeit.de/wissen/gesundheit/2020-05/sars-cov-2-coronavirus-verlauf-lungenkrankheit-herz-blut-rachen',\n",
        " 'https://www.zeit.de/wissen/gesundheit/2020-05/wetter-sommer-hitze-sars-cov-2-infektion-corona-viren',\n",
        " 'https://www.zeit.de/wissen/gesundheit/2020-06/antikoerperstudie-coronavirus-infektion-antikoerpertest-ischgl',\n",
        " 'https://www.zeit.de/wissen/gesundheit/2020-06/berlin-friedrichshain-coronavirus-ausbruch-wohnblock-infektion-ostbahnhof',\n",
        " 'https://www.zeit.de/wissen/gesundheit/2020-06/christian-drosten-studie-ansteckungsgefahr-durch-kinder-schuloeffnung-kritik',\n",
        " 'https://www.zeit.de/wissen/gesundheit/2020-06/corona-antikoerperstudie-ischgl-herdenimmunitaet-dunkelziffer',\n",
        " 'https://www.zeit.de/wissen/gesundheit/2020-06/corona-infektionen-r-wert-coronavirus-rki-ansteckungen',\n",
        " 'https://www.zeit.de/wissen/gesundheit/2020-06/corona-infektionen-r-wert-rki-schlachthof-ausbruch',\n",
        " 'https://www.zeit.de/wissen/gesundheit/2020-06/corona-krise-schockstarre-gesellschaft-psychologie-jan-kalbitzer-pandemie',\n",
        " 'https://www.zeit.de/wissen/gesundheit/2020-06/corona-medikament-dexamethason-senkt-sterberate-forschung-durchbruch',\n",
        " 'https://www.zeit.de/wissen/gesundheit/2020-06/corona-pandemie-tote-europa-eurostat',\n",
        " 'https://www.zeit.de/wissen/gesundheit/2020-06/corona-prognosen-melanie-brinkmann-jeremy-farrar-virusbekaempfung',\n",
        " 'https://www.zeit.de/wissen/gesundheit/2020-06/coronavirus-schwangere-erhoehtes-infektionsrisiko-us-gesundheitsbehoerde-cdc',\n",
        " 'https://www.zeit.de/wissen/gesundheit/2020-06/covid-19-christian-drosten-zweite-infektionswelle-warnung-corona-ausbrueche',\n",
        " 'https://www.zeit.de/wissen/gesundheit/2020-06/fremdgehen-liebe-affaere-partnerschaft-vertrauen-ulrich-clement-sexpodcast',\n",
        " 'https://www.zeit.de/wissen/gesundheit/2020-06/remdesivir-corona-medikament-eu-agentur-ema',\n",
        " 'https://www.zeit.de/wissen/gesundheit/2020-06/reproduktionszahl-r-rki-guetersloh-toennies-corona-ausbruch',\n",
        " 'https://www.zeit.de/wissen/gesundheit/2020-06/rki-corona-reproduktionszahl-r-infektionsgeschehen-unterschiede-landkreise-nrw',\n",
        " 'https://www.zeit.de/wissen/gesundheit/2020-06/sars-cov-2-pandemie-eigenverantwortung-verhalten-corona-party-leichtsinn',\n",
        " 'https://www.zeit.de/wissen/gesundheit/2020-06/schweden-anders-tegnell-coronavirus-risikogebiet-who',\n",
        " 'https://www.zeit.de/wissen/gesundheit/2020-06/todesfaelle-coronavirus-kinder-infektionen-verlauf-sterblichkeit-europa',\n",
        " 'https://www.zeit.de/wissen/gesundheit/2020-06/usa-coronavirus-neuinfektionen-fallzahlen-corona-tests-hoechststand',\n",
        " 'https://www.zeit.de/wissen/gesundheit/2020-06/weltgesundheitsorganisation-who-investitionen-coronavirus-tests-impfungen-medikamente',\n",
        " 'https://www.zeit.de/wissen/gesundheit/2020-06/who-coronavirus-faelle-groesste-zunahme-an-einem-tag-pandemie',\n",
        " 'https://www.zeit.de/wissen/gesundheit/index',\n",
        " 'https://www.zeit.de/wissen/index',\n",
        " 'https://www.zeit.de/wissen/umwelt/2020-06/klimawandel-gletscherschwund-alpen-erderwaermung',\n",
        " 'https://www.zeit.de/wissen/umwelt/2020-06/umweltschutz-deutschland-luftverschmutzung-ziele-eu-kommission',\n",
        " 'https://www.zeit.de/wissen/umwelt/2020-06/verpackungsmuell-plastikmuell-corona-krise-der-gruene-punkt',\n",
        " 'https://www.zeit.de/wissen/umwelt/index',\n",
        " 'https://www.zeit.de/wissen/zeit-geschichte/',\n",
        " 'https://www.zeit.de/wissen/zeit-wissen/',\n",
        " 'https://www.zeit.de/zeit-magazin/2020/26/donald-trump-twitter-like-gesellschaftskritik',\n",
        " 'https://www.zeit.de/zeit-magazin/2020/27/justin-trudeau-interimsfrisuren-gesellschaftskritik',\n",
        " 'https://www.zeit.de/zeit-wissen/2020/03/corona-pandemie-ideen-welt-nach-coronavirus',\n",
        " 'https://www.zeit.de/zeit-wissen/2020/03/willenskraft-motivation-ziele-plaene-effektivitaet-selbstwirksamkeit'}"
      ],
      "execution_count": null,
      "outputs": []
    },
    {
      "cell_type": "markdown",
      "metadata": {
        "id": "DWBBUihX8R0w",
        "colab_type": "text"
      },
      "source": [
        "## <font color='skyblue'>Parse soup from entire list of hyperlinks that you just accumulated</font>"
      ]
    },
    {
      "cell_type": "markdown",
      "metadata": {
        "id": "M5M5Po9_OWk2",
        "colab_type": "text"
      },
      "source": [
        "<font color='orange'>Step 4.</font> Get soup for every link\n",
        "\n",
        "<font color='orange'>Step 5.</font> Parse the soup for each link into `article_body`, `article_title`, and `article_date`. Create list of dictionaries for each web page\n",
        "\n",
        "<font color='orange'>Step 6.</font> Run `TextBlob` on list of dictionaries to separate all sentences in a single list"
      ]
    },
    {
      "cell_type": "code",
      "metadata": {
        "id": "fZoenVkMIukU",
        "colab_type": "code",
        "cellView": "both",
        "colab": {
          "base_uri": "https://localhost:8080/",
          "height": 119
        },
        "outputId": "063081cb-b6ee-43b2-c4d2-88aa790bce9d"
      },
      "source": [
        "# Get soup for each one of the \"good\" links\n",
        "url_links = list(old_url_set) # Convert the running set of links to a list for use in the following functions\n",
        "\n",
        "soup_list = get_html(url_links)\n",
        "print(f'Length of Soup List: {len(soup_list)}')\n",
        "#print(soup_list[0])\n",
        "\n",
        "# Parse the soup for each \"good\" link to get article text, title, and date\n",
        "out_list = get_elements(soup_list, url_links)\n",
        "print(f'Length of out_list: {len(out_list)}')\n",
        "#out_list[0:2]\n",
        "\n",
        "# Translate all articles to English\n",
        "blob_full=[]\n",
        "for i in range(len(out_list)):\n",
        "  try:\n",
        "    blob = out_list[i]['Text']\n",
        "    trans = TextBlob(blob) # Enter string object\n",
        "    trans = trans.translate(to='en')\n",
        "    blob_full.append(trans)\n",
        "    #print('\\n', i+1, '\\n',trans)\n",
        "  except:\n",
        "    print('got an error ...., skipping article....')\n",
        "print(f'\\nYou have {len(blob_full)} total blobs from {i+1} different articles')\n",
        "\n",
        "# Break articles into sentences to conduct keyword search\n",
        "# in next step\n",
        "blob_sentences = []\n",
        "\n",
        "for i in range(len(blob_full)):\n",
        "  for item in blob_full[i].sentences:\n",
        "    blob_sentences.append(item)\n",
        "print(f'\\nYou have {len(blob_sentences)} sentences from {i} different articles')"
      ],
      "execution_count": null,
      "outputs": [
        {
          "output_type": "stream",
          "text": [
            "Length of Soup List: 161\n",
            "Length of out_list: 127\n",
            "\n",
            "You have 127 total blobs from 127 different articles\n",
            "\n",
            "You have 3340 sentences from 126 different articles\n"
          ],
          "name": "stdout"
        }
      ]
    },
    {
      "cell_type": "code",
      "metadata": {
        "id": "vtYt-wdCyHkG",
        "colab_type": "code",
        "colab": {
          "base_uri": "https://localhost:8080/",
          "height": 34
        },
        "outputId": "0dbba256-dcd5-4b78-81ac-cd84e5026e07"
      },
      "source": [
        "print(type(blob_sentences[0]))"
      ],
      "execution_count": null,
      "outputs": [
        {
          "output_type": "stream",
          "text": [
            "<class 'textblob.blob.Sentence'>\n"
          ],
          "name": "stdout"
        }
      ]
    },
    {
      "cell_type": "code",
      "metadata": {
        "id": "S-58emYSygoY",
        "colab_type": "code",
        "colab": {
          "base_uri": "https://localhost:8080/",
          "height": 68
        },
        "outputId": "05ec2dc3-3262-400e-b4be-b4d06143d3ac"
      },
      "source": [
        "blob_sentences[0]"
      ],
      "execution_count": null,
      "outputs": [
        {
          "output_type": "execute_result",
          "data": {
            "text/plain": [
              "Sentence(\"Be in Beijing because of the renewed\n",
              "increased spread of the corona virus ten more neighborhoods\n",
              "sealed off.\")"
            ]
          },
          "metadata": {
            "tags": []
          },
          "execution_count": 16
        }
      ]
    },
    {
      "cell_type": "code",
      "metadata": {
        "id": "bx-pnOz-yX8I",
        "colab_type": "code",
        "colab": {
          "base_uri": "https://localhost:8080/",
          "height": 136
        },
        "outputId": "f1f44fec-c748-4868-b5e7-da28cab0761d"
      },
      "source": [
        "blob_sentences[:3]"
      ],
      "execution_count": null,
      "outputs": [
        {
          "output_type": "execute_result",
          "data": {
            "text/plain": [
              "[Sentence(\"Be in Beijing because of the renewed\n",
              " increased spread of the corona virus ten more neighborhoods\n",
              " sealed off.\"), Sentence(\"A city administration representative said several\n",
              " new cases of infection are on a wholesale market in the northwest\n",
              " Attributed to Haidian District.\"), Sentence(\"Therefore the market and\n",
              " nearby schools closed as well as ten quarters of the area below\n",
              " Quarantined.\")]"
            ]
          },
          "metadata": {
            "tags": []
          },
          "execution_count": 15
        }
      ]
    },
    {
      "cell_type": "markdown",
      "metadata": {
        "id": "-XjoXSZDPHLr",
        "colab_type": "text"
      },
      "source": [
        "This is just a troubleshooting section to ensure you're `TextBlob` came out right. You should see a list of stentences, each starting with the word `Sentence`. Check this before moving to the next step."
      ]
    },
    {
      "cell_type": "code",
      "metadata": {
        "id": "h4fJQzcl5X3h",
        "colab_type": "code",
        "cellView": "form",
        "colab": {}
      },
      "source": [
        "#@title Hidden for Troubleshooting\n",
        "# print the first 6 sentences so you see what it looks like\n",
        "blob_full"
      ],
      "execution_count": null,
      "outputs": []
    },
    {
      "cell_type": "markdown",
      "metadata": {
        "id": "tGJmYoaJYF_n",
        "colab_type": "text"
      },
      "source": [
        "## <font color='skyblue'> Keyword Search </font>\n",
        "\n"
      ]
    },
    {
      "cell_type": "markdown",
      "metadata": {
        "id": "rkcNzckEPdOf",
        "colab_type": "text"
      },
      "source": [
        "<font color='orange'>Step 7.</font> Determine key words used to search for event of interest in all the articles"
      ]
    },
    {
      "cell_type": "code",
      "metadata": {
        "id": "2xN0ZSBJ510j",
        "colab_type": "code",
        "colab": {
          "base_uri": "https://localhost:8080/",
          "height": 119
        },
        "outputId": "e1cb8a96-bba4-4c10-9b1a-d9d3b2e11a27"
      },
      "source": [
        "# Allow user to type in key words to search the text for\n",
        "# Note this is case sensitive... so you need to make sure you enter your search \n",
        "# Try the entering the following to see some results: corona,COVID,death\n",
        "filter_list = input(\"Enter key words to search for separated by commas. don't use spaces.\\nSearch is case sensitive.\\nExample search: America,United States,USA,U.S.A.,US,U.S.\\n\\n\") #.title() # This is still a string... not a list yet\n",
        "\n",
        "# Split filter words and convert into a list for itterating in the next step \n",
        "\n",
        "f = []\n",
        "for word in (filter_list.split(\",\")):  # Split string into separate words, separate by comma\n",
        "  f.append(word)                       # Generate new list containing each key word\n",
        "print(f'\"Your list of search terms reformated: {f}')"
      ],
      "execution_count": null,
      "outputs": [
        {
          "output_type": "stream",
          "text": [
            "Enter key words to search for separated by commas. don't use spaces.\n",
            "Search is case sensitive.\n",
            "Example search: America,United States,USA,U.S.A.,US,U.S.\n",
            "\n",
            "America,United States,USA,U.S.A.,US,U.S.\n",
            "\"Your list of search terms reformated: ['America', 'United States', 'USA', 'U.S.A.', 'US', 'U.S.']\n"
          ],
          "name": "stdout"
        }
      ]
    },
    {
      "cell_type": "markdown",
      "metadata": {
        "id": "GTNasDzQLinR",
        "colab_type": "text"
      },
      "source": [
        "<font color='orange'>Step 8.</font> <font color='skyblue'> Search </font>  All sentences for Key Words and return only those consisting of a key word\n",
        "\n"
      ]
    },
    {
      "cell_type": "code",
      "metadata": {
        "id": "MXjYMd1-LUrT",
        "colab_type": "code",
        "colab": {
          "base_uri": "https://localhost:8080/",
          "height": 445
        },
        "outputId": "cc86f499-cbb1-4b00-a384-de580ad793e8"
      },
      "source": [
        "# Instantiate list for holding the sentences\n",
        "sentences = []\n",
        "\n",
        "# Generate empty list of lists to store the sentences with your key words in them\n",
        "for i in range(len(f)):\n",
        "  sentences.append([])\n",
        "#print('Here is what you just made, and empty list of lists: ', sentences, '\\n')\n",
        "\n",
        "# Generate lists of sentences for each key word and plug them into the list of lists from above            \n",
        "for i in range(len(f)):\n",
        "  for sentence in blob_sentences:\n",
        "    if f[i] in sentence:\n",
        "        sentences[i].append(sentence)\n",
        "\n",
        "# Print number of sentences containing each key word\n",
        "# Print out all sentences containing each key word\n",
        "for i in range(len(f)):\n",
        "  print('='*200)   \n",
        "  print('\\nThere are {} sentences containing the word: {} '.format(len(sentences[i]), f[i])) \n",
        "  print('-'*200)   \n",
        "  #for sentence in sentences[i]:\n",
        "      #print(sentence)\n",
        "\n",
        "# Print search results to text file\n",
        "file_Die_Zeit = open(\"MyFile_Die_Zeit.txt\", \"w\") \n",
        "file_Die_Zeit.write(str(sentences))\n",
        "file_Die_Zeit.close()"
      ],
      "execution_count": null,
      "outputs": [
        {
          "output_type": "stream",
          "text": [
            "========================================================================================================================================================================================================\n",
            "\n",
            "There are 8 sentences containing the word: America \n",
            "--------------------------------------------------------------------------------------------------------------------------------------------------------------------------------------------------------\n",
            "========================================================================================================================================================================================================\n",
            "\n",
            "There are 16 sentences containing the word: United States \n",
            "--------------------------------------------------------------------------------------------------------------------------------------------------------------------------------------------------------\n",
            "========================================================================================================================================================================================================\n",
            "\n",
            "There are 9 sentences containing the word: USA \n",
            "--------------------------------------------------------------------------------------------------------------------------------------------------------------------------------------------------------\n",
            "========================================================================================================================================================================================================\n",
            "\n",
            "There are 0 sentences containing the word: U.S.A. \n",
            "--------------------------------------------------------------------------------------------------------------------------------------------------------------------------------------------------------\n",
            "========================================================================================================================================================================================================\n",
            "\n",
            "There are 39 sentences containing the word: US \n",
            "--------------------------------------------------------------------------------------------------------------------------------------------------------------------------------------------------------\n",
            "========================================================================================================================================================================================================\n",
            "\n",
            "There are 4 sentences containing the word: U.S. \n",
            "--------------------------------------------------------------------------------------------------------------------------------------------------------------------------------------------------------\n"
          ],
          "name": "stdout"
        }
      ]
    },
    {
      "cell_type": "markdown",
      "metadata": {
        "id": "_PJsXX2zFVZC",
        "colab_type": "text"
      },
      "source": [
        "# <font color='orange'> Step 9. </font> Print <font color='skyblue'> Statistics </font> \n",
        "\n"
      ]
    },
    {
      "cell_type": "code",
      "metadata": {
        "id": "TvmVrqVxbAqb",
        "colab_type": "code",
        "colab": {
          "base_uri": "https://localhost:8080/",
          "height": 1000
        },
        "outputId": "de42a53c-8988-40aa-8550-3a0a6746a38d"
      },
      "source": [
        "# Print out sentiment values for each key word\n",
        "print('Sentence | Polarity | Subjectivity | Sentiment | Avg Sentiment')\n",
        "for i in range(len(f)):\n",
        "  print('\\n----------------------', f[i], '--------------------------------')\n",
        "  for j in range(len(sentences[i])):\n",
        "    polarity = sentences[i][j].sentiment[0]\n",
        "    subjectivity = sentences[i][j].sentiment[1]\n",
        "    bailey_sentiment = polarity * subjectivity\n",
        "\n",
        "    print(j, '       |', round(polarity, 2), '    |', round(subjectivity, 2), '        |', round(bailey_sentiment, 2), '     |', 'avg')\n",
        "  print('=============================================================')"
      ],
      "execution_count": null,
      "outputs": [
        {
          "output_type": "stream",
          "text": [
            "Sentence | Polarity | Subjectivity | Sentiment | Avg Sentiment\n",
            "\n",
            "---------------------- America --------------------------------\n",
            "0        | 0.04     | 0.47         | 0.02      | avg\n",
            "1        | 0.05     | 0.05         | 0.0      | avg\n",
            "2        | -0.06     | 0.19         | -0.01      | avg\n",
            "3        | 0.12     | 0.17         | 0.02      | avg\n",
            "4        | 0.17     | 0.33         | 0.06      | avg\n",
            "5        | 0.03     | 0.49         | 0.01      | avg\n",
            "6        | 0.2     | 0.2         | 0.04      | avg\n",
            "7        | 0.0     | 0.0         | 0.0      | avg\n",
            "=============================================================\n",
            "\n",
            "---------------------- United States --------------------------------\n",
            "0        | -0.18     | 0.46         | -0.09      | avg\n",
            "1        | 0.0     | 0.53         | 0.0      | avg\n",
            "2        | 0.05     | 0.08         | 0.0      | avg\n",
            "3        | -0.03     | 0.45         | -0.01      | avg\n",
            "4        | 0.01     | 0.41         | 0.0      | avg\n",
            "5        | 0.16     | 0.62         | 0.1      | avg\n",
            "6        | 0.16     | 0.54         | 0.09      | avg\n",
            "7        | 0.5     | 0.5         | 0.25      | avg\n",
            "8        | 0.0     | 0.0         | 0.0      | avg\n",
            "9        | 0.5     | 0.5         | 0.25      | avg\n",
            "10        | 0.8     | 0.75         | 0.6      | avg\n",
            "11        | 0.16     | 0.62         | 0.1      | avg\n",
            "12        | 0.5     | 0.5         | 0.25      | avg\n",
            "13        | 0.0     | 0.0         | 0.0      | avg\n",
            "14        | 0.0     | 0.0         | 0.0      | avg\n",
            "15        | -0.03     | 0.39         | -0.01      | avg\n",
            "=============================================================\n",
            "\n",
            "---------------------- USA --------------------------------\n",
            "0        | -0.07     | 0.43         | -0.03      | avg\n",
            "1        | 0.0     | 0.0         | 0.0      | avg\n",
            "2        | 0.06     | 0.41         | 0.02      | avg\n",
            "3        | 0.0     | 0.0         | 0.0      | avg\n",
            "4        | 0.0     | 0.0         | 0.0      | avg\n",
            "5        | -0.1     | 0.4         | -0.04      | avg\n",
            "6        | 0.14     | 0.48         | 0.07      | avg\n",
            "7        | 0.5     | 0.56         | 0.28      | avg\n",
            "8        | 0.22     | 0.52         | 0.11      | avg\n",
            "=============================================================\n",
            "\n",
            "---------------------- U.S.A. --------------------------------\n",
            "=============================================================\n",
            "\n",
            "---------------------- US --------------------------------\n",
            "0        | 0.0     | 0.0         | 0.0      | avg\n",
            "1        | -0.4     | 0.45         | -0.18      | avg\n",
            "2        | -0.05     | 0.19         | -0.01      | avg\n",
            "3        | 0.0     | 0.0         | 0.0      | avg\n",
            "4        | -0.35     | 0.51         | -0.18      | avg\n",
            "5        | 0.0     | 0.0         | 0.0      | avg\n",
            "6        | 0.0     | 0.0         | 0.0      | avg\n",
            "7        | 0.0     | 0.53         | 0.0      | avg\n",
            "8        | 0.25     | 0.33         | 0.08      | avg\n",
            "9        | 0.08     | 0.67         | 0.06      | avg\n",
            "10        | 0.17     | 0.75         | 0.12      | avg\n",
            "11        | 0.0     | 0.0         | 0.0      | avg\n",
            "12        | 0.16     | 0.54         | 0.09      | avg\n",
            "13        | 0.25     | 0.75         | 0.19      | avg\n",
            "14        | -0.07     | 0.43         | -0.03      | avg\n",
            "15        | 0.0     | 0.0         | 0.0      | avg\n",
            "16        | -0.33     | 0.67         | -0.22      | avg\n",
            "17        | 0.4     | 0.5         | 0.2      | avg\n",
            "18        | 0.15     | 0.5         | 0.07      | avg\n",
            "19        | 0.0     | 0.0         | 0.0      | avg\n",
            "20        | 0.0     | 0.0         | 0.0      | avg\n",
            "21        | 0.06     | 0.41         | 0.02      | avg\n",
            "22        | 0.0     | 0.0         | 0.0      | avg\n",
            "23        | 0.0     | 0.0         | 0.0      | avg\n",
            "24        | 0.05     | 0.45         | 0.02      | avg\n",
            "25        | -0.28     | 0.52         | -0.15      | avg\n",
            "26        | 0.03     | 0.13         | 0.0      | avg\n",
            "27        | 0.4     | 0.5         | 0.2      | avg\n",
            "28        | 0.0     | 0.0         | 0.0      | avg\n",
            "29        | 1.0     | 1.0         | 1.0      | avg\n",
            "30        | 0.25     | 0.3         | 0.07      | avg\n",
            "31        | -0.1     | 0.4         | -0.04      | avg\n",
            "32        | 0.14     | 0.48         | 0.07      | avg\n",
            "33        | 0.0     | 0.0         | 0.0      | avg\n",
            "34        | 0.07     | 0.23         | 0.02      | avg\n",
            "35        | 0.5     | 0.56         | 0.28      | avg\n",
            "36        | 0.22     | 0.52         | 0.11      | avg\n",
            "37        | 0.0     | 1.0         | 0.0      | avg\n",
            "38        | 0.1     | 0.41         | 0.04      | avg\n",
            "=============================================================\n",
            "\n",
            "---------------------- U.S. --------------------------------\n",
            "0        | 0.1     | 0.4         | 0.04      | avg\n",
            "1        | 0.05     | 0.57         | 0.03      | avg\n",
            "2        | 0.0     | 0.0         | 0.0      | avg\n",
            "3        | -0.17     | 0.17         | -0.03      | avg\n",
            "=============================================================\n"
          ],
          "name": "stdout"
        }
      ]
    },
    {
      "cell_type": "code",
      "metadata": {
        "id": "wUiWMWeYneoo",
        "colab_type": "code",
        "colab": {
          "base_uri": "https://localhost:8080/",
          "height": 68
        },
        "outputId": "ca6572ec-a8df-454d-da7d-e0ecf7afc251"
      },
      "source": [
        "# Test Section - This is used to test and see individual values to see if everything makes sense\n",
        "# Change the indicies in between the brackets to compare the different outputs\n",
        "print(sentences[0][0].sentiment)\n",
        "print(np.average(sentences[0][0].sentiment))\n",
        "print(round(np.average(sentences[0][0].sentiment), 3))"
      ],
      "execution_count": null,
      "outputs": [
        {
          "output_type": "stream",
          "text": [
            "Sentiment(polarity=0.04166666666666667, subjectivity=0.4666666666666667)\n",
            "0.25416666666666665\n",
            "0.254\n"
          ],
          "name": "stdout"
        }
      ]
    },
    {
      "cell_type": "markdown",
      "metadata": {
        "id": "iq9KqPFuD2Z7",
        "colab_type": "text"
      },
      "source": [
        "## Calculate <font color='yellow'> Sentiment </font>  for Each Key Word\n",
        "\n"
      ]
    },
    {
      "cell_type": "code",
      "metadata": {
        "id": "RAMTvqB3qNz5",
        "colab_type": "code",
        "colab": {
          "base_uri": "https://localhost:8080/",
          "height": 204
        },
        "outputId": "1d98aaef-dc9f-4ccb-d78f-10dcd161a07a"
      },
      "source": [
        "sentiment = []\n",
        "\n",
        "# Generate empty list of lists \n",
        "for i in range(len(f)):\n",
        "  sentiment.append([])\n",
        "\n",
        "#sentiment = [None] * len(f)\n",
        "\n",
        "print('---Average Sentiment---')\n",
        "for i in range(len(f)):\n",
        "  try:\n",
        "    for j in range(len(sentences[i])):\n",
        "      sentiment[i].append(sentences[i][j].sentiment[0] * sentences[i][j].sentiment[1])  \n",
        "      np.average(sentiment[i]) \n",
        "  except:\n",
        "    print('The List is Empty')\n",
        "  print(f[i], np.average(sentiment[i])) "
      ],
      "execution_count": null,
      "outputs": [
        {
          "output_type": "stream",
          "text": [
            "---Average Sentiment---\n",
            "America 0.01750037663567493\n",
            "United States 0.09587198622589532\n",
            "USA 0.04659520010713192\n",
            "U.S.A. nan\n",
            "US 0.04758482948495575\n",
            "U.S. 0.010243055555555557\n"
          ],
          "name": "stdout"
        },
        {
          "output_type": "stream",
          "text": [
            "/usr/local/lib/python3.6/dist-packages/numpy/lib/function_base.py:393: RuntimeWarning: Mean of empty slice.\n",
            "  avg = a.mean(axis)\n",
            "/usr/local/lib/python3.6/dist-packages/numpy/core/_methods.py:161: RuntimeWarning: invalid value encountered in double_scalars\n",
            "  ret = ret.dtype.type(ret / rcount)\n"
          ],
          "name": "stderr"
        }
      ]
    },
    {
      "cell_type": "code",
      "metadata": {
        "id": "svccbOHJ2pp9",
        "colab_type": "code",
        "colab": {
          "base_uri": "https://localhost:8080/",
          "height": 153
        },
        "outputId": "f49c187a-11d1-4c8d-eb81-4f2add910644"
      },
      "source": [
        "# Test Section - This is used to test and see individual values to see if everything makes sense\n",
        "# Change the indicies in between the brackets to compare the different outputs\n",
        "print('1', np.average(sentiment[0]))\n",
        "print('2', np.average(sentiment[1]))\n",
        "print('3', np.average(sentiment[2]))\n",
        "print('4', np.average(sentiment[3]))"
      ],
      "execution_count": null,
      "outputs": [
        {
          "output_type": "stream",
          "text": [
            "1 0.01750037663567493\n",
            "2 0.09587198622589532\n",
            "3 0.04659520010713192\n",
            "4 nan\n"
          ],
          "name": "stdout"
        },
        {
          "output_type": "stream",
          "text": [
            "/usr/local/lib/python3.6/dist-packages/numpy/lib/function_base.py:393: RuntimeWarning: Mean of empty slice.\n",
            "  avg = a.mean(axis)\n",
            "/usr/local/lib/python3.6/dist-packages/numpy/core/_methods.py:161: RuntimeWarning: invalid value encountered in double_scalars\n",
            "  ret = ret.dtype.type(ret / rcount)\n"
          ],
          "name": "stderr"
        }
      ]
    },
    {
      "cell_type": "markdown",
      "metadata": {
        "id": "zeheY8NR5Wfq",
        "colab_type": "text"
      },
      "source": [
        "## <font color='orange'> Plot Resutls  </font> \n",
        "\n",
        "---\n",
        "\n"
      ]
    },
    {
      "cell_type": "code",
      "metadata": {
        "colab_type": "code",
        "id": "67x90m1TBxe_",
        "colab": {
          "base_uri": "https://localhost:8080/",
          "height": 34
        },
        "outputId": "da2c58e6-5892-426c-d938-9be591b5cf3a"
      },
      "source": [
        "xaxis = []\n",
        "for i in range(len(sentiment[0])): # sentiment[0] is the list of sentiments for the first key word\n",
        "  xaxis.append(i)\n",
        "print(\"The xaxis is {}.\".format(xaxis))"
      ],
      "execution_count": null,
      "outputs": [
        {
          "output_type": "stream",
          "text": [
            "The xaxis is [0, 1, 2, 3, 4, 5, 6, 7].\n"
          ],
          "name": "stdout"
        }
      ]
    },
    {
      "cell_type": "code",
      "metadata": {
        "colab_type": "code",
        "id": "ttvo-BHkBy4f",
        "colab": {
          "base_uri": "https://localhost:8080/",
          "height": 312
        },
        "outputId": "5b5be144-4e99-45dd-ec37-953bfa9d9f70"
      },
      "source": [
        "plt.scatter(xaxis, sentiment[0])\n",
        "plt.grid()\n",
        "plt.title(f[0] + ' Sentiment Per Sentence', color='w')\n",
        "plt.xlabel('Sentence', color='w')\n",
        "plt.ylabel('Sentiment', color='w')\n",
        "plt.xticks(color='w')\n",
        "plt.yticks(color='w')\n",
        "plt.ylim(-1,1)"
      ],
      "execution_count": null,
      "outputs": [
        {
          "output_type": "execute_result",
          "data": {
            "text/plain": [
              "(-1.0, 1.0)"
            ]
          },
          "metadata": {
            "tags": []
          },
          "execution_count": 22
        },
        {
          "output_type": "display_data",
          "data": {
            "image/png": "[encoded data removed]",
            "text/plain": [
              "<Figure size 432x288 with 1 Axes>"
            ]
          },
          "metadata": {
            "tags": [],
            "needs_background": "dark"
          }
        }
      ]
    },
    {
      "cell_type": "code",
      "metadata": {
        "colab_type": "code",
        "id": "nkvKbMWP7QTO",
        "colab": {
          "base_uri": "https://localhost:8080/",
          "height": 34
        },
        "outputId": "d010919d-cd6c-4978-83a7-3ca2008c5946"
      },
      "source": [
        "xaxis = []\n",
        "for i in range(len(sentiment[2])): # sentiment[0] is the list of sentiments for the first key word\n",
        "  xaxis.append(i)\n",
        "print(\"The xaxis is {}.\".format(xaxis))"
      ],
      "execution_count": null,
      "outputs": [
        {
          "output_type": "stream",
          "text": [
            "The xaxis is [0, 1, 2, 3, 4, 5, 6, 7, 8].\n"
          ],
          "name": "stdout"
        }
      ]
    },
    {
      "cell_type": "code",
      "metadata": {
        "colab_type": "code",
        "id": "-myfLEP_7Yq0",
        "colab": {
          "base_uri": "https://localhost:8080/",
          "height": 312
        },
        "outputId": "7ab4086d-bc4b-4b46-8da4-6bda20cddbd0"
      },
      "source": [
        "plt.scatter(xaxis, sentiment[2])\n",
        "plt.grid()\n",
        "plt.title(f[2] + ' Sentiment Per Sentence', color='w')\n",
        "plt.xlabel('Sentence', color='w')\n",
        "plt.ylabel('Sentiment', color='w')\n",
        "plt.xticks(color='w')\n",
        "plt.yticks(color='w')\n",
        "plt.ylim(-1,1)"
      ],
      "execution_count": null,
      "outputs": [
        {
          "output_type": "execute_result",
          "data": {
            "text/plain": [
              "(-1.0, 1.0)"
            ]
          },
          "metadata": {
            "tags": []
          },
          "execution_count": 24
        },
        {
          "output_type": "display_data",
          "data": {
            "image/png": "[encoded data removed]",
            "text/plain": [
              "<Figure size 432x288 with 1 Axes>"
            ]
          },
          "metadata": {
            "tags": [],
            "needs_background": "dark"
          }
        }
      ]
    },
    {
      "cell_type": "markdown",
      "metadata": {
        "id": "HcOlndfh9XwA",
        "colab_type": "text"
      },
      "source": [
        "## <font color='black'>Step 10. Store All article data in DataFrame </font>  \n",
        "<font color='grey'>Note: This is not just the filtered data, this contains all information from each web page. While not used in this project, it represents all of the original data used in this run. It can be used for reference.</font> "
      ]
    },
    {
      "cell_type": "code",
      "metadata": {
        "id": "Kjj8Wi-4yOSf",
        "colab_type": "code",
        "colab": {
          "base_uri": "https://localhost:8080/",
          "height": 1000
        },
        "outputId": "ec4a46e5-26f2-4f01-a01c-a1825e9c57c9"
      },
      "source": [
        "# Put parsed data into Pandas DataFrame\n",
        "df = pd.DataFrame(out_list)\n",
        "df"
      ],
      "execution_count": null,
      "outputs": [
        {
          "output_type": "execute_result",
          "data": {
            "text/html": [
              "<div>\n",
              "<style scoped>\n",
              "    .dataframe tbody tr th:only-of-type {\n",
              "        vertical-align: middle;\n",
              "    }\n",
              "\n",
              "    .dataframe tbody tr th {\n",
              "        vertical-align: top;\n",
              "    }\n",
              "\n",
              "    .dataframe thead th {\n",
              "        text-align: right;\n",
              "    }\n",
              "</style>\n",
              "<table border=\"1\" class=\"dataframe\">\n",
              "  <thead>\n",
              "    <tr style=\"text-align: right;\">\n",
              "      <th></th>\n",
              "      <th>Text</th>\n",
              "      <th>url</th>\n",
              "    </tr>\n",
              "  </thead>\n",
              "  <tbody>\n",
              "    <tr>\n",
              "      <th>0</th>\n",
              "      <td>Urlaubsgäste aus den Kreisen Gütersloh und War...</td>\n",
              "      <td>https://www.zeit.de/gesellschaft/2020-06/coron...</td>\n",
              "    </tr>\n",
              "    <tr>\n",
              "      <th>1</th>\n",
              "      <td>Trotz Kontaktbeschränkungen sind Zehntausende ...</td>\n",
              "      <td>https://www.zeit.de/gesellschaft/2020-06/gross...</td>\n",
              "    </tr>\n",
              "    <tr>\n",
              "      <th>2</th>\n",
              "      <td>Maskenpflicht in Zügen und Flugzeugen, Einbahn...</td>\n",
              "      <td>https://www.zeit.de/gesellschaft/zeitgeschehen...</td>\n",
              "    </tr>\n",
              "    <tr>\n",
              "      <th>3</th>\n",
              "      <td>Mehr als ein Dutzend verletzte Polizisten und ...</td>\n",
              "      <td>https://www.zeit.de/gesellschaft/zeitgeschehen...</td>\n",
              "    </tr>\n",
              "    <tr>\n",
              "      <th>4</th>\n",
              "      <td>Die Zahl der Sterbefälle in Deutschland im Mai...</td>\n",
              "      <td>https://www.zeit.de/gesellschaft/2020-06/coron...</td>\n",
              "    </tr>\n",
              "    <tr>\n",
              "      <th>5</th>\n",
              "      <td>In der Schweiz soll die Ehe für alle zugelasse...</td>\n",
              "      <td>https://www.zeit.de/gesellschaft/familie/2020-...</td>\n",
              "    </tr>\n",
              "    <tr>\n",
              "      <th>6</th>\n",
              "      <td>Ein Londoner Gericht hat einen Mann mit IS-Ver...</td>\n",
              "      <td>https://www.zeit.de/gesellschaft/zeitgeschehen...</td>\n",
              "    </tr>\n",
              "    <tr>\n",
              "      <th>7</th>\n",
              "      <td>Nach den Ausschreitungen in der Stuttgarter In...</td>\n",
              "      <td>https://www.zeit.de/gesellschaft/zeitgeschehen...</td>\n",
              "    </tr>\n",
              "    <tr>\n",
              "      <th>8</th>\n",
              "      <td>Das Ziel des gemeinsamen Lernens von Schülerin...</td>\n",
              "      <td>https://www.zeit.de/gesellschaft/schule/2020-0...</td>\n",
              "    </tr>\n",
              "    <tr>\n",
              "      <th>9</th>\n",
              "      <td>In Göttingen haben Bewohner und Bewohnerinnen ...</td>\n",
              "      <td>https://www.zeit.de/gesellschaft/2020-06/goett...</td>\n",
              "    </tr>\n",
              "    <tr>\n",
              "      <th>10</th>\n",
              "      <td>Immer mehr Mädchen und Frauen in Deutschland w...</td>\n",
              "      <td>https://www.zeit.de/gesellschaft/zeitgeschehen...</td>\n",
              "    </tr>\n",
              "    <tr>\n",
              "      <th>11</th>\n",
              "      <td>Umweltaktivisten haben die Braunkohlegelände G...</td>\n",
              "      <td>https://www.zeit.de/wirtschaft/2020-06/braunko...</td>\n",
              "    </tr>\n",
              "    <tr>\n",
              "      <th>12</th>\n",
              "      <td>Die Bundesregierung stellt den wegen der Coron...</td>\n",
              "      <td>https://www.zeit.de/gesellschaft/zeitgeschehen...</td>\n",
              "    </tr>\n",
              "    <tr>\n",
              "      <th>13</th>\n",
              "      <td>In der schottischen Stadt Glasgow sind mehrere...</td>\n",
              "      <td>https://www.zeit.de/gesellschaft/zeitgeschehen...</td>\n",
              "    </tr>\n",
              "    <tr>\n",
              "      <th>14</th>\n",
              "      <td>Der tödliche Ebola-Ausbruch im Osten der Demok...</td>\n",
              "      <td>https://www.zeit.de/gesellschaft/zeitgeschehen...</td>\n",
              "    </tr>\n",
              "    <tr>\n",
              "      <th>15</th>\n",
              "      <td>\\nSeit gut einer Woche können Studierende Noth...</td>\n",
              "      <td>https://www.zeit.de/gesellschaft/zeitgeschehen...</td>\n",
              "    </tr>\n",
              "    <tr>\n",
              "      <th>16</th>\n",
              "      <td>Mehr als eine halbe Million Menschen sind im v...</td>\n",
              "      <td>https://www.zeit.de/gesellschaft/zeitgeschehen...</td>\n",
              "    </tr>\n",
              "    <tr>\n",
              "      <th>17</th>\n",
              "      <td>Eltern sollen staatliche Leistungen für ihr Ki...</td>\n",
              "      <td>https://www.zeit.de/gesellschaft/familie/2020-...</td>\n",
              "    </tr>\n",
              "    <tr>\n",
              "      <th>18</th>\n",
              "      <td>Von Madame de Staël stammt der Spruch: \"Alles ...</td>\n",
              "      <td>https://www.zeit.de/gesellschaft/zeitgeschehen...</td>\n",
              "    </tr>\n",
              "    <tr>\n",
              "      <th>19</th>\n",
              "      <td>Mütter verdienen einer Studie zufolge aufs ges...</td>\n",
              "      <td>https://www.zeit.de/gesellschaft/familie/2020-...</td>\n",
              "    </tr>\n",
              "    <tr>\n",
              "      <th>20</th>\n",
              "      <td>Das deutsche Rettungsschiff Sea-Watch 3 mit 21...</td>\n",
              "      <td>https://www.zeit.de/gesellschaft/zeitgeschehen...</td>\n",
              "    </tr>\n",
              "    <tr>\n",
              "      <th>21</th>\n",
              "      <td>Eine junge Mutter aus bürgerlichen Verhältniss...</td>\n",
              "      <td>https://www.zeit.de/gesellschaft/2020-06/mord-...</td>\n",
              "    </tr>\n",
              "    <tr>\n",
              "      <th>22</th>\n",
              "      <td>\\nDie\\ngriechische Regierung will die überfüll...</td>\n",
              "      <td>https://www.zeit.de/gesellschaft/zeitgeschehen...</td>\n",
              "    </tr>\n",
              "    <tr>\n",
              "      <th>23</th>\n",
              "      <td>Bei Protesten gegen die Wiedereröffnung des Pa...</td>\n",
              "      <td>https://www.zeit.de/gesellschaft/zeitgeschehen...</td>\n",
              "    </tr>\n",
              "    <tr>\n",
              "      <th>24</th>\n",
              "      <td>Rassismus ordnet unser Denken und Zusammenlebe...</td>\n",
              "      <td>https://www.zeit.de/gesellschaft/zeitgeschehen...</td>\n",
              "    </tr>\n",
              "    <tr>\n",
              "      <th>25</th>\n",
              "      <td>Nach einem größeren Corona-Ausbruch in einem S...</td>\n",
              "      <td>https://www.zeit.de/gesellschaft/zeitgeschehen...</td>\n",
              "    </tr>\n",
              "    <tr>\n",
              "      <th>26</th>\n",
              "      <td>Rassismus ordnet unser Denken und Zusammenleb...</td>\n",
              "      <td>https://www.zeit.de/gesellschaft/zeitgeschehen...</td>\n",
              "    </tr>\n",
              "    <tr>\n",
              "      <th>27</th>\n",
              "      <td>Der Schwerpunkt des neuen Nationalen Bildungsb...</td>\n",
              "      <td>https://www.zeit.de/gesellschaft/schule/2020-0...</td>\n",
              "    </tr>\n",
              "    <tr>\n",
              "      <th>28</th>\n",
              "      <td>Viel Zeit allein zu Hause, Langeweile, finanzi...</td>\n",
              "      <td>https://www.zeit.de/wissen/gesundheit/2020-05/...</td>\n",
              "    </tr>\n",
              "    <tr>\n",
              "      <th>29</th>\n",
              "      <td>Bundesbildungsministerin Anja Karliczek hält d...</td>\n",
              "      <td>https://www.zeit.de/gesellschaft/schule/2020-0...</td>\n",
              "    </tr>\n",
              "    <tr>\n",
              "      <th>30</th>\n",
              "      <td>Stuttgart, 36 Stunden danach. Über die Königst...</td>\n",
              "      <td>https://www.zeit.de/gesellschaft/zeitgeschehen...</td>\n",
              "    </tr>\n",
              "    <tr>\n",
              "      <th>31</th>\n",
              "      <td>In Göttingen ist die Quarantäne für ein komple...</td>\n",
              "      <td>https://www.zeit.de/gesellschaft/zeitgeschehen...</td>\n",
              "    </tr>\n",
              "    <tr>\n",
              "      <th>32</th>\n",
              "      <td>Nach dem Corona-Ausbruch beim Fleischverarbeit...</td>\n",
              "      <td>https://www.zeit.de/gesellschaft/zeitgeschehen...</td>\n",
              "    </tr>\n",
              "    <tr>\n",
              "      <th>33</th>\n",
              "      <td>Bei regionalen Corona-Ausbrüchen sollten nach ...</td>\n",
              "      <td>https://www.zeit.de/gesellschaft/zeitgeschehen...</td>\n",
              "    </tr>\n",
              "  </tbody>\n",
              "</table>\n",
              "</div>"
            ],
            "text/plain": [
              "                                                 Text                                                url\n",
              "0   Urlaubsgäste aus den Kreisen Gütersloh und War...  https://www.zeit.de/gesellschaft/2020-06/coron...\n",
              "1   Trotz Kontaktbeschränkungen sind Zehntausende ...  https://www.zeit.de/gesellschaft/2020-06/gross...\n",
              "2   Maskenpflicht in Zügen und Flugzeugen, Einbahn...  https://www.zeit.de/gesellschaft/zeitgeschehen...\n",
              "3   Mehr als ein Dutzend verletzte Polizisten und ...  https://www.zeit.de/gesellschaft/zeitgeschehen...\n",
              "4   Die Zahl der Sterbefälle in Deutschland im Mai...  https://www.zeit.de/gesellschaft/2020-06/coron...\n",
              "5   In der Schweiz soll die Ehe für alle zugelasse...  https://www.zeit.de/gesellschaft/familie/2020-...\n",
              "6   Ein Londoner Gericht hat einen Mann mit IS-Ver...  https://www.zeit.de/gesellschaft/zeitgeschehen...\n",
              "7   Nach den Ausschreitungen in der Stuttgarter In...  https://www.zeit.de/gesellschaft/zeitgeschehen...\n",
              "8   Das Ziel des gemeinsamen Lernens von Schülerin...  https://www.zeit.de/gesellschaft/schule/2020-0...\n",
              "9   In Göttingen haben Bewohner und Bewohnerinnen ...  https://www.zeit.de/gesellschaft/2020-06/goett...\n",
              "10  Immer mehr Mädchen und Frauen in Deutschland w...  https://www.zeit.de/gesellschaft/zeitgeschehen...\n",
              "11  Umweltaktivisten haben die Braunkohlegelände G...  https://www.zeit.de/wirtschaft/2020-06/braunko...\n",
              "12  Die Bundesregierung stellt den wegen der Coron...  https://www.zeit.de/gesellschaft/zeitgeschehen...\n",
              "13  In der schottischen Stadt Glasgow sind mehrere...  https://www.zeit.de/gesellschaft/zeitgeschehen...\n",
              "14  Der tödliche Ebola-Ausbruch im Osten der Demok...  https://www.zeit.de/gesellschaft/zeitgeschehen...\n",
              "15  \\nSeit gut einer Woche können Studierende Noth...  https://www.zeit.de/gesellschaft/zeitgeschehen...\n",
              "16  Mehr als eine halbe Million Menschen sind im v...  https://www.zeit.de/gesellschaft/zeitgeschehen...\n",
              "17  Eltern sollen staatliche Leistungen für ihr Ki...  https://www.zeit.de/gesellschaft/familie/2020-...\n",
              "18  Von Madame de Staël stammt der Spruch: \"Alles ...  https://www.zeit.de/gesellschaft/zeitgeschehen...\n",
              "19  Mütter verdienen einer Studie zufolge aufs ges...  https://www.zeit.de/gesellschaft/familie/2020-...\n",
              "20  Das deutsche Rettungsschiff Sea-Watch 3 mit 21...  https://www.zeit.de/gesellschaft/zeitgeschehen...\n",
              "21  Eine junge Mutter aus bürgerlichen Verhältniss...  https://www.zeit.de/gesellschaft/2020-06/mord-...\n",
              "22  \\nDie\\ngriechische Regierung will die überfüll...  https://www.zeit.de/gesellschaft/zeitgeschehen...\n",
              "23  Bei Protesten gegen die Wiedereröffnung des Pa...  https://www.zeit.de/gesellschaft/zeitgeschehen...\n",
              "24  Rassismus ordnet unser Denken und Zusammenlebe...  https://www.zeit.de/gesellschaft/zeitgeschehen...\n",
              "25  Nach einem größeren Corona-Ausbruch in einem S...  https://www.zeit.de/gesellschaft/zeitgeschehen...\n",
              "26   Rassismus ordnet unser Denken und Zusammenleb...  https://www.zeit.de/gesellschaft/zeitgeschehen...\n",
              "27  Der Schwerpunkt des neuen Nationalen Bildungsb...  https://www.zeit.de/gesellschaft/schule/2020-0...\n",
              "28  Viel Zeit allein zu Hause, Langeweile, finanzi...  https://www.zeit.de/wissen/gesundheit/2020-05/...\n",
              "29  Bundesbildungsministerin Anja Karliczek hält d...  https://www.zeit.de/gesellschaft/schule/2020-0...\n",
              "30  Stuttgart, 36 Stunden danach. Über die Königst...  https://www.zeit.de/gesellschaft/zeitgeschehen...\n",
              "31  In Göttingen ist die Quarantäne für ein komple...  https://www.zeit.de/gesellschaft/zeitgeschehen...\n",
              "32  Nach dem Corona-Ausbruch beim Fleischverarbeit...  https://www.zeit.de/gesellschaft/zeitgeschehen...\n",
              "33  Bei regionalen Corona-Ausbrüchen sollten nach ...  https://www.zeit.de/gesellschaft/zeitgeschehen..."
            ]
          },
          "metadata": {
            "tags": []
          },
          "execution_count": 91
        }
      ]
    },
    {
      "cell_type": "markdown",
      "metadata": {
        "colab_type": "text",
        "id": "48nPt4bV0II1"
      },
      "source": [
        "<font color='orange'>Step 8.</font> <font color='skyblue'> Search </font>  All sentences for Key Words and return only those consisting of a key word\n",
        "\n"
      ]
    }
  ]
}